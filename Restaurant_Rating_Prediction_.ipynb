{
  "nbformat": 4,
  "nbformat_minor": 0,
  "metadata": {
    "colab": {
      "provenance": []
    },
    "kernelspec": {
      "name": "python3",
      "display_name": "Python 3"
    },
    "language_info": {
      "name": "python"
    }
  },
  "cells": [
    {
      "cell_type": "markdown",
      "source": [
        "**ABSTRACT**"
      ],
      "metadata": {
        "id": "QfYnsVq7qCrD"
      }
    },
    {
      "cell_type": "markdown",
      "source": [
        "Zomato is one of the best online food delivery apps which gives the users the ratings and the reviews on restaurants all over india.These ratings and the Reviews are considered as one of the most important deciding factors which determine how good a restaurant is.\n",
        "\n",
        "\n",
        "We will therefore use the real time Data set with variuos features a user would look into regarding a restaurant. We will be considering Banglore City in this analysis.\n",
        "\n",
        "Content The basic idea of analyzing the Zomato dataset is to get a fair idea about the factors affecting the establishment of different types of restaurant at different places in Bengaluru, aggregate rating of each restaurant, Bengaluru being one such city has more than 12,000 restaurants with restaurants serving dishes from all over the world.\n",
        "\n",
        "With each day new restaurants opening the industry has’nt been saturated yet and the demand is increasing day by day. Inspite of increasing demand it however has become difficult for new restaurants to compete with established restaurants. Most of them serving the same food. Bengaluru being an IT capital of India. Most of the people here are dependent mainly on the restaurant food as they don’t have time to cook for themselves.\n",
        "\n",
        "With such an overwhelming demand of restaurants it has therefore become important to study the demography of a location. What kind of a food is more popular in a locality. Do the entire locality loves vegetarian food. If yes then is that locality populated by a particular sect of people for eg. Jain, Marwaris, Gujaratis who are mostly vegetarian. These kind of analysis can be done using the data, by studying the factors such as\n",
        "\n",
        "• Location of the restaurant\n",
        "• Approx Price of food\n",
        "• Theme based restaurant or not\n",
        "• Which locality of that city serves that cuisines with maximum number of restaurants\n",
        "• The needs of people who are striving to get the best cuisine of the neighborhood\n",
        "• Is a particular neighborhood famous for its own kind of food.\n",
        "\n",
        "“Just so that you have a good meal the next time you step out”\n",
        "\n",
        "The data is accurate to that available on the zomato website until 15 March 2019. The data was scraped from Zomato in two phase. After going through the structure of the website I found that for each neighborhood there are 6-7 category of restaurants viz. Buffet, Cafes, Delivery, Desserts, Dine-out, Drinks & nightlife, Pubs and bars.\n",
        "\n",
        "Phase I,\n",
        "\n",
        "In Phase I of extraction only the URL, name and address of the restaurant were extracted which were visible on the front page. The URl's for each of the restaurants on the zomato were recorded in the csv file so that later the data can be extracted individually for each restaurant. This made the extraction process easier and reduced the extra load on my machine. The data for each neighborhood and each category can be found here\n",
        "\n",
        "Phase II,\n",
        "\n",
        "In Phase II the recorded data for each restaurant and each category was read and data for each restaurant was scraped individually. 15 variables were scraped in this phase. For each of the neighborhood and for each category their onlineorder, booktable, rate, votes, phone, location, resttype, dishliked, cuisines, approxcost(for two people), reviewslist, menu_item was extracted. See section 5 for more details about the variables.\n",
        "\n",
        "Acknowledgements The data scraped was entirely for educational purposes only. Note that I don’t claim any copyright for the data. All copyrights for the data is owned by Zomato Media Pvt. Ltd..\n",
        "\n",
        "        Source: Kaggle"
      ],
      "metadata": {
        "id": "QDFs4CDoqMG_"
      }
    },
    {
      "cell_type": "markdown",
      "source": [
        "**Main Objective:**"
      ],
      "metadata": {
        "id": "mWQdNUvArHMs"
      }
    },
    {
      "cell_type": "markdown",
      "source": [
        "The main agenda of this project is:\n",
        "\n",
        "\n",
        "*   Perform extensive Exploratory Data Analysis(EDA) on the Zomato Dataset.\n",
        "\n",
        "\n",
        "\n",
        "\n",
        "*  Build an appropriate Machine Learning Model that will help various Zomato Restaurants to predict their respective Ratings based on certain features\n",
        "\n",
        "\n",
        "\n",
        "\n",
        "*   DEPLOY the Machine learning model via Flask that can be used to make live predictions of restaurants ratings\n",
        "\n",
        "\n",
        "\n",
        "\n",
        "A step by step guide is attached to this documnet as well as a video explanation of each concpet."
      ],
      "metadata": {
        "id": "4RYAMhourO0k"
      }
    },
    {
      "cell_type": "code",
      "source": [
        "#IMPORT THE NECESSARY LIBRARIES\n",
        "\n",
        "import pandas as pd\n",
        "import numpy as np\n",
        "import matplotlib.pyplot as plt\n",
        "import plotly.graph_objs as go\n",
        "import plotly.offline as py\n",
        "import seaborn as sns\n",
        "\n",
        "import matplotlib.ticker as mtick\n",
        "plt.style.use('fivethirtyeight')\n",
        "from sklearn.linear_model import LogisticRegression\n",
        "from sklearn.linear_model import LinearRegression\n",
        "from sklearn.ensemble import  ExtraTreesRegressor\n",
        "from sklearn.model_selection import train_test_split\n",
        "\n",
        "import warnings\n",
        "warnings.filterwarnings('ignore')\n",
        "%matplotlib inline"
      ],
      "metadata": {
        "id": "lnCWQUHCpqpV"
      },
      "execution_count": null,
      "outputs": []
    },
    {
      "cell_type": "markdown",
      "source": [
        "**LOAD DATASET**"
      ],
      "metadata": {
        "id": "UNB4I8TzsSVA"
      }
    },
    {
      "cell_type": "code",
      "source": [
        "data = pd.read_csv('/content/drive/MyDrive/zomato.csv')"
      ],
      "metadata": {
        "id": "PGL6fGBMsMxA"
      },
      "execution_count": null,
      "outputs": []
    },
    {
      "cell_type": "code",
      "source": [
        "data.head()"
      ],
      "metadata": {
        "colab": {
          "base_uri": "https://localhost:8080/",
          "height": 652
        },
        "id": "RcaIjzdEsb-J",
        "outputId": "e4a46008-f258-483c-8c2e-043b842ec8d7"
      },
      "execution_count": null,
      "outputs": [
        {
          "output_type": "execute_result",
          "data": {
            "text/plain": [
              "                                                 url  \\\n",
              "0  https://www.zomato.com/bangalore/jalsa-banasha...   \n",
              "1  https://www.zomato.com/bangalore/spice-elephan...   \n",
              "2  https://www.zomato.com/SanchurroBangalore?cont...   \n",
              "3  https://www.zomato.com/bangalore/addhuri-udupi...   \n",
              "4  https://www.zomato.com/bangalore/grand-village...   \n",
              "\n",
              "                                             address                   name  \\\n",
              "0  942, 21st Main Road, 2nd Stage, Banashankari, ...                  Jalsa   \n",
              "1  2nd Floor, 80 Feet Road, Near Big Bazaar, 6th ...         Spice Elephant   \n",
              "2  1112, Next to KIMS Medical College, 17th Cross...        San Churro Cafe   \n",
              "3  1st Floor, Annakuteera, 3rd Stage, Banashankar...  Addhuri Udupi Bhojana   \n",
              "4  10, 3rd Floor, Lakshmi Associates, Gandhi Baza...          Grand Village   \n",
              "\n",
              "  online_order book_table   rate  votes                             phone  \\\n",
              "0          Yes        Yes  4.1/5    775    080 42297555\\r\\n+91 9743772233   \n",
              "1          Yes         No  4.1/5    787                      080 41714161   \n",
              "2          Yes         No  3.8/5    918                    +91 9663487993   \n",
              "3           No         No  3.7/5     88                    +91 9620009302   \n",
              "4           No         No  3.8/5    166  +91 8026612447\\r\\n+91 9901210005   \n",
              "\n",
              "       location            rest_type  \\\n",
              "0  Banashankari        Casual Dining   \n",
              "1  Banashankari        Casual Dining   \n",
              "2  Banashankari  Cafe, Casual Dining   \n",
              "3  Banashankari          Quick Bites   \n",
              "4  Basavanagudi        Casual Dining   \n",
              "\n",
              "                                          dish_liked  \\\n",
              "0  Pasta, Lunch Buffet, Masala Papad, Paneer Laja...   \n",
              "1  Momos, Lunch Buffet, Chocolate Nirvana, Thai G...   \n",
              "2  Churros, Cannelloni, Minestrone Soup, Hot Choc...   \n",
              "3                                        Masala Dosa   \n",
              "4                                Panipuri, Gol Gappe   \n",
              "\n",
              "                         cuisines approx_cost(for two people)  \\\n",
              "0  North Indian, Mughlai, Chinese                         800   \n",
              "1     Chinese, North Indian, Thai                         800   \n",
              "2          Cafe, Mexican, Italian                         800   \n",
              "3      South Indian, North Indian                         300   \n",
              "4        North Indian, Rajasthani                         600   \n",
              "\n",
              "                                        reviews_list menu_item  \\\n",
              "0  [('Rated 4.0', 'RATED\\n  A beautiful place to ...        []   \n",
              "1  [('Rated 4.0', 'RATED\\n  Had been here for din...        []   \n",
              "2  [('Rated 3.0', \"RATED\\n  Ambience is not that ...        []   \n",
              "3  [('Rated 4.0', \"RATED\\n  Great food and proper...        []   \n",
              "4  [('Rated 4.0', 'RATED\\n  Very good restaurant ...        []   \n",
              "\n",
              "  listed_in(type) listed_in(city)  \n",
              "0          Buffet    Banashankari  \n",
              "1          Buffet    Banashankari  \n",
              "2          Buffet    Banashankari  \n",
              "3          Buffet    Banashankari  \n",
              "4          Buffet    Banashankari  "
            ],
            "text/html": [
              "\n",
              "  <div id=\"df-5e6efb48-12dd-4e48-ae2e-f8c950878035\">\n",
              "    <div class=\"colab-df-container\">\n",
              "      <div>\n",
              "<style scoped>\n",
              "    .dataframe tbody tr th:only-of-type {\n",
              "        vertical-align: middle;\n",
              "    }\n",
              "\n",
              "    .dataframe tbody tr th {\n",
              "        vertical-align: top;\n",
              "    }\n",
              "\n",
              "    .dataframe thead th {\n",
              "        text-align: right;\n",
              "    }\n",
              "</style>\n",
              "<table border=\"1\" class=\"dataframe\">\n",
              "  <thead>\n",
              "    <tr style=\"text-align: right;\">\n",
              "      <th></th>\n",
              "      <th>url</th>\n",
              "      <th>address</th>\n",
              "      <th>name</th>\n",
              "      <th>online_order</th>\n",
              "      <th>book_table</th>\n",
              "      <th>rate</th>\n",
              "      <th>votes</th>\n",
              "      <th>phone</th>\n",
              "      <th>location</th>\n",
              "      <th>rest_type</th>\n",
              "      <th>dish_liked</th>\n",
              "      <th>cuisines</th>\n",
              "      <th>approx_cost(for two people)</th>\n",
              "      <th>reviews_list</th>\n",
              "      <th>menu_item</th>\n",
              "      <th>listed_in(type)</th>\n",
              "      <th>listed_in(city)</th>\n",
              "    </tr>\n",
              "  </thead>\n",
              "  <tbody>\n",
              "    <tr>\n",
              "      <th>0</th>\n",
              "      <td>https://www.zomato.com/bangalore/jalsa-banasha...</td>\n",
              "      <td>942, 21st Main Road, 2nd Stage, Banashankari, ...</td>\n",
              "      <td>Jalsa</td>\n",
              "      <td>Yes</td>\n",
              "      <td>Yes</td>\n",
              "      <td>4.1/5</td>\n",
              "      <td>775</td>\n",
              "      <td>080 42297555\\r\\n+91 9743772233</td>\n",
              "      <td>Banashankari</td>\n",
              "      <td>Casual Dining</td>\n",
              "      <td>Pasta, Lunch Buffet, Masala Papad, Paneer Laja...</td>\n",
              "      <td>North Indian, Mughlai, Chinese</td>\n",
              "      <td>800</td>\n",
              "      <td>[('Rated 4.0', 'RATED\\n  A beautiful place to ...</td>\n",
              "      <td>[]</td>\n",
              "      <td>Buffet</td>\n",
              "      <td>Banashankari</td>\n",
              "    </tr>\n",
              "    <tr>\n",
              "      <th>1</th>\n",
              "      <td>https://www.zomato.com/bangalore/spice-elephan...</td>\n",
              "      <td>2nd Floor, 80 Feet Road, Near Big Bazaar, 6th ...</td>\n",
              "      <td>Spice Elephant</td>\n",
              "      <td>Yes</td>\n",
              "      <td>No</td>\n",
              "      <td>4.1/5</td>\n",
              "      <td>787</td>\n",
              "      <td>080 41714161</td>\n",
              "      <td>Banashankari</td>\n",
              "      <td>Casual Dining</td>\n",
              "      <td>Momos, Lunch Buffet, Chocolate Nirvana, Thai G...</td>\n",
              "      <td>Chinese, North Indian, Thai</td>\n",
              "      <td>800</td>\n",
              "      <td>[('Rated 4.0', 'RATED\\n  Had been here for din...</td>\n",
              "      <td>[]</td>\n",
              "      <td>Buffet</td>\n",
              "      <td>Banashankari</td>\n",
              "    </tr>\n",
              "    <tr>\n",
              "      <th>2</th>\n",
              "      <td>https://www.zomato.com/SanchurroBangalore?cont...</td>\n",
              "      <td>1112, Next to KIMS Medical College, 17th Cross...</td>\n",
              "      <td>San Churro Cafe</td>\n",
              "      <td>Yes</td>\n",
              "      <td>No</td>\n",
              "      <td>3.8/5</td>\n",
              "      <td>918</td>\n",
              "      <td>+91 9663487993</td>\n",
              "      <td>Banashankari</td>\n",
              "      <td>Cafe, Casual Dining</td>\n",
              "      <td>Churros, Cannelloni, Minestrone Soup, Hot Choc...</td>\n",
              "      <td>Cafe, Mexican, Italian</td>\n",
              "      <td>800</td>\n",
              "      <td>[('Rated 3.0', \"RATED\\n  Ambience is not that ...</td>\n",
              "      <td>[]</td>\n",
              "      <td>Buffet</td>\n",
              "      <td>Banashankari</td>\n",
              "    </tr>\n",
              "    <tr>\n",
              "      <th>3</th>\n",
              "      <td>https://www.zomato.com/bangalore/addhuri-udupi...</td>\n",
              "      <td>1st Floor, Annakuteera, 3rd Stage, Banashankar...</td>\n",
              "      <td>Addhuri Udupi Bhojana</td>\n",
              "      <td>No</td>\n",
              "      <td>No</td>\n",
              "      <td>3.7/5</td>\n",
              "      <td>88</td>\n",
              "      <td>+91 9620009302</td>\n",
              "      <td>Banashankari</td>\n",
              "      <td>Quick Bites</td>\n",
              "      <td>Masala Dosa</td>\n",
              "      <td>South Indian, North Indian</td>\n",
              "      <td>300</td>\n",
              "      <td>[('Rated 4.0', \"RATED\\n  Great food and proper...</td>\n",
              "      <td>[]</td>\n",
              "      <td>Buffet</td>\n",
              "      <td>Banashankari</td>\n",
              "    </tr>\n",
              "    <tr>\n",
              "      <th>4</th>\n",
              "      <td>https://www.zomato.com/bangalore/grand-village...</td>\n",
              "      <td>10, 3rd Floor, Lakshmi Associates, Gandhi Baza...</td>\n",
              "      <td>Grand Village</td>\n",
              "      <td>No</td>\n",
              "      <td>No</td>\n",
              "      <td>3.8/5</td>\n",
              "      <td>166</td>\n",
              "      <td>+91 8026612447\\r\\n+91 9901210005</td>\n",
              "      <td>Basavanagudi</td>\n",
              "      <td>Casual Dining</td>\n",
              "      <td>Panipuri, Gol Gappe</td>\n",
              "      <td>North Indian, Rajasthani</td>\n",
              "      <td>600</td>\n",
              "      <td>[('Rated 4.0', 'RATED\\n  Very good restaurant ...</td>\n",
              "      <td>[]</td>\n",
              "      <td>Buffet</td>\n",
              "      <td>Banashankari</td>\n",
              "    </tr>\n",
              "  </tbody>\n",
              "</table>\n",
              "</div>\n",
              "      <button class=\"colab-df-convert\" onclick=\"convertToInteractive('df-5e6efb48-12dd-4e48-ae2e-f8c950878035')\"\n",
              "              title=\"Convert this dataframe to an interactive table.\"\n",
              "              style=\"display:none;\">\n",
              "        \n",
              "  <svg xmlns=\"http://www.w3.org/2000/svg\" height=\"24px\"viewBox=\"0 0 24 24\"\n",
              "       width=\"24px\">\n",
              "    <path d=\"M0 0h24v24H0V0z\" fill=\"none\"/>\n",
              "    <path d=\"M18.56 5.44l.94 2.06.94-2.06 2.06-.94-2.06-.94-.94-2.06-.94 2.06-2.06.94zm-11 1L8.5 8.5l.94-2.06 2.06-.94-2.06-.94L8.5 2.5l-.94 2.06-2.06.94zm10 10l.94 2.06.94-2.06 2.06-.94-2.06-.94-.94-2.06-.94 2.06-2.06.94z\"/><path d=\"M17.41 7.96l-1.37-1.37c-.4-.4-.92-.59-1.43-.59-.52 0-1.04.2-1.43.59L10.3 9.45l-7.72 7.72c-.78.78-.78 2.05 0 2.83L4 21.41c.39.39.9.59 1.41.59.51 0 1.02-.2 1.41-.59l7.78-7.78 2.81-2.81c.8-.78.8-2.07 0-2.86zM5.41 20L4 18.59l7.72-7.72 1.47 1.35L5.41 20z\"/>\n",
              "  </svg>\n",
              "      </button>\n",
              "      \n",
              "  <style>\n",
              "    .colab-df-container {\n",
              "      display:flex;\n",
              "      flex-wrap:wrap;\n",
              "      gap: 12px;\n",
              "    }\n",
              "\n",
              "    .colab-df-convert {\n",
              "      background-color: #E8F0FE;\n",
              "      border: none;\n",
              "      border-radius: 50%;\n",
              "      cursor: pointer;\n",
              "      display: none;\n",
              "      fill: #1967D2;\n",
              "      height: 32px;\n",
              "      padding: 0 0 0 0;\n",
              "      width: 32px;\n",
              "    }\n",
              "\n",
              "    .colab-df-convert:hover {\n",
              "      background-color: #E2EBFA;\n",
              "      box-shadow: 0px 1px 2px rgba(60, 64, 67, 0.3), 0px 1px 3px 1px rgba(60, 64, 67, 0.15);\n",
              "      fill: #174EA6;\n",
              "    }\n",
              "\n",
              "    [theme=dark] .colab-df-convert {\n",
              "      background-color: #3B4455;\n",
              "      fill: #D2E3FC;\n",
              "    }\n",
              "\n",
              "    [theme=dark] .colab-df-convert:hover {\n",
              "      background-color: #434B5C;\n",
              "      box-shadow: 0px 1px 3px 1px rgba(0, 0, 0, 0.15);\n",
              "      filter: drop-shadow(0px 1px 2px rgba(0, 0, 0, 0.3));\n",
              "      fill: #FFFFFF;\n",
              "    }\n",
              "  </style>\n",
              "\n",
              "      <script>\n",
              "        const buttonEl =\n",
              "          document.querySelector('#df-5e6efb48-12dd-4e48-ae2e-f8c950878035 button.colab-df-convert');\n",
              "        buttonEl.style.display =\n",
              "          google.colab.kernel.accessAllowed ? 'block' : 'none';\n",
              "\n",
              "        async function convertToInteractive(key) {\n",
              "          const element = document.querySelector('#df-5e6efb48-12dd-4e48-ae2e-f8c950878035');\n",
              "          const dataTable =\n",
              "            await google.colab.kernel.invokeFunction('convertToInteractive',\n",
              "                                                     [key], {});\n",
              "          if (!dataTable) return;\n",
              "\n",
              "          const docLinkHtml = 'Like what you see? Visit the ' +\n",
              "            '<a target=\"_blank\" href=https://colab.research.google.com/notebooks/data_table.ipynb>data table notebook</a>'\n",
              "            + ' to learn more about interactive tables.';\n",
              "          element.innerHTML = '';\n",
              "          dataTable['output_type'] = 'display_data';\n",
              "          await google.colab.output.renderOutput(dataTable, element);\n",
              "          const docLink = document.createElement('div');\n",
              "          docLink.innerHTML = docLinkHtml;\n",
              "          element.appendChild(docLink);\n",
              "        }\n",
              "      </script>\n",
              "    </div>\n",
              "  </div>\n",
              "  "
            ]
          },
          "metadata": {},
          "execution_count": 75
        }
      ]
    },
    {
      "cell_type": "markdown",
      "source": [
        "**Columns description**"
      ],
      "metadata": {
        "id": "wBamcmHFs2P6"
      }
    },
    {
      "cell_type": "markdown",
      "source": [
        "**url** contains the url of the restaurant in the zomato website\n",
        "\n",
        "**address** contains the address of the restaurant in Bengaluru\n",
        "\n",
        "**name** contains the name of the restaurant\n",
        "\n",
        "**online_order** whether online ordering is available in the restaurant or not\n",
        "\n",
        "**book_table** table book option available or not\n",
        "\n",
        "**rate** contains the overall rating of the restaurant out of 5\n",
        "\n",
        "**votes** contains total number of rating for the restaurant as of the above mentioned date\n",
        "\n",
        "**phone** contains the phone number of the restaurant\n",
        "\n",
        "**location** contains the neighborhood in which the restaurant is located\n",
        "\n",
        "**rest_type** restaurant type\n",
        "\n",
        "**dish_liked** dishes people liked in the restaurant\n",
        "\n",
        "**cuisines** food styles, separated by comma\n",
        "\n",
        "**approx_cost**(for two people) contains the approximate cost of meal for two people\n",
        "\n",
        "**reviews_list** list of tuples containing reviews for the restaurant, each tuple\n",
        "\n",
        "**menu_item** contains list of menus available in the restaurant\n",
        "\n",
        "**listed_in**(type) type of meal\n",
        "\n",
        "**listed_in(city)** contains the neighborhood in which the restaurant is listed"
      ],
      "metadata": {
        "id": "M1BwogIFtCI7"
      }
    },
    {
      "cell_type": "code",
      "source": [
        "data.shape"
      ],
      "metadata": {
        "colab": {
          "base_uri": "https://localhost:8080/"
        },
        "id": "zYvJY8r9se2f",
        "outputId": "b25478dc-93a5-45fc-d915-0d37afe8092d"
      },
      "execution_count": null,
      "outputs": [
        {
          "output_type": "execute_result",
          "data": {
            "text/plain": [
              "(51717, 17)"
            ]
          },
          "metadata": {},
          "execution_count": 76
        }
      ]
    },
    {
      "cell_type": "code",
      "source": [
        "data.dtypes #checking the data types\n",
        "     "
      ],
      "metadata": {
        "colab": {
          "base_uri": "https://localhost:8080/"
        },
        "id": "ITJNyvjPugJ0",
        "outputId": "5dee76ae-617a-4a77-a57f-9757e01acd74"
      },
      "execution_count": null,
      "outputs": [
        {
          "output_type": "execute_result",
          "data": {
            "text/plain": [
              "url                            object\n",
              "address                        object\n",
              "name                           object\n",
              "online_order                   object\n",
              "book_table                     object\n",
              "rate                           object\n",
              "votes                           int64\n",
              "phone                          object\n",
              "location                       object\n",
              "rest_type                      object\n",
              "dish_liked                     object\n",
              "cuisines                       object\n",
              "approx_cost(for two people)    object\n",
              "reviews_list                   object\n",
              "menu_item                      object\n",
              "listed_in(type)                object\n",
              "listed_in(city)                object\n",
              "dtype: object"
            ]
          },
          "metadata": {},
          "execution_count": 77
        }
      ]
    },
    {
      "cell_type": "code",
      "source": [
        "data.isna().sum() #Checking null values"
      ],
      "metadata": {
        "colab": {
          "base_uri": "https://localhost:8080/"
        },
        "id": "ntyJZEhuuiRC",
        "outputId": "de48bd67-b3a2-423d-de10-3dd533b47608"
      },
      "execution_count": null,
      "outputs": [
        {
          "output_type": "execute_result",
          "data": {
            "text/plain": [
              "url                                0\n",
              "address                            0\n",
              "name                               0\n",
              "online_order                       0\n",
              "book_table                         0\n",
              "rate                            7775\n",
              "votes                              0\n",
              "phone                           1208\n",
              "location                          21\n",
              "rest_type                        227\n",
              "dish_liked                     28078\n",
              "cuisines                          45\n",
              "approx_cost(for two people)      346\n",
              "reviews_list                       0\n",
              "menu_item                          0\n",
              "listed_in(type)                    0\n",
              "listed_in(city)                    0\n",
              "dtype: int64"
            ]
          },
          "metadata": {},
          "execution_count": 78
        }
      ]
    },
    {
      "cell_type": "code",
      "source": [
        "#You can use pandas profiling to get an over all overview of the dataset\n",
        "# import pandas_profiling as pf\n",
        "\n",
        "# pf.ProfileReport(df)"
      ],
      "metadata": {
        "id": "d6VE7oRwulTn"
      },
      "execution_count": null,
      "outputs": []
    },
    {
      "cell_type": "code",
      "source": [
        "#Deleting Unnnecessary Columns\n",
        "df=data.drop(['url','phone'],axis=1) #Dropping the column like \"phone\" and \"url\" and saving the new dataset as \"df\""
      ],
      "metadata": {
        "id": "HLfLiXRfun4-"
      },
      "execution_count": null,
      "outputs": []
    },
    {
      "cell_type": "markdown",
      "source": [
        "**Checking for duplicate values**"
      ],
      "metadata": {
        "id": "tP0CZhVvut_S"
      }
    },
    {
      "cell_type": "code",
      "source": [
        "df.duplicated().sum()"
      ],
      "metadata": {
        "colab": {
          "base_uri": "https://localhost:8080/"
        },
        "id": "srwTsqN2uqx1",
        "outputId": "eb75d93e-b48d-4d9a-cac4-6a7074c8bfd0"
      },
      "execution_count": null,
      "outputs": [
        {
          "output_type": "execute_result",
          "data": {
            "text/plain": [
              "43"
            ]
          },
          "metadata": {},
          "execution_count": 81
        }
      ]
    },
    {
      "cell_type": "code",
      "source": [
        "df.drop_duplicates(inplace=True)"
      ],
      "metadata": {
        "id": "IqpTiYIKux7E"
      },
      "execution_count": null,
      "outputs": []
    },
    {
      "cell_type": "code",
      "source": [
        "df.duplicated().sum()"
      ],
      "metadata": {
        "colab": {
          "base_uri": "https://localhost:8080/"
        },
        "id": "00KnGp5Ju0WB",
        "outputId": "debfb3e3-12e1-4ae8-db2c-64e21baf65ea"
      },
      "execution_count": null,
      "outputs": [
        {
          "output_type": "execute_result",
          "data": {
            "text/plain": [
              "0"
            ]
          },
          "metadata": {},
          "execution_count": 83
        }
      ]
    },
    {
      "cell_type": "markdown",
      "source": [
        "**Drop null values**"
      ],
      "metadata": {
        "id": "MYZpcjPau5DY"
      }
    },
    {
      "cell_type": "code",
      "source": [
        "#Remove the NaN values from the dataset\n",
        "df.dropna(how='any',inplace=True)\n",
        "df.isnull().sum()  "
      ],
      "metadata": {
        "colab": {
          "base_uri": "https://localhost:8080/"
        },
        "id": "WN2cIr7Mu2pd",
        "outputId": "937a79ae-e234-434e-a07a-ac9a134ce5f0"
      },
      "execution_count": null,
      "outputs": [
        {
          "output_type": "execute_result",
          "data": {
            "text/plain": [
              "address                        0\n",
              "name                           0\n",
              "online_order                   0\n",
              "book_table                     0\n",
              "rate                           0\n",
              "votes                          0\n",
              "location                       0\n",
              "rest_type                      0\n",
              "dish_liked                     0\n",
              "cuisines                       0\n",
              "approx_cost(for two people)    0\n",
              "reviews_list                   0\n",
              "menu_item                      0\n",
              "listed_in(type)                0\n",
              "listed_in(city)                0\n",
              "dtype: int64"
            ]
          },
          "metadata": {},
          "execution_count": 84
        }
      ]
    },
    {
      "cell_type": "markdown",
      "source": [
        "**Renaming columes appropriately**"
      ],
      "metadata": {
        "id": "CDxjfn-BvBsv"
      }
    },
    {
      "cell_type": "code",
      "source": [
        "df.columns"
      ],
      "metadata": {
        "colab": {
          "base_uri": "https://localhost:8080/"
        },
        "id": "JnOArkOnu9Zn",
        "outputId": "f54e6c0a-36a9-474a-cac0-71c88c82d945"
      },
      "execution_count": null,
      "outputs": [
        {
          "output_type": "execute_result",
          "data": {
            "text/plain": [
              "Index(['address', 'name', 'online_order', 'book_table', 'rate', 'votes',\n",
              "       'location', 'rest_type', 'dish_liked', 'cuisines',\n",
              "       'approx_cost(for two people)', 'reviews_list', 'menu_item',\n",
              "       'listed_in(type)', 'listed_in(city)'],\n",
              "      dtype='object')"
            ]
          },
          "metadata": {},
          "execution_count": 85
        }
      ]
    },
    {
      "cell_type": "code",
      "source": [
        "df = df.rename(columns={'approx_cost(for two people)':'cost','listed_in(type)':'type',\n",
        "                                  'listed_in(city)':'city'})\n",
        "df.columns"
      ],
      "metadata": {
        "colab": {
          "base_uri": "https://localhost:8080/"
        },
        "id": "mVM98tvSvG6E",
        "outputId": "2016257f-a492-449e-8ca1-6619ca84fdc1"
      },
      "execution_count": null,
      "outputs": [
        {
          "output_type": "execute_result",
          "data": {
            "text/plain": [
              "Index(['address', 'name', 'online_order', 'book_table', 'rate', 'votes',\n",
              "       'location', 'rest_type', 'dish_liked', 'cuisines', 'cost',\n",
              "       'reviews_list', 'menu_item', 'type', 'city'],\n",
              "      dtype='object')"
            ]
          },
          "metadata": {},
          "execution_count": 86
        }
      ]
    },
    {
      "cell_type": "code",
      "source": [
        "df.head()"
      ],
      "metadata": {
        "colab": {
          "base_uri": "https://localhost:8080/",
          "height": 615
        },
        "id": "v8t3vaAsvJG_",
        "outputId": "228638d0-0a55-4f1d-871e-eb697177afae"
      },
      "execution_count": null,
      "outputs": [
        {
          "output_type": "execute_result",
          "data": {
            "text/plain": [
              "                                             address                   name  \\\n",
              "0  942, 21st Main Road, 2nd Stage, Banashankari, ...                  Jalsa   \n",
              "1  2nd Floor, 80 Feet Road, Near Big Bazaar, 6th ...         Spice Elephant   \n",
              "2  1112, Next to KIMS Medical College, 17th Cross...        San Churro Cafe   \n",
              "3  1st Floor, Annakuteera, 3rd Stage, Banashankar...  Addhuri Udupi Bhojana   \n",
              "4  10, 3rd Floor, Lakshmi Associates, Gandhi Baza...          Grand Village   \n",
              "\n",
              "  online_order book_table   rate  votes      location            rest_type  \\\n",
              "0          Yes        Yes  4.1/5    775  Banashankari        Casual Dining   \n",
              "1          Yes         No  4.1/5    787  Banashankari        Casual Dining   \n",
              "2          Yes         No  3.8/5    918  Banashankari  Cafe, Casual Dining   \n",
              "3           No         No  3.7/5     88  Banashankari          Quick Bites   \n",
              "4           No         No  3.8/5    166  Basavanagudi        Casual Dining   \n",
              "\n",
              "                                          dish_liked  \\\n",
              "0  Pasta, Lunch Buffet, Masala Papad, Paneer Laja...   \n",
              "1  Momos, Lunch Buffet, Chocolate Nirvana, Thai G...   \n",
              "2  Churros, Cannelloni, Minestrone Soup, Hot Choc...   \n",
              "3                                        Masala Dosa   \n",
              "4                                Panipuri, Gol Gappe   \n",
              "\n",
              "                         cuisines cost  \\\n",
              "0  North Indian, Mughlai, Chinese  800   \n",
              "1     Chinese, North Indian, Thai  800   \n",
              "2          Cafe, Mexican, Italian  800   \n",
              "3      South Indian, North Indian  300   \n",
              "4        North Indian, Rajasthani  600   \n",
              "\n",
              "                                        reviews_list menu_item    type  \\\n",
              "0  [('Rated 4.0', 'RATED\\n  A beautiful place to ...        []  Buffet   \n",
              "1  [('Rated 4.0', 'RATED\\n  Had been here for din...        []  Buffet   \n",
              "2  [('Rated 3.0', \"RATED\\n  Ambience is not that ...        []  Buffet   \n",
              "3  [('Rated 4.0', \"RATED\\n  Great food and proper...        []  Buffet   \n",
              "4  [('Rated 4.0', 'RATED\\n  Very good restaurant ...        []  Buffet   \n",
              "\n",
              "           city  \n",
              "0  Banashankari  \n",
              "1  Banashankari  \n",
              "2  Banashankari  \n",
              "3  Banashankari  \n",
              "4  Banashankari  "
            ],
            "text/html": [
              "\n",
              "  <div id=\"df-95779711-cb25-472a-b0eb-d9a452cb8cd6\">\n",
              "    <div class=\"colab-df-container\">\n",
              "      <div>\n",
              "<style scoped>\n",
              "    .dataframe tbody tr th:only-of-type {\n",
              "        vertical-align: middle;\n",
              "    }\n",
              "\n",
              "    .dataframe tbody tr th {\n",
              "        vertical-align: top;\n",
              "    }\n",
              "\n",
              "    .dataframe thead th {\n",
              "        text-align: right;\n",
              "    }\n",
              "</style>\n",
              "<table border=\"1\" class=\"dataframe\">\n",
              "  <thead>\n",
              "    <tr style=\"text-align: right;\">\n",
              "      <th></th>\n",
              "      <th>address</th>\n",
              "      <th>name</th>\n",
              "      <th>online_order</th>\n",
              "      <th>book_table</th>\n",
              "      <th>rate</th>\n",
              "      <th>votes</th>\n",
              "      <th>location</th>\n",
              "      <th>rest_type</th>\n",
              "      <th>dish_liked</th>\n",
              "      <th>cuisines</th>\n",
              "      <th>cost</th>\n",
              "      <th>reviews_list</th>\n",
              "      <th>menu_item</th>\n",
              "      <th>type</th>\n",
              "      <th>city</th>\n",
              "    </tr>\n",
              "  </thead>\n",
              "  <tbody>\n",
              "    <tr>\n",
              "      <th>0</th>\n",
              "      <td>942, 21st Main Road, 2nd Stage, Banashankari, ...</td>\n",
              "      <td>Jalsa</td>\n",
              "      <td>Yes</td>\n",
              "      <td>Yes</td>\n",
              "      <td>4.1/5</td>\n",
              "      <td>775</td>\n",
              "      <td>Banashankari</td>\n",
              "      <td>Casual Dining</td>\n",
              "      <td>Pasta, Lunch Buffet, Masala Papad, Paneer Laja...</td>\n",
              "      <td>North Indian, Mughlai, Chinese</td>\n",
              "      <td>800</td>\n",
              "      <td>[('Rated 4.0', 'RATED\\n  A beautiful place to ...</td>\n",
              "      <td>[]</td>\n",
              "      <td>Buffet</td>\n",
              "      <td>Banashankari</td>\n",
              "    </tr>\n",
              "    <tr>\n",
              "      <th>1</th>\n",
              "      <td>2nd Floor, 80 Feet Road, Near Big Bazaar, 6th ...</td>\n",
              "      <td>Spice Elephant</td>\n",
              "      <td>Yes</td>\n",
              "      <td>No</td>\n",
              "      <td>4.1/5</td>\n",
              "      <td>787</td>\n",
              "      <td>Banashankari</td>\n",
              "      <td>Casual Dining</td>\n",
              "      <td>Momos, Lunch Buffet, Chocolate Nirvana, Thai G...</td>\n",
              "      <td>Chinese, North Indian, Thai</td>\n",
              "      <td>800</td>\n",
              "      <td>[('Rated 4.0', 'RATED\\n  Had been here for din...</td>\n",
              "      <td>[]</td>\n",
              "      <td>Buffet</td>\n",
              "      <td>Banashankari</td>\n",
              "    </tr>\n",
              "    <tr>\n",
              "      <th>2</th>\n",
              "      <td>1112, Next to KIMS Medical College, 17th Cross...</td>\n",
              "      <td>San Churro Cafe</td>\n",
              "      <td>Yes</td>\n",
              "      <td>No</td>\n",
              "      <td>3.8/5</td>\n",
              "      <td>918</td>\n",
              "      <td>Banashankari</td>\n",
              "      <td>Cafe, Casual Dining</td>\n",
              "      <td>Churros, Cannelloni, Minestrone Soup, Hot Choc...</td>\n",
              "      <td>Cafe, Mexican, Italian</td>\n",
              "      <td>800</td>\n",
              "      <td>[('Rated 3.0', \"RATED\\n  Ambience is not that ...</td>\n",
              "      <td>[]</td>\n",
              "      <td>Buffet</td>\n",
              "      <td>Banashankari</td>\n",
              "    </tr>\n",
              "    <tr>\n",
              "      <th>3</th>\n",
              "      <td>1st Floor, Annakuteera, 3rd Stage, Banashankar...</td>\n",
              "      <td>Addhuri Udupi Bhojana</td>\n",
              "      <td>No</td>\n",
              "      <td>No</td>\n",
              "      <td>3.7/5</td>\n",
              "      <td>88</td>\n",
              "      <td>Banashankari</td>\n",
              "      <td>Quick Bites</td>\n",
              "      <td>Masala Dosa</td>\n",
              "      <td>South Indian, North Indian</td>\n",
              "      <td>300</td>\n",
              "      <td>[('Rated 4.0', \"RATED\\n  Great food and proper...</td>\n",
              "      <td>[]</td>\n",
              "      <td>Buffet</td>\n",
              "      <td>Banashankari</td>\n",
              "    </tr>\n",
              "    <tr>\n",
              "      <th>4</th>\n",
              "      <td>10, 3rd Floor, Lakshmi Associates, Gandhi Baza...</td>\n",
              "      <td>Grand Village</td>\n",
              "      <td>No</td>\n",
              "      <td>No</td>\n",
              "      <td>3.8/5</td>\n",
              "      <td>166</td>\n",
              "      <td>Basavanagudi</td>\n",
              "      <td>Casual Dining</td>\n",
              "      <td>Panipuri, Gol Gappe</td>\n",
              "      <td>North Indian, Rajasthani</td>\n",
              "      <td>600</td>\n",
              "      <td>[('Rated 4.0', 'RATED\\n  Very good restaurant ...</td>\n",
              "      <td>[]</td>\n",
              "      <td>Buffet</td>\n",
              "      <td>Banashankari</td>\n",
              "    </tr>\n",
              "  </tbody>\n",
              "</table>\n",
              "</div>\n",
              "      <button class=\"colab-df-convert\" onclick=\"convertToInteractive('df-95779711-cb25-472a-b0eb-d9a452cb8cd6')\"\n",
              "              title=\"Convert this dataframe to an interactive table.\"\n",
              "              style=\"display:none;\">\n",
              "        \n",
              "  <svg xmlns=\"http://www.w3.org/2000/svg\" height=\"24px\"viewBox=\"0 0 24 24\"\n",
              "       width=\"24px\">\n",
              "    <path d=\"M0 0h24v24H0V0z\" fill=\"none\"/>\n",
              "    <path d=\"M18.56 5.44l.94 2.06.94-2.06 2.06-.94-2.06-.94-.94-2.06-.94 2.06-2.06.94zm-11 1L8.5 8.5l.94-2.06 2.06-.94-2.06-.94L8.5 2.5l-.94 2.06-2.06.94zm10 10l.94 2.06.94-2.06 2.06-.94-2.06-.94-.94-2.06-.94 2.06-2.06.94z\"/><path d=\"M17.41 7.96l-1.37-1.37c-.4-.4-.92-.59-1.43-.59-.52 0-1.04.2-1.43.59L10.3 9.45l-7.72 7.72c-.78.78-.78 2.05 0 2.83L4 21.41c.39.39.9.59 1.41.59.51 0 1.02-.2 1.41-.59l7.78-7.78 2.81-2.81c.8-.78.8-2.07 0-2.86zM5.41 20L4 18.59l7.72-7.72 1.47 1.35L5.41 20z\"/>\n",
              "  </svg>\n",
              "      </button>\n",
              "      \n",
              "  <style>\n",
              "    .colab-df-container {\n",
              "      display:flex;\n",
              "      flex-wrap:wrap;\n",
              "      gap: 12px;\n",
              "    }\n",
              "\n",
              "    .colab-df-convert {\n",
              "      background-color: #E8F0FE;\n",
              "      border: none;\n",
              "      border-radius: 50%;\n",
              "      cursor: pointer;\n",
              "      display: none;\n",
              "      fill: #1967D2;\n",
              "      height: 32px;\n",
              "      padding: 0 0 0 0;\n",
              "      width: 32px;\n",
              "    }\n",
              "\n",
              "    .colab-df-convert:hover {\n",
              "      background-color: #E2EBFA;\n",
              "      box-shadow: 0px 1px 2px rgba(60, 64, 67, 0.3), 0px 1px 3px 1px rgba(60, 64, 67, 0.15);\n",
              "      fill: #174EA6;\n",
              "    }\n",
              "\n",
              "    [theme=dark] .colab-df-convert {\n",
              "      background-color: #3B4455;\n",
              "      fill: #D2E3FC;\n",
              "    }\n",
              "\n",
              "    [theme=dark] .colab-df-convert:hover {\n",
              "      background-color: #434B5C;\n",
              "      box-shadow: 0px 1px 3px 1px rgba(0, 0, 0, 0.15);\n",
              "      filter: drop-shadow(0px 1px 2px rgba(0, 0, 0, 0.3));\n",
              "      fill: #FFFFFF;\n",
              "    }\n",
              "  </style>\n",
              "\n",
              "      <script>\n",
              "        const buttonEl =\n",
              "          document.querySelector('#df-95779711-cb25-472a-b0eb-d9a452cb8cd6 button.colab-df-convert');\n",
              "        buttonEl.style.display =\n",
              "          google.colab.kernel.accessAllowed ? 'block' : 'none';\n",
              "\n",
              "        async function convertToInteractive(key) {\n",
              "          const element = document.querySelector('#df-95779711-cb25-472a-b0eb-d9a452cb8cd6');\n",
              "          const dataTable =\n",
              "            await google.colab.kernel.invokeFunction('convertToInteractive',\n",
              "                                                     [key], {});\n",
              "          if (!dataTable) return;\n",
              "\n",
              "          const docLinkHtml = 'Like what you see? Visit the ' +\n",
              "            '<a target=\"_blank\" href=https://colab.research.google.com/notebooks/data_table.ipynb>data table notebook</a>'\n",
              "            + ' to learn more about interactive tables.';\n",
              "          element.innerHTML = '';\n",
              "          dataTable['output_type'] = 'display_data';\n",
              "          await google.colab.output.renderOutput(dataTable, element);\n",
              "          const docLink = document.createElement('div');\n",
              "          docLink.innerHTML = docLinkHtml;\n",
              "          element.appendChild(docLink);\n",
              "        }\n",
              "      </script>\n",
              "    </div>\n",
              "  </div>\n",
              "  "
            ]
          },
          "metadata": {},
          "execution_count": 87
        }
      ]
    },
    {
      "cell_type": "markdown",
      "source": [
        "**Cleaning the dataset**"
      ],
      "metadata": {
        "id": "WdTkX8z3vOem"
      }
    },
    {
      "cell_type": "code",
      "source": [
        "df['cost'].unique()"
      ],
      "metadata": {
        "colab": {
          "base_uri": "https://localhost:8080/"
        },
        "id": "nDcHkE1EvLNZ",
        "outputId": "c9a967a4-1cca-40a4-8896-6d3f74949512"
      },
      "execution_count": null,
      "outputs": [
        {
          "output_type": "execute_result",
          "data": {
            "text/plain": [
              "array(['800', '300', '600', '700', '550', '500', '450', '650', '400',\n",
              "       '750', '200', '850', '1,200', '150', '350', '250', '1,500',\n",
              "       '1,300', '1,000', '100', '900', '1,100', '1,600', '950', '230',\n",
              "       '1,700', '1,400', '1,350', '2,200', '2,000', '1,800', '1,900',\n",
              "       '180', '330', '2,500', '2,100', '3,000', '2,800', '3,400', '40',\n",
              "       '1,250', '3,500', '4,000', '2,400', '1,450', '3,200', '6,000',\n",
              "       '1,050', '4,100', '2,300', '120', '2,600', '5,000', '3,700',\n",
              "       '1,650', '2,700', '4,500'], dtype=object)"
            ]
          },
          "metadata": {},
          "execution_count": 88
        }
      ]
    },
    {
      "cell_type": "markdown",
      "source": [
        "**replacing the \",\" with nothing and converting the results to float**"
      ],
      "metadata": {
        "id": "lK7-iAt-vV47"
      }
    },
    {
      "cell_type": "code",
      "source": [
        "#zomato['cost'] = zomato['cost'].astype(str) #Changing the cost to string\n",
        "df['cost'] = df['cost'].apply(lambda x: x.replace(',','')) #Using lambda function to replace ',' from cost\n",
        "df['cost'] = df['cost'].astype(float)"
      ],
      "metadata": {
        "id": "tWKIMOc4vTGr"
      },
      "execution_count": null,
      "outputs": []
    },
    {
      "cell_type": "code",
      "source": [
        "print(df['cost'].unique())\n",
        "\n",
        "print('---'*10)\n",
        "\n",
        "df.dtypes"
      ],
      "metadata": {
        "colab": {
          "base_uri": "https://localhost:8080/"
        },
        "id": "Ak11Q__gvbDa",
        "outputId": "c2fb1962-c1f2-4f82-da2d-0dbe538d860c"
      },
      "execution_count": null,
      "outputs": [
        {
          "output_type": "stream",
          "name": "stdout",
          "text": [
            "[ 800.  300.  600.  700.  550.  500.  450.  650.  400.  750.  200.  850.\n",
            " 1200.  150.  350.  250. 1500. 1300. 1000.  100.  900. 1100. 1600.  950.\n",
            "  230. 1700. 1400. 1350. 2200. 2000. 1800. 1900.  180.  330. 2500. 2100.\n",
            " 3000. 2800. 3400.   40. 1250. 3500. 4000. 2400. 1450. 3200. 6000. 1050.\n",
            " 4100. 2300.  120. 2600. 5000. 3700. 1650. 2700. 4500.]\n",
            "------------------------------\n"
          ]
        },
        {
          "output_type": "execute_result",
          "data": {
            "text/plain": [
              "address          object\n",
              "name             object\n",
              "online_order     object\n",
              "book_table       object\n",
              "rate             object\n",
              "votes             int64\n",
              "location         object\n",
              "rest_type        object\n",
              "dish_liked       object\n",
              "cuisines         object\n",
              "cost            float64\n",
              "reviews_list     object\n",
              "menu_item        object\n",
              "type             object\n",
              "city             object\n",
              "dtype: object"
            ]
          },
          "metadata": {},
          "execution_count": 90
        }
      ]
    },
    {
      "cell_type": "code",
      "source": [
        "#Reading uninque values from the Rate column\n",
        "df['rate'].unique()"
      ],
      "metadata": {
        "colab": {
          "base_uri": "https://localhost:8080/"
        },
        "id": "wHG2gw2RvdN1",
        "outputId": "68eaac66-e706-428a-a0c3-c1b477246178"
      },
      "execution_count": null,
      "outputs": [
        {
          "output_type": "execute_result",
          "data": {
            "text/plain": [
              "array(['4.1/5', '3.8/5', '3.7/5', '4.6/5', '4.0/5', '4.2/5', '3.9/5',\n",
              "       '3.0/5', '3.6/5', '2.8/5', '4.4/5', '3.1/5', '4.3/5', '2.6/5',\n",
              "       '3.3/5', '3.5/5', '3.8 /5', '3.2/5', '4.5/5', '2.5/5', '2.9/5',\n",
              "       '3.4/5', '2.7/5', '4.7/5', 'NEW', '2.4/5', '2.2/5', '2.3/5',\n",
              "       '4.8/5', '3.9 /5', '4.2 /5', '4.0 /5', '4.1 /5', '2.9 /5',\n",
              "       '2.7 /5', '2.5 /5', '2.6 /5', '4.5 /5', '4.3 /5', '3.7 /5',\n",
              "       '4.4 /5', '4.9/5', '2.1/5', '2.0/5', '1.8/5', '3.4 /5', '3.6 /5',\n",
              "       '3.3 /5', '4.6 /5', '4.9 /5', '3.2 /5', '3.0 /5', '2.8 /5',\n",
              "       '3.5 /5', '3.1 /5', '4.8 /5', '2.3 /5', '4.7 /5', '2.4 /5',\n",
              "       '2.1 /5', '2.2 /5', '2.0 /5', '1.8 /5'], dtype=object)"
            ]
          },
          "metadata": {},
          "execution_count": 91
        }
      ]
    },
    {
      "cell_type": "code",
      "source": [
        "df = df.loc[df.rate !='NEW'] #getting rid of \"NEW\""
      ],
      "metadata": {
        "id": "CtiFXEIIvgAr"
      },
      "execution_count": null,
      "outputs": []
    },
    {
      "cell_type": "code",
      "source": [
        "df['rate'].unique()"
      ],
      "metadata": {
        "colab": {
          "base_uri": "https://localhost:8080/"
        },
        "id": "t7JlJ3Jhvizh",
        "outputId": "0b1e73d7-43bf-43d2-fce2-c200a1eeed71"
      },
      "execution_count": null,
      "outputs": [
        {
          "output_type": "execute_result",
          "data": {
            "text/plain": [
              "array(['4.1/5', '3.8/5', '3.7/5', '4.6/5', '4.0/5', '4.2/5', '3.9/5',\n",
              "       '3.0/5', '3.6/5', '2.8/5', '4.4/5', '3.1/5', '4.3/5', '2.6/5',\n",
              "       '3.3/5', '3.5/5', '3.8 /5', '3.2/5', '4.5/5', '2.5/5', '2.9/5',\n",
              "       '3.4/5', '2.7/5', '4.7/5', '2.4/5', '2.2/5', '2.3/5', '4.8/5',\n",
              "       '3.9 /5', '4.2 /5', '4.0 /5', '4.1 /5', '2.9 /5', '2.7 /5',\n",
              "       '2.5 /5', '2.6 /5', '4.5 /5', '4.3 /5', '3.7 /5', '4.4 /5',\n",
              "       '4.9/5', '2.1/5', '2.0/5', '1.8/5', '3.4 /5', '3.6 /5', '3.3 /5',\n",
              "       '4.6 /5', '4.9 /5', '3.2 /5', '3.0 /5', '2.8 /5', '3.5 /5',\n",
              "       '3.1 /5', '4.8 /5', '2.3 /5', '4.7 /5', '2.4 /5', '2.1 /5',\n",
              "       '2.2 /5', '2.0 /5', '1.8 /5'], dtype=object)"
            ]
          },
          "metadata": {},
          "execution_count": 93
        }
      ]
    },
    {
      "cell_type": "code",
      "source": [
        "#Removing '/5' from Rates\n",
        "\n",
        "df['rate'] = df['rate'].apply(lambda x: x.replace('/5',''))"
      ],
      "metadata": {
        "id": "pLOhLxxjvlvK"
      },
      "execution_count": null,
      "outputs": []
    },
    {
      "cell_type": "markdown",
      "source": [
        "**Visualisations**"
      ],
      "metadata": {
        "id": "3qVTZfVdwIzr"
      }
    },
    {
      "cell_type": "markdown",
      "source": [
        "Most famous restaurants chains in Bangaluru"
      ],
      "metadata": {
        "id": "IBOp396BvvjR"
      }
    },
    {
      "cell_type": "code",
      "source": [
        "plt.figure(figsize=(17,10))\n",
        "chains=df['name'].value_counts()[:20]\n",
        "sns.barplot(x=chains,y=chains.index,palette='deep')\n",
        "plt.title(\"Most famous restaurants chains in Bangaluru\")\n",
        "plt.xlabel(\"Number of outlets\")\n",
        "plt.show()"
      ],
      "metadata": {
        "colab": {
          "base_uri": "https://localhost:8080/",
          "height": 622
        },
        "id": "ELiozJtCvoLv",
        "outputId": "707261fb-c803-45e0-bf85-79d089324e09"
      },
      "execution_count": null,
      "outputs": [
        {
          "output_type": "display_data",
          "data": {
            "text/plain": [
              "<Figure size 1224x720 with 1 Axes>"
            ],
            "image/png": "[encoded data removed]"
          },
          "metadata": {
            "needs_background": "light"
          }
        }
      ]
    },
    {
      "cell_type": "markdown",
      "source": [
        "Whether restaurant offer Table booking or not"
      ],
      "metadata": {
        "id": "2uTeDO2AwQ2h"
      }
    },
    {
      "cell_type": "code",
      "source": [
        "x=df['book_table'].value_counts()\n",
        "colors = ['#800080', '#0000A0']\n",
        "\n",
        "trace=go.Pie(labels=x.index,values=x,textinfo=\"value\",\n",
        "            marker=dict(colors=colors, \n",
        "                           line=dict(color='#001000', width=2)))\n",
        "layout=go.Layout(title=\"Table booking\",width=600,height=600)\n",
        "fig=go.Figure(data=[trace],layout=layout)\n",
        "py.iplot(fig, filename='pie_chart_subplots')"
      ],
      "metadata": {
        "colab": {
          "base_uri": "https://localhost:8080/",
          "height": 617
        },
        "id": "be1sux-XwNwJ",
        "outputId": "39ae9aa0-f510-4ac8-9c2e-f45352a26376"
      },
      "execution_count": null,
      "outputs": [
        {
          "output_type": "display_data",
          "data": {
            "text/html": [
              "<html>\n",
              "<head><meta charset=\"utf-8\" /></head>\n",
              "<body>\n",
              "    <div>            <script src=\"https://cdnjs.cloudflare.com/ajax/libs/mathjax/2.7.5/MathJax.js?config=TeX-AMS-MML_SVG\"></script><script type=\"text/javascript\">if (window.MathJax) {MathJax.Hub.Config({SVG: {font: \"STIX-Web\"}});}</script>                <script type=\"text/javascript\">window.PlotlyConfig = {MathJaxConfig: 'local'};</script>\n",
              "        <script src=\"https://cdn.plot.ly/plotly-2.8.3.min.js\"></script>                <div id=\"a7ae0ca2-4919-4368-b3b8-426199991920\" class=\"plotly-graph-div\" style=\"height:600px; width:600px;\"></div>            <script type=\"text/javascript\">                                    window.PLOTLYENV=window.PLOTLYENV || {};                                    if (document.getElementById(\"a7ae0ca2-4919-4368-b3b8-426199991920\")) {                    Plotly.newPlot(                        \"a7ae0ca2-4919-4368-b3b8-426199991920\",                        [{\"labels\":[\"No\",\"Yes\"],\"marker\":{\"colors\":[\"#800080\",\"#0000A0\"],\"line\":{\"color\":\"#001000\",\"width\":2}},\"textinfo\":\"value\",\"values\":[17191,6057],\"type\":\"pie\"}],                        {\"height\":600,\"template\":{\"data\":{\"barpolar\":[{\"marker\":{\"line\":{\"color\":\"#E5ECF6\",\"width\":0.5},\"pattern\":{\"fillmode\":\"overlay\",\"size\":10,\"solidity\":0.2}},\"type\":\"barpolar\"}],\"bar\":[{\"error_x\":{\"color\":\"#2a3f5f\"},\"error_y\":{\"color\":\"#2a3f5f\"},\"marker\":{\"line\":{\"color\":\"#E5ECF6\",\"width\":0.5},\"pattern\":{\"fillmode\":\"overlay\",\"size\":10,\"solidity\":0.2}},\"type\":\"bar\"}],\"carpet\":[{\"aaxis\":{\"endlinecolor\":\"#2a3f5f\",\"gridcolor\":\"white\",\"linecolor\":\"white\",\"minorgridcolor\":\"white\",\"startlinecolor\":\"#2a3f5f\"},\"baxis\":{\"endlinecolor\":\"#2a3f5f\",\"gridcolor\":\"white\",\"linecolor\":\"white\",\"minorgridcolor\":\"white\",\"startlinecolor\":\"#2a3f5f\"},\"type\":\"carpet\"}],\"choropleth\":[{\"colorbar\":{\"outlinewidth\":0,\"ticks\":\"\"},\"type\":\"choropleth\"}],\"contourcarpet\":[{\"colorbar\":{\"outlinewidth\":0,\"ticks\":\"\"},\"type\":\"contourcarpet\"}],\"contour\":[{\"colorbar\":{\"outlinewidth\":0,\"ticks\":\"\"},\"colorscale\":[[0.0,\"#0d0887\"],[0.1111111111111111,\"#46039f\"],[0.2222222222222222,\"#7201a8\"],[0.3333333333333333,\"#9c179e\"],[0.4444444444444444,\"#bd3786\"],[0.5555555555555556,\"#d8576b\"],[0.6666666666666666,\"#ed7953\"],[0.7777777777777778,\"#fb9f3a\"],[0.8888888888888888,\"#fdca26\"],[1.0,\"#f0f921\"]],\"type\":\"contour\"}],\"heatmapgl\":[{\"colorbar\":{\"outlinewidth\":0,\"ticks\":\"\"},\"colorscale\":[[0.0,\"#0d0887\"],[0.1111111111111111,\"#46039f\"],[0.2222222222222222,\"#7201a8\"],[0.3333333333333333,\"#9c179e\"],[0.4444444444444444,\"#bd3786\"],[0.5555555555555556,\"#d8576b\"],[0.6666666666666666,\"#ed7953\"],[0.7777777777777778,\"#fb9f3a\"],[0.8888888888888888,\"#fdca26\"],[1.0,\"#f0f921\"]],\"type\":\"heatmapgl\"}],\"heatmap\":[{\"colorbar\":{\"outlinewidth\":0,\"ticks\":\"\"},\"colorscale\":[[0.0,\"#0d0887\"],[0.1111111111111111,\"#46039f\"],[0.2222222222222222,\"#7201a8\"],[0.3333333333333333,\"#9c179e\"],[0.4444444444444444,\"#bd3786\"],[0.5555555555555556,\"#d8576b\"],[0.6666666666666666,\"#ed7953\"],[0.7777777777777778,\"#fb9f3a\"],[0.8888888888888888,\"#fdca26\"],[1.0,\"#f0f921\"]],\"type\":\"heatmap\"}],\"histogram2dcontour\":[{\"colorbar\":{\"outlinewidth\":0,\"ticks\":\"\"},\"colorscale\":[[0.0,\"#0d0887\"],[0.1111111111111111,\"#46039f\"],[0.2222222222222222,\"#7201a8\"],[0.3333333333333333,\"#9c179e\"],[0.4444444444444444,\"#bd3786\"],[0.5555555555555556,\"#d8576b\"],[0.6666666666666666,\"#ed7953\"],[0.7777777777777778,\"#fb9f3a\"],[0.8888888888888888,\"#fdca26\"],[1.0,\"#f0f921\"]],\"type\":\"histogram2dcontour\"}],\"histogram2d\":[{\"colorbar\":{\"outlinewidth\":0,\"ticks\":\"\"},\"colorscale\":[[0.0,\"#0d0887\"],[0.1111111111111111,\"#46039f\"],[0.2222222222222222,\"#7201a8\"],[0.3333333333333333,\"#9c179e\"],[0.4444444444444444,\"#bd3786\"],[0.5555555555555556,\"#d8576b\"],[0.6666666666666666,\"#ed7953\"],[0.7777777777777778,\"#fb9f3a\"],[0.8888888888888888,\"#fdca26\"],[1.0,\"#f0f921\"]],\"type\":\"histogram2d\"}],\"histogram\":[{\"marker\":{\"pattern\":{\"fillmode\":\"overlay\",\"size\":10,\"solidity\":0.2}},\"type\":\"histogram\"}],\"mesh3d\":[{\"colorbar\":{\"outlinewidth\":0,\"ticks\":\"\"},\"type\":\"mesh3d\"}],\"parcoords\":[{\"line\":{\"colorbar\":{\"outlinewidth\":0,\"ticks\":\"\"}},\"type\":\"parcoords\"}],\"pie\":[{\"automargin\":true,\"type\":\"pie\"}],\"scatter3d\":[{\"line\":{\"colorbar\":{\"outlinewidth\":0,\"ticks\":\"\"}},\"marker\":{\"colorbar\":{\"outlinewidth\":0,\"ticks\":\"\"}},\"type\":\"scatter3d\"}],\"scattercarpet\":[{\"marker\":{\"colorbar\":{\"outlinewidth\":0,\"ticks\":\"\"}},\"type\":\"scattercarpet\"}],\"scattergeo\":[{\"marker\":{\"colorbar\":{\"outlinewidth\":0,\"ticks\":\"\"}},\"type\":\"scattergeo\"}],\"scattergl\":[{\"marker\":{\"colorbar\":{\"outlinewidth\":0,\"ticks\":\"\"}},\"type\":\"scattergl\"}],\"scattermapbox\":[{\"marker\":{\"colorbar\":{\"outlinewidth\":0,\"ticks\":\"\"}},\"type\":\"scattermapbox\"}],\"scatterpolargl\":[{\"marker\":{\"colorbar\":{\"outlinewidth\":0,\"ticks\":\"\"}},\"type\":\"scatterpolargl\"}],\"scatterpolar\":[{\"marker\":{\"colorbar\":{\"outlinewidth\":0,\"ticks\":\"\"}},\"type\":\"scatterpolar\"}],\"scatter\":[{\"marker\":{\"colorbar\":{\"outlinewidth\":0,\"ticks\":\"\"}},\"type\":\"scatter\"}],\"scatterternary\":[{\"marker\":{\"colorbar\":{\"outlinewidth\":0,\"ticks\":\"\"}},\"type\":\"scatterternary\"}],\"surface\":[{\"colorbar\":{\"outlinewidth\":0,\"ticks\":\"\"},\"colorscale\":[[0.0,\"#0d0887\"],[0.1111111111111111,\"#46039f\"],[0.2222222222222222,\"#7201a8\"],[0.3333333333333333,\"#9c179e\"],[0.4444444444444444,\"#bd3786\"],[0.5555555555555556,\"#d8576b\"],[0.6666666666666666,\"#ed7953\"],[0.7777777777777778,\"#fb9f3a\"],[0.8888888888888888,\"#fdca26\"],[1.0,\"#f0f921\"]],\"type\":\"surface\"}],\"table\":[{\"cells\":{\"fill\":{\"color\":\"#EBF0F8\"},\"line\":{\"color\":\"white\"}},\"header\":{\"fill\":{\"color\":\"#C8D4E3\"},\"line\":{\"color\":\"white\"}},\"type\":\"table\"}]},\"layout\":{\"annotationdefaults\":{\"arrowcolor\":\"#2a3f5f\",\"arrowhead\":0,\"arrowwidth\":1},\"autotypenumbers\":\"strict\",\"coloraxis\":{\"colorbar\":{\"outlinewidth\":0,\"ticks\":\"\"}},\"colorscale\":{\"diverging\":[[0,\"#8e0152\"],[0.1,\"#c51b7d\"],[0.2,\"#de77ae\"],[0.3,\"#f1b6da\"],[0.4,\"#fde0ef\"],[0.5,\"#f7f7f7\"],[0.6,\"#e6f5d0\"],[0.7,\"#b8e186\"],[0.8,\"#7fbc41\"],[0.9,\"#4d9221\"],[1,\"#276419\"]],\"sequential\":[[0.0,\"#0d0887\"],[0.1111111111111111,\"#46039f\"],[0.2222222222222222,\"#7201a8\"],[0.3333333333333333,\"#9c179e\"],[0.4444444444444444,\"#bd3786\"],[0.5555555555555556,\"#d8576b\"],[0.6666666666666666,\"#ed7953\"],[0.7777777777777778,\"#fb9f3a\"],[0.8888888888888888,\"#fdca26\"],[1.0,\"#f0f921\"]],\"sequentialminus\":[[0.0,\"#0d0887\"],[0.1111111111111111,\"#46039f\"],[0.2222222222222222,\"#7201a8\"],[0.3333333333333333,\"#9c179e\"],[0.4444444444444444,\"#bd3786\"],[0.5555555555555556,\"#d8576b\"],[0.6666666666666666,\"#ed7953\"],[0.7777777777777778,\"#fb9f3a\"],[0.8888888888888888,\"#fdca26\"],[1.0,\"#f0f921\"]]},\"colorway\":[\"#636efa\",\"#EF553B\",\"#00cc96\",\"#ab63fa\",\"#FFA15A\",\"#19d3f3\",\"#FF6692\",\"#B6E880\",\"#FF97FF\",\"#FECB52\"],\"font\":{\"color\":\"#2a3f5f\"},\"geo\":{\"bgcolor\":\"white\",\"lakecolor\":\"white\",\"landcolor\":\"#E5ECF6\",\"showlakes\":true,\"showland\":true,\"subunitcolor\":\"white\"},\"hoverlabel\":{\"align\":\"left\"},\"hovermode\":\"closest\",\"mapbox\":{\"style\":\"light\"},\"paper_bgcolor\":\"white\",\"plot_bgcolor\":\"#E5ECF6\",\"polar\":{\"angularaxis\":{\"gridcolor\":\"white\",\"linecolor\":\"white\",\"ticks\":\"\"},\"bgcolor\":\"#E5ECF6\",\"radialaxis\":{\"gridcolor\":\"white\",\"linecolor\":\"white\",\"ticks\":\"\"}},\"scene\":{\"xaxis\":{\"backgroundcolor\":\"#E5ECF6\",\"gridcolor\":\"white\",\"gridwidth\":2,\"linecolor\":\"white\",\"showbackground\":true,\"ticks\":\"\",\"zerolinecolor\":\"white\"},\"yaxis\":{\"backgroundcolor\":\"#E5ECF6\",\"gridcolor\":\"white\",\"gridwidth\":2,\"linecolor\":\"white\",\"showbackground\":true,\"ticks\":\"\",\"zerolinecolor\":\"white\"},\"zaxis\":{\"backgroundcolor\":\"#E5ECF6\",\"gridcolor\":\"white\",\"gridwidth\":2,\"linecolor\":\"white\",\"showbackground\":true,\"ticks\":\"\",\"zerolinecolor\":\"white\"}},\"shapedefaults\":{\"line\":{\"color\":\"#2a3f5f\"}},\"ternary\":{\"aaxis\":{\"gridcolor\":\"white\",\"linecolor\":\"white\",\"ticks\":\"\"},\"baxis\":{\"gridcolor\":\"white\",\"linecolor\":\"white\",\"ticks\":\"\"},\"bgcolor\":\"#E5ECF6\",\"caxis\":{\"gridcolor\":\"white\",\"linecolor\":\"white\",\"ticks\":\"\"}},\"title\":{\"x\":0.05},\"xaxis\":{\"automargin\":true,\"gridcolor\":\"white\",\"linecolor\":\"white\",\"ticks\":\"\",\"title\":{\"standoff\":15},\"zerolinecolor\":\"white\",\"zerolinewidth\":2},\"yaxis\":{\"automargin\":true,\"gridcolor\":\"white\",\"linecolor\":\"white\",\"ticks\":\"\",\"title\":{\"standoff\":15},\"zerolinecolor\":\"white\",\"zerolinewidth\":2}}},\"title\":{\"text\":\"Table booking\"},\"width\":600},                        {\"responsive\": true}                    ).then(function(){\n",
              "                            \n",
              "var gd = document.getElementById('a7ae0ca2-4919-4368-b3b8-426199991920');\n",
              "var x = new MutationObserver(function (mutations, observer) {{\n",
              "        var display = window.getComputedStyle(gd).display;\n",
              "        if (!display || display === 'none') {{\n",
              "            console.log([gd, 'removed!']);\n",
              "            Plotly.purge(gd);\n",
              "            observer.disconnect();\n",
              "        }}\n",
              "}});\n",
              "\n",
              "// Listen for the removal of the full notebook cells\n",
              "var notebookContainer = gd.closest('#notebook-container');\n",
              "if (notebookContainer) {{\n",
              "    x.observe(notebookContainer, {childList: true});\n",
              "}}\n",
              "\n",
              "// Listen for the clearing of the current output cell\n",
              "var outputEl = gd.closest('.output');\n",
              "if (outputEl) {{\n",
              "    x.observe(outputEl, {childList: true});\n",
              "}}\n",
              "\n",
              "                        })                };                            </script>        </div>\n",
              "</body>\n",
              "</html>"
            ]
          },
          "metadata": {}
        }
      ]
    },
    {
      "cell_type": "markdown",
      "source": [
        "**Insight**"
      ],
      "metadata": {
        "id": "urUmDkYjwapF"
      }
    },
    {
      "cell_type": "markdown",
      "source": [
        "Most of the Restaurants do not offer table booking\n",
        "\n",
        "Whether Restaurants deliver online or Not"
      ],
      "metadata": {
        "id": "Tonln3R1we2m"
      }
    },
    {
      "cell_type": "code",
      "source": [
        "#Restaurants delivering Online or not\n",
        "sns.countplot(df['online_order'])\n",
        "fig = plt.gcf()\n",
        "fig.set_size_inches(10,10)\n",
        "plt.title('Whether Restaurants deliver online or Not')\n",
        "plt.show()"
      ],
      "metadata": {
        "colab": {
          "base_uri": "https://localhost:8080/",
          "height": 622
        },
        "id": "uUeCuc3mwToz",
        "outputId": "d6e1402e-58ae-430c-8bb2-6e6ac3cd2c7a"
      },
      "execution_count": null,
      "outputs": [
        {
          "output_type": "display_data",
          "data": {
            "text/plain": [
              "<Figure size 720x720 with 1 Axes>"
            ],
            "image/png": "[encoded data removed]"
          },
          "metadata": {
            "needs_background": "light"
          }
        }
      ]
    },
    {
      "cell_type": "markdown",
      "source": [
        "**Insight**:"
      ],
      "metadata": {
        "id": "R_nry0GQwpjg"
      }
    },
    {
      "cell_type": "markdown",
      "source": [
        "Most Restaurants offer option for online order and delivery"
      ],
      "metadata": {
        "id": "aTHzvDrOwt7A"
      }
    },
    {
      "cell_type": "markdown",
      "source": [
        "**Rating Distributions**"
      ],
      "metadata": {
        "id": "QiQZSQ-Awxsy"
      }
    },
    {
      "cell_type": "code",
      "source": [
        "#How ratings are distributed\n",
        "plt.figure(figsize=(9,7))\n",
        "\n",
        "sns.distplot(df['rate'],bins=20)"
      ],
      "metadata": {
        "colab": {
          "base_uri": "https://localhost:8080/",
          "height": 459
        },
        "id": "dbD_nC08wmal",
        "outputId": "ce3671d8-d83f-492f-c9ef-94070a7e6793"
      },
      "execution_count": null,
      "outputs": [
        {
          "output_type": "execute_result",
          "data": {
            "text/plain": [
              "<matplotlib.axes._subplots.AxesSubplot at 0x7f53fe90fd60>"
            ]
          },
          "metadata": {},
          "execution_count": 98
        },
        {
          "output_type": "display_data",
          "data": {
            "text/plain": [
              "<Figure size 648x504 with 1 Axes>"
            ],
            "image/png": "[encoded data removed]"
          },
          "metadata": {
            "needs_background": "light"
          }
        }
      ]
    },
    {
      "cell_type": "markdown",
      "source": [
        "**Insight**"
      ],
      "metadata": {
        "id": "kNeurSgcw5w1"
      }
    },
    {
      "cell_type": "markdown",
      "source": [
        "We can infer from above that most of the ratings are within 3.5 and 4.5"
      ],
      "metadata": {
        "id": "WcbVnex2w90K"
      }
    },
    {
      "cell_type": "code",
      "source": [
        "# #Distribution of the cost Vs ratings in parallel with online order\n",
        "# plt.figure(figsize=(10,7))\n",
        "# sns.scatterplot(x=\"rate\",y='cost',hue='online_order',data=df)\n",
        "# plt.show()"
      ],
      "metadata": {
        "id": "RiUasiWaw2Qt"
      },
      "execution_count": null,
      "outputs": []
    },
    {
      "cell_type": "markdown",
      "source": [
        "**Count of ratings as between \"1 and 2\", \"2 and 3\", \"3 and 4\", and \"4 and 5\"**"
      ],
      "metadata": {
        "id": "zEUCn_A7xCZp"
      }
    },
    {
      "cell_type": "code",
      "source": [
        "df['rate'].unique()"
      ],
      "metadata": {
        "colab": {
          "base_uri": "https://localhost:8080/"
        },
        "id": "AI9isFMgxBmm",
        "outputId": "6c8dab82-df94-40ac-e595-ea8002d72d9d"
      },
      "execution_count": null,
      "outputs": [
        {
          "output_type": "execute_result",
          "data": {
            "text/plain": [
              "array(['4.1', '3.8', '3.7', '4.6', '4.0', '4.2', '3.9', '3.0', '3.6',\n",
              "       '2.8', '4.4', '3.1', '4.3', '2.6', '3.3', '3.5', '3.8 ', '3.2',\n",
              "       '4.5', '2.5', '2.9', '3.4', '2.7', '4.7', '2.4', '2.2', '2.3',\n",
              "       '4.8', '3.9 ', '4.2 ', '4.0 ', '4.1 ', '2.9 ', '2.7 ', '2.5 ',\n",
              "       '2.6 ', '4.5 ', '4.3 ', '3.7 ', '4.4 ', '4.9', '2.1', '2.0', '1.8',\n",
              "       '3.4 ', '3.6 ', '3.3 ', '4.6 ', '4.9 ', '3.2 ', '3.0 ', '2.8 ',\n",
              "       '3.5 ', '3.1 ', '4.8 ', '2.3 ', '4.7 ', '2.4 ', '2.1 ', '2.2 ',\n",
              "       '2.0 ', '1.8 '], dtype=object)"
            ]
          },
          "metadata": {},
          "execution_count": 100
        }
      ]
    },
    {
      "cell_type": "code",
      "source": [
        "df['rate'].min()"
      ],
      "metadata": {
        "colab": {
          "base_uri": "https://localhost:8080/",
          "height": 35
        },
        "id": "lXz1y1HUxI5N",
        "outputId": "487ae25d-efa6-405f-fbd6-f462f1b09f0c"
      },
      "execution_count": null,
      "outputs": [
        {
          "output_type": "execute_result",
          "data": {
            "text/plain": [
              "'1.8'"
            ],
            "application/vnd.google.colaboratory.intrinsic+json": {
              "type": "string"
            }
          },
          "metadata": {},
          "execution_count": 101
        }
      ]
    },
    {
      "cell_type": "code",
      "source": [
        "df['rate'].max()"
      ],
      "metadata": {
        "colab": {
          "base_uri": "https://localhost:8080/",
          "height": 35
        },
        "id": "APeLAO8-xLAy",
        "outputId": "d7f0a711-75c2-41ed-a323-c58583e6f9f6"
      },
      "execution_count": null,
      "outputs": [
        {
          "output_type": "execute_result",
          "data": {
            "text/plain": [
              "'4.9 '"
            ],
            "application/vnd.google.colaboratory.intrinsic+json": {
              "type": "string"
            }
          },
          "metadata": {},
          "execution_count": 102
        }
      ]
    },
    {
      "cell_type": "code",
      "source": [
        "df['rate']=df['rate'].astype(float)"
      ],
      "metadata": {
        "id": "C5WMIZW0xNTw"
      },
      "execution_count": null,
      "outputs": []
    },
    {
      "cell_type": "code",
      "source": [
        "((df['rate']>=1) & (df['rate']<2)).sum()"
      ],
      "metadata": {
        "colab": {
          "base_uri": "https://localhost:8080/"
        },
        "id": "mMUAz-Z-xP1o",
        "outputId": "ebb0a7cc-ec5c-4dcc-cf08-38853bdba4fe"
      },
      "execution_count": null,
      "outputs": [
        {
          "output_type": "execute_result",
          "data": {
            "text/plain": [
              "5"
            ]
          },
          "metadata": {},
          "execution_count": 104
        }
      ]
    },
    {
      "cell_type": "code",
      "source": [
        "((df['rate']>=2) & (df['rate']<3)).sum()"
      ],
      "metadata": {
        "colab": {
          "base_uri": "https://localhost:8080/"
        },
        "id": "qqxAhTbExSFx",
        "outputId": "e4cf2427-9d22-4109-bf60-5b7cf4bdd5b5"
      },
      "execution_count": null,
      "outputs": [
        {
          "output_type": "execute_result",
          "data": {
            "text/plain": [
              "1179"
            ]
          },
          "metadata": {},
          "execution_count": 105
        }
      ]
    },
    {
      "cell_type": "code",
      "source": [
        "((df['rate']>=3) & (df['rate']<4)).sum()"
      ],
      "metadata": {
        "colab": {
          "base_uri": "https://localhost:8080/"
        },
        "id": "vJOwPEjPxUtF",
        "outputId": "f35f167a-0d24-4a8a-a676-6cb770d8dfef"
      },
      "execution_count": null,
      "outputs": [
        {
          "output_type": "execute_result",
          "data": {
            "text/plain": [
              "10153"
            ]
          },
          "metadata": {},
          "execution_count": 106
        }
      ]
    },
    {
      "cell_type": "code",
      "source": [
        "(df['rate']>=4).sum()"
      ],
      "metadata": {
        "colab": {
          "base_uri": "https://localhost:8080/"
        },
        "id": "jbSNwsVPxXrk",
        "outputId": "69a27a91-61e8-4710-8d89-fa3f8c8f68c2"
      },
      "execution_count": null,
      "outputs": [
        {
          "output_type": "execute_result",
          "data": {
            "text/plain": [
              "11911"
            ]
          },
          "metadata": {},
          "execution_count": 107
        }
      ]
    },
    {
      "cell_type": "markdown",
      "source": [
        "**Plotting the counts with the help of pie chart**"
      ],
      "metadata": {
        "id": "9Fg-g_kDxgP6"
      }
    },
    {
      "cell_type": "code",
      "source": [
        "slices=[((df['rate']>=1) & (df['rate']<2)).sum(),\n",
        "        ((df['rate']>=2) & (df['rate']<3)).sum(),\n",
        "        ((df['rate']>=3) & (df['rate']<4)).sum(),\n",
        "        (df['rate']>=4).sum()\n",
        "        ]\n",
        "\n",
        "labels= list(slices)\n",
        "colors = ['#ff3333','#c2c2d6','#6699ff']\n",
        "plt.pie(slices, colors=colors, labels=labels, autopct='%1.0f%%', pctdistance=.5, labeldistance=1.2,shadow=True)\n",
        "fig = plt.gcf()\n",
        "plt.title(\"Percentage of Restaurants according to their ratings\")\n",
        "\n",
        "fig.set_size_inches(10,10)\n",
        "plt.show()"
      ],
      "metadata": {
        "colab": {
          "base_uri": "https://localhost:8080/",
          "height": 592
        },
        "id": "0IPo6VjhxmR0",
        "outputId": "9b5379e2-dde8-42dc-827c-9764b685e6c2"
      },
      "execution_count": null,
      "outputs": [
        {
          "output_type": "display_data",
          "data": {
            "text/plain": [
              "<Figure size 720x720 with 1 Axes>"
            ],
            "image/png": "[encoded data removed]"
          },
          "metadata": {}
        }
      ]
    },
    {
      "cell_type": "markdown",
      "source": [
        "**Services Types**"
      ],
      "metadata": {
        "id": "cFDn0ehWyq_5"
      }
    },
    {
      "cell_type": "code",
      "source": [
        "#Types of Services\n",
        "\n",
        "sns.countplot(df['type']).set_xticklabels(sns.countplot(df['type']).get_xticklabels(), rotation=90, ha=\"right\")\n",
        "fig = plt.gcf()\n",
        "fig.set_size_inches(12,12)\n",
        "plt.title('Type of Service')"
      ],
      "metadata": {
        "colab": {
          "base_uri": "https://localhost:8080/",
          "height": 825
        },
        "id": "c9JmMYw5xsgn",
        "outputId": "ff9b11ef-9863-4d02-bdbf-a52a62bddff7"
      },
      "execution_count": null,
      "outputs": [
        {
          "output_type": "execute_result",
          "data": {
            "text/plain": [
              "Text(0.5, 1.0, 'Type of Service')"
            ]
          },
          "metadata": {},
          "execution_count": 109
        },
        {
          "output_type": "display_data",
          "data": {
            "text/plain": [
              "<Figure size 864x864 with 1 Axes>"
            ],
            "image/png": "[encoded data removed]"
          },
          "metadata": {
            "needs_background": "light"
          }
        }
      ]
    },
    {
      "cell_type": "markdown",
      "source": [
        "Here the two main service types are Delivery and Dine-out"
      ],
      "metadata": {
        "id": "ancfuSSOyykJ"
      }
    },
    {
      "cell_type": "markdown",
      "source": [
        "**Distribution of Cost of Food for two People**"
      ],
      "metadata": {
        "id": "dtP5h9RMy1_9"
      }
    },
    {
      "cell_type": "code",
      "source": [
        "from plotly.offline import iplot\n",
        "     "
      ],
      "metadata": {
        "id": "ns0t7IVkyvYR"
      },
      "execution_count": null,
      "outputs": []
    },
    {
      "cell_type": "code",
      "source": [
        "trace0=go.Box(y=df['cost'],name=\"accepting online orders\",\n",
        "              marker = dict(\n",
        "        color = 'rgb(113, 10, 100)',\n",
        "    ))\n",
        "data=[trace0]\n",
        "layout=go.Layout(title=\"Box plot of approximate cost\",width=800,height=800,yaxis=dict(title=\"Price\"))\n",
        "fig=go.Figure(data=data,layout=layout)\n",
        "py.iplot(fig)\n",
        "     \n"
      ],
      "metadata": {
        "colab": {
          "base_uri": "https://localhost:8080/",
          "height": 817
        },
        "id": "XTxJg1MDy6tr",
        "outputId": "d39ccc7a-e88a-4ff9-a43e-6395ec40204c"
      },
      "execution_count": null,
      "outputs": [
        {
          "output_type": "display_data",
          "data": {
            "text/html": [
              "<html>\n",
              "<head><meta charset=\"utf-8\" /></head>\n",
              "<body>\n",
              "    <div>            <script src=\"https://cdnjs.cloudflare.com/ajax/libs/mathjax/2.7.5/MathJax.js?config=TeX-AMS-MML_SVG\"></script><script type=\"text/javascript\">if (window.MathJax) {MathJax.Hub.Config({SVG: {font: \"STIX-Web\"}});}</script>                <script type=\"text/javascript\">window.PlotlyConfig = {MathJaxConfig: 'local'};</script>\n",
              "        <script src=\"https://cdn.plot.ly/plotly-2.8.3.min.js\"></script>                <div id=\"dfc25f8c-8f07-489a-902b-07d138e823ec\" class=\"plotly-graph-div\" style=\"height:800px; width:800px;\"></div>            <script type=\"text/javascript\">                                    window.PLOTLYENV=window.PLOTLYENV || {};                                    if (document.getElementById(\"dfc25f8c-8f07-489a-902b-07d138e823ec\")) {                    Plotly.newPlot(                        \"dfc25f8c-8f07-489a-902b-07d138e823ec\",                        [{\"marker\":{\"color\":\"rgb(113, 10, 100)\"},\"name\":\"accepting online orders\",\"y\":[800.0,800.0,800.0,300.0,600.0,600.0,600.0,700.0,550.0,500.0,600.0,500.0,450.0,800.0,650.0,800.0,700.0,300.0,400.0,500.0,600.0,550.0,600.0,500.0,750.0,500.0,650.0,600.0,750.0,200.0,500.0,800.0,600.0,400.0,300.0,450.0,850.0,300.0,400.0,750.0,450.0,450.0,800.0,800.0,800.0,850.0,400.0,1200.0,300.0,300.0,150.0,350.0,400.0,600.0,600.0,800.0,300.0,400.0,300.0,200.0,400.0,300.0,450.0,800.0,500.0,650.0,400.0,500.0,450.0,500.0,750.0,350.0,800.0,400.0,1200.0,150.0,300.0,500.0,450.0,200.0,250.0,650.0,300.0,700.0,150.0,400.0,200.0,300.0,350.0,500.0,750.0,550.0,200.0,400.0,750.0,650.0,500.0,250.0,150.0,500.0,1500.0,300.0,800.0,700.0,700.0,550.0,1300.0,500.0,700.0,1000.0,750.0,250.0,200.0,600.0,650.0,550.0,450.0,450.0,150.0,700.0,600.0,200.0,400.0,300.0,600.0,700.0,750.0,200.0,600.0,200.0,600.0,550.0,200.0,650.0,500.0,1200.0,650.0,600.0,100.0,850.0,400.0,450.0,300.0,500.0,100.0,400.0,900.0,550.0,800.0,250.0,1200.0,400.0,500.0,700.0,400.0,400.0,800.0,800.0,200.0,600.0,900.0,800.0,400.0,400.0,300.0,650.0,600.0,650.0,100.0,700.0,700.0,350.0,300.0,600.0,400.0,600.0,400.0,800.0,400.0,650.0,150.0,1200.0,250.0,400.0,700.0,1200.0,200.0,800.0,500.0,200.0,800.0,600.0,900.0,400.0,250.0,300.0,400.0,350.0,600.0,100.0,450.0,400.0,100.0,150.0,400.0,250.0,100.0,600.0,200.0,750.0,800.0,1000.0,600.0,750.0,800.0,800.0,800.0,450.0,1000.0,700.0,800.0,600.0,1500.0,300.0,300.0,200.0,400.0,700.0,300.0,550.0,750.0,500.0,500.0,500.0,400.0,150.0,150.0,400.0,800.0,700.0,500.0,400.0,400.0,400.0,600.0,300.0,400.0,750.0,1200.0,350.0,600.0,800.0,800.0,800.0,1300.0,1200.0,700.0,800.0,550.0,500.0,600.0,500.0,800.0,450.0,600.0,850.0,450.0,800.0,800.0,650.0,900.0,700.0,800.0,700.0,300.0,300.0,500.0,400.0,700.0,600.0,800.0,600.0,750.0,600.0,150.0,800.0,850.0,800.0,400.0,750.0,650.0,100.0,200.0,450.0,450.0,200.0,500.0,100.0,500.0,100.0,200.0,300.0,500.0,300.0,300.0,600.0,250.0,300.0,350.0,800.0,250.0,350.0,600.0,500.0,300.0,100.0,300.0,300.0,450.0,200.0,200.0,250.0,400.0,250.0,300.0,400.0,350.0,500.0,600.0,150.0,350.0,750.0,550.0,600.0,500.0,150.0,150.0,550.0,1100.0,450.0,300.0,100.0,650.0,600.0,250.0,600.0,400.0,800.0,750.0,600.0,800.0,200.0,300.0,100.0,150.0,100.0,200.0,300.0,700.0,300.0,300.0,450.0,700.0,200.0,250.0,200.0,150.0,300.0,1300.0,1200.0,800.0,800.0,1100.0,900.0,1000.0,750.0,550.0,1600.0,1200.0,800.0,1000.0,1000.0,1000.0,1000.0,950.0,600.0,700.0,450.0,300.0,400.0,400.0,500.0,600.0,700.0,350.0,650.0,600.0,600.0,800.0,550.0,650.0,600.0,400.0,450.0,550.0,700.0,500.0,500.0,800.0,800.0,300.0,400.0,250.0,400.0,300.0,300.0,500.0,400.0,150.0,500.0,300.0,700.0,400.0,400.0,450.0,300.0,250.0,600.0,250.0,400.0,200.0,350.0,300.0,450.0,400.0,350.0,300.0,400.0,1000.0,650.0,550.0,600.0,300.0,750.0,600.0,400.0,300.0,400.0,600.0,800.0,500.0,800.0,800.0,300.0,700.0,400.0,700.0,600.0,300.0,400.0,600.0,300.0,400.0,750.0,650.0,700.0,300.0,500.0,250.0,200.0,550.0,1000.0,900.0,700.0,650.0,500.0,900.0,600.0,1000.0,800.0,250.0,500.0,400.0,450.0,250.0,400.0,300.0,400.0,400.0,400.0,600.0,1200.0,400.0,1000.0,800.0,600.0,700.0,650.0,500.0,300.0,600.0,800.0,600.0,400.0,700.0,300.0,500.0,200.0,400.0,500.0,500.0,600.0,250.0,200.0,300.0,400.0,300.0,600.0,500.0,450.0,1500.0,750.0,600.0,1200.0,300.0,600.0,1000.0,1600.0,400.0,600.0,500.0,500.0,400.0,400.0,600.0,700.0,400.0,500.0,600.0,800.0,600.0,750.0,500.0,300.0,800.0,350.0,1000.0,250.0,400.0,500.0,250.0,400.0,650.0,600.0,800.0,450.0,450.0,600.0,600.0,750.0,350.0,1100.0,600.0,550.0,230.0,250.0,400.0,1000.0,600.0,500.0,1200.0,500.0,300.0,500.0,450.0,800.0,250.0,750.0,300.0,500.0,500.0,100.0,600.0,700.0,500.0,600.0,1200.0,400.0,400.0,500.0,400.0,800.0,300.0,1000.0,350.0,150.0,250.0,500.0,200.0,400.0,400.0,300.0,1300.0,400.0,800.0,600.0,250.0,400.0,150.0,700.0,1100.0,400.0,800.0,600.0,500.0,600.0,400.0,350.0,1300.0,300.0,400.0,400.0,400.0,1100.0,650.0,300.0,250.0,500.0,750.0,650.0,400.0,650.0,700.0,800.0,500.0,600.0,550.0,1000.0,550.0,500.0,700.0,1100.0,500.0,350.0,500.0,450.0,650.0,650.0,1000.0,450.0,800.0,450.0,250.0,800.0,250.0,500.0,300.0,750.0,500.0,500.0,800.0,450.0,250.0,250.0,1700.0,200.0,600.0,400.0,150.0,150.0,900.0,600.0,1200.0,1200.0,1200.0,550.0,400.0,600.0,500.0,700.0,350.0,400.0,250.0,500.0,1000.0,200.0,500.0,600.0,500.0,750.0,500.0,400.0,800.0,800.0,500.0,400.0,200.0,500.0,400.0,150.0,400.0,400.0,250.0,450.0,350.0,400.0,300.0,500.0,400.0,400.0,800.0,700.0,500.0,200.0,700.0,600.0,300.0,500.0,500.0,550.0,500.0,400.0,600.0,800.0,500.0,550.0,1000.0,800.0,700.0,800.0,700.0,650.0,1000.0,700.0,700.0,800.0,400.0,450.0,800.0,300.0,400.0,900.0,500.0,500.0,600.0,550.0,400.0,500.0,500.0,850.0,450.0,700.0,400.0,400.0,600.0,500.0,450.0,1000.0,600.0,650.0,600.0,800.0,500.0,800.0,750.0,500.0,400.0,250.0,300.0,1000.0,250.0,800.0,400.0,400.0,500.0,400.0,400.0,600.0,500.0,600.0,800.0,400.0,400.0,600.0,400.0,150.0,300.0,400.0,250.0,400.0,350.0,400.0,600.0,600.0,400.0,500.0,300.0,500.0,200.0,250.0,750.0,600.0,200.0,650.0,250.0,1100.0,350.0,400.0,250.0,250.0,300.0,400.0,600.0,300.0,800.0,250.0,1200.0,1600.0,1200.0,1600.0,1500.0,1300.0,1200.0,800.0,1300.0,1000.0,400.0,1200.0,750.0,1100.0,700.0,1200.0,550.0,1300.0,1000.0,1100.0,1200.0,1300.0,600.0,1000.0,750.0,1000.0,500.0,600.0,700.0,750.0,700.0,300.0,500.0,350.0,400.0,950.0,400.0,450.0,800.0,450.0,550.0,600.0,600.0,500.0,400.0,1000.0,1100.0,400.0,1000.0,500.0,450.0,950.0,600.0,600.0,550.0,450.0,750.0,750.0,800.0,800.0,650.0,700.0,400.0,300.0,200.0,600.0,350.0,800.0,300.0,1500.0,500.0,600.0,500.0,400.0,600.0,550.0,300.0,250.0,400.0,300.0,500.0,400.0,500.0,400.0,300.0,650.0,250.0,900.0,1200.0,1700.0,800.0,1200.0,1600.0,1300.0,1200.0,1200.0,1300.0,1100.0,1100.0,1500.0,1000.0,600.0,600.0,950.0,1500.0,750.0,800.0,800.0,1000.0,550.0,1350.0,1200.0,800.0,800.0,600.0,700.0,550.0,600.0,500.0,600.0,400.0,800.0,500.0,400.0,800.0,800.0,850.0,700.0,600.0,800.0,700.0,400.0,550.0,650.0,700.0,800.0,650.0,700.0,400.0,150.0,650.0,550.0,650.0,450.0,400.0,500.0,450.0,500.0,400.0,750.0,450.0,500.0,200.0,450.0,300.0,800.0,250.0,650.0,600.0,200.0,500.0,200.0,800.0,400.0,300.0,550.0,400.0,150.0,300.0,300.0,100.0,300.0,800.0,750.0,500.0,300.0,500.0,600.0,400.0,400.0,650.0,100.0,200.0,500.0,400.0,800.0,750.0,600.0,750.0,650.0,200.0,250.0,500.0,350.0,500.0,650.0,600.0,1200.0,100.0,250.0,200.0,400.0,400.0,550.0,400.0,400.0,400.0,600.0,800.0,200.0,350.0,250.0,1200.0,800.0,200.0,900.0,400.0,900.0,800.0,150.0,200.0,150.0,300.0,1600.0,500.0,650.0,800.0,500.0,300.0,500.0,350.0,300.0,250.0,500.0,500.0,200.0,500.0,800.0,1200.0,800.0,500.0,500.0,400.0,400.0,600.0,350.0,250.0,200.0,200.0,1000.0,800.0,500.0,800.0,400.0,800.0,450.0,700.0,700.0,800.0,300.0,300.0,250.0,150.0,650.0,600.0,700.0,700.0,400.0,600.0,450.0,400.0,300.0,1000.0,300.0,600.0,600.0,400.0,600.0,150.0,300.0,1300.0,200.0,800.0,600.0,1200.0,600.0,700.0,800.0,100.0,200.0,900.0,100.0,700.0,300.0,350.0,450.0,400.0,800.0,400.0,700.0,300.0,1500.0,800.0,600.0,1000.0,700.0,450.0,400.0,400.0,600.0,400.0,300.0,900.0,800.0,650.0,650.0,1200.0,300.0,200.0,200.0,750.0,400.0,650.0,500.0,400.0,100.0,400.0,450.0,900.0,400.0,1100.0,400.0,350.0,400.0,500.0,400.0,700.0,750.0,550.0,650.0,200.0,300.0,550.0,300.0,1000.0,700.0,900.0,600.0,1000.0,500.0,250.0,750.0,400.0,700.0,800.0,300.0,750.0,600.0,500.0,200.0,600.0,1200.0,600.0,1200.0,800.0,1000.0,150.0,800.0,800.0,500.0,450.0,1700.0,400.0,400.0,300.0,450.0,100.0,400.0,150.0,700.0,800.0,800.0,1200.0,750.0,100.0,400.0,900.0,700.0,150.0,1500.0,1200.0,400.0,300.0,800.0,900.0,200.0,1000.0,600.0,1000.0,300.0,1000.0,100.0,800.0,700.0,800.0,650.0,1350.0,550.0,600.0,950.0,650.0,600.0,400.0,1350.0,300.0,850.0,1200.0,1000.0,550.0,200.0,600.0,600.0,650.0,1200.0,1000.0,800.0,300.0,200.0,600.0,1200.0,800.0,400.0,800.0,800.0,450.0,200.0,800.0,300.0,350.0,150.0,550.0,400.0,300.0,400.0,400.0,500.0,400.0,750.0,500.0,150.0,400.0,400.0,400.0,400.0,300.0,600.0,400.0,500.0,400.0,400.0,800.0,400.0,200.0,200.0,150.0,800.0,250.0,150.0,400.0,200.0,400.0,500.0,350.0,500.0,700.0,500.0,400.0,400.0,800.0,300.0,400.0,150.0,700.0,300.0,200.0,400.0,400.0,300.0,500.0,1000.0,750.0,600.0,350.0,600.0,1000.0,750.0,700.0,500.0,550.0,1100.0,550.0,600.0,450.0,650.0,800.0,600.0,2200.0,500.0,600.0,600.0,400.0,800.0,650.0,400.0,450.0,600.0,700.0,600.0,300.0,250.0,150.0,100.0,150.0,400.0,150.0,500.0,100.0,400.0,300.0,500.0,250.0,100.0,200.0,100.0,600.0,200.0,300.0,300.0,400.0,150.0,250.0,200.0,500.0,300.0,100.0,750.0,400.0,300.0,500.0,150.0,150.0,200.0,600.0,200.0,200.0,300.0,150.0,600.0,600.0,1000.0,600.0,1200.0,950.0,800.0,1500.0,1000.0,800.0,700.0,1300.0,350.0,800.0,700.0,500.0,1000.0,1500.0,400.0,350.0,750.0,800.0,900.0,600.0,750.0,800.0,1200.0,800.0,800.0,1200.0,600.0,650.0,800.0,800.0,400.0,1200.0,250.0,800.0,450.0,700.0,1200.0,850.0,700.0,1300.0,600.0,800.0,650.0,700.0,400.0,550.0,1000.0,600.0,650.0,900.0,400.0,800.0,800.0,200.0,700.0,350.0,900.0,800.0,800.0,750.0,1200.0,800.0,700.0,450.0,150.0,650.0,500.0,550.0,1350.0,450.0,800.0,600.0,400.0,200.0,100.0,400.0,700.0,750.0,1000.0,400.0,900.0,500.0,100.0,400.0,400.0,1000.0,550.0,550.0,500.0,300.0,700.0,500.0,100.0,1000.0,400.0,1350.0,650.0,250.0,250.0,250.0,300.0,400.0,350.0,250.0,1200.0,650.0,450.0,150.0,450.0,700.0,800.0,300.0,250.0,400.0,200.0,350.0,500.0,150.0,600.0,350.0,100.0,300.0,650.0,800.0,850.0,250.0,300.0,300.0,800.0,300.0,400.0,850.0,1000.0,1100.0,2200.0,1500.0,1200.0,1200.0,1300.0,1350.0,1000.0,800.0,1500.0,1400.0,2000.0,1000.0,1400.0,1800.0,1200.0,1500.0,1500.0,1100.0,1500.0,1000.0,700.0,800.0,2000.0,1500.0,1400.0,1300.0,1600.0,1300.0,1000.0,1500.0,1100.0,1500.0,1300.0,500.0,700.0,1900.0,400.0,600.0,900.0,600.0,500.0,550.0,1000.0,500.0,600.0,800.0,700.0,500.0,400.0,650.0,500.0,450.0,200.0,450.0,400.0,400.0,400.0,300.0,300.0,400.0,500.0,300.0,400.0,200.0,600.0,700.0,600.0,500.0,800.0,900.0,750.0,550.0,400.0,400.0,800.0,400.0,400.0,300.0,300.0,550.0,600.0,250.0,600.0,300.0,400.0,300.0,600.0,750.0,650.0,750.0,450.0,450.0,600.0,400.0,950.0,400.0,650.0,400.0,500.0,200.0,450.0,400.0,500.0,600.0,800.0,500.0,450.0,300.0,800.0,600.0,600.0,1200.0,800.0,500.0,150.0,500.0,1500.0,1400.0,300.0,600.0,600.0,1200.0,500.0,800.0,400.0,800.0,1300.0,1600.0,700.0,1800.0,500.0,300.0,400.0,400.0,800.0,1100.0,400.0,600.0,600.0,1500.0,800.0,750.0,600.0,350.0,300.0,550.0,900.0,300.0,400.0,250.0,100.0,1500.0,800.0,600.0,500.0,1800.0,1000.0,500.0,250.0,400.0,850.0,500.0,1800.0,500.0,450.0,1200.0,600.0,700.0,1000.0,200.0,600.0,400.0,1100.0,500.0,900.0,150.0,250.0,1500.0,200.0,450.0,1000.0,450.0,1000.0,500.0,250.0,500.0,450.0,750.0,800.0,750.0,500.0,1400.0,600.0,600.0,300.0,500.0,200.0,500.0,400.0,250.0,900.0,1000.0,200.0,700.0,500.0,1200.0,600.0,200.0,400.0,1100.0,350.0,400.0,350.0,1200.0,450.0,600.0,600.0,1500.0,1700.0,400.0,250.0,400.0,600.0,1200.0,800.0,1400.0,650.0,180.0,400.0,650.0,300.0,300.0,400.0,1400.0,200.0,300.0,800.0,800.0,150.0,1700.0,500.0,500.0,1000.0,300.0,500.0,1300.0,1300.0,750.0,600.0,200.0,400.0,750.0,600.0,750.0,400.0,400.0,700.0,600.0,800.0,1500.0,500.0,330.0,250.0,550.0,600.0,1400.0,800.0,600.0,800.0,550.0,200.0,500.0,700.0,700.0,300.0,500.0,500.0,500.0,450.0,400.0,800.0,500.0,800.0,400.0,550.0,550.0,150.0,450.0,500.0,650.0,300.0,750.0,1500.0,600.0,300.0,300.0,100.0,150.0,400.0,1000.0,600.0,700.0,250.0,800.0,300.0,600.0,500.0,300.0,400.0,500.0,200.0,500.0,400.0,250.0,600.0,500.0,600.0,600.0,900.0,300.0,600.0,500.0,400.0,750.0,150.0,700.0,300.0,300.0,350.0,500.0,2000.0,1500.0,1100.0,1000.0,1800.0,1700.0,1800.0,1400.0,750.0,1200.0,800.0,1800.0,1200.0,950.0,600.0,400.0,700.0,600.0,750.0,1500.0,500.0,1500.0,1200.0,400.0,600.0,900.0,400.0,800.0,500.0,650.0,500.0,1500.0,800.0,1600.0,1400.0,600.0,500.0,800.0,550.0,500.0,1000.0,400.0,600.0,800.0,900.0,700.0,400.0,500.0,450.0,800.0,550.0,550.0,750.0,2000.0,400.0,550.0,1000.0,800.0,450.0,300.0,500.0,300.0,400.0,250.0,500.0,600.0,300.0,400.0,200.0,500.0,450.0,250.0,350.0,200.0,330.0,200.0,400.0,600.0,250.0,200.0,500.0,400.0,800.0,400.0,450.0,400.0,1500.0,1600.0,1400.0,1400.0,1500.0,1900.0,1300.0,1500.0,1500.0,1600.0,1400.0,1300.0,1000.0,1500.0,1400.0,1100.0,1500.0,1300.0,2000.0,2000.0,2500.0,600.0,700.0,700.0,800.0,500.0,500.0,850.0,800.0,1200.0,900.0,800.0,1000.0,550.0,800.0,300.0,750.0,600.0,600.0,150.0,700.0,400.0,500.0,700.0,150.0,600.0,600.0,250.0,2500.0,500.0,250.0,300.0,200.0,1900.0,400.0,550.0,250.0,600.0,400.0,400.0,400.0,500.0,300.0,800.0,300.0,1300.0,1600.0,1400.0,1000.0,1700.0,1500.0,1500.0,1400.0,2000.0,1600.0,1400.0,1500.0,1900.0,1500.0,1900.0,1500.0,1200.0,2500.0,1600.0,1400.0,1400.0,1700.0,1800.0,1500.0,1100.0,1500.0,1400.0,1400.0,1500.0,1900.0,1500.0,1500.0,1500.0,1200.0,1500.0,1200.0,1500.0,800.0,650.0,1000.0,1800.0,2200.0,2100.0,3000.0,1200.0,2800.0,1700.0,1400.0,1600.0,2500.0,750.0,3000.0,1500.0,500.0,1000.0,1500.0,3400.0,2000.0,1200.0,1700.0,1200.0,1600.0,2000.0,1300.0,2200.0,1300.0,1600.0,3000.0,1000.0,1200.0,1000.0,1400.0,1900.0,800.0,1000.0,500.0,1200.0,650.0,1300.0,1700.0,1800.0,1600.0,1100.0,750.0,1200.0,500.0,650.0,800.0,350.0,1100.0,800.0,900.0,1700.0,1000.0,600.0,600.0,2500.0,650.0,1400.0,750.0,400.0,900.0,700.0,700.0,500.0,700.0,800.0,800.0,750.0,650.0,750.0,500.0,1000.0,1000.0,400.0,1200.0,500.0,500.0,600.0,800.0,1000.0,500.0,600.0,700.0,900.0,1300.0,750.0,1000.0,750.0,300.0,300.0,300.0,500.0,450.0,150.0,600.0,800.0,550.0,350.0,250.0,500.0,500.0,350.0,500.0,650.0,500.0,600.0,650.0,400.0,250.0,750.0,200.0,750.0,400.0,1200.0,400.0,200.0,750.0,400.0,450.0,400.0,800.0,250.0,800.0,500.0,750.0,400.0,650.0,400.0,750.0,650.0,1300.0,1600.0,1200.0,1200.0,500.0,300.0,600.0,450.0,750.0,1300.0,600.0,350.0,600.0,500.0,500.0,700.0,1500.0,400.0,400.0,800.0,900.0,400.0,400.0,1600.0,800.0,300.0,400.0,1300.0,350.0,400.0,500.0,900.0,1600.0,250.0,1100.0,400.0,700.0,700.0,650.0,700.0,700.0,500.0,300.0,400.0,300.0,400.0,100.0,400.0,250.0,350.0,800.0,400.0,600.0,3000.0,700.0,500.0,700.0,1500.0,450.0,700.0,300.0,400.0,500.0,500.0,800.0,40.0,180.0,300.0,150.0,750.0,400.0,500.0,200.0,750.0,150.0,1300.0,1300.0,600.0,150.0,850.0,500.0,1000.0,1000.0,700.0,700.0,1000.0,300.0,800.0,950.0,300.0,900.0,800.0,500.0,1000.0,500.0,300.0,1400.0,1300.0,1500.0,500.0,550.0,600.0,750.0,550.0,2000.0,550.0,1000.0,700.0,600.0,250.0,1400.0,1500.0,200.0,700.0,400.0,400.0,600.0,400.0,200.0,450.0,450.0,500.0,500.0,500.0,1000.0,700.0,300.0,700.0,350.0,450.0,250.0,200.0,400.0,400.0,2000.0,400.0,400.0,700.0,600.0,750.0,700.0,300.0,700.0,1200.0,400.0,800.0,200.0,600.0,1000.0,500.0,700.0,1500.0,600.0,550.0,300.0,500.0,650.0,800.0,650.0,500.0,500.0,650.0,2000.0,300.0,600.0,750.0,650.0,1000.0,700.0,200.0,800.0,800.0,300.0,700.0,600.0,550.0,1000.0,1500.0,150.0,400.0,500.0,1200.0,700.0,750.0,1200.0,800.0,900.0,650.0,800.0,1700.0,1700.0,800.0,1900.0,1300.0,300.0,2100.0,600.0,1000.0,1700.0,2100.0,1500.0,500.0,1700.0,1100.0,1400.0,650.0,800.0,450.0,1000.0,600.0,600.0,700.0,1000.0,2000.0,750.0,1000.0,1400.0,1500.0,1200.0,850.0,1500.0,850.0,1000.0,600.0,1200.0,300.0,1000.0,1400.0,1400.0,1800.0,400.0,1400.0,350.0,800.0,300.0,1800.0,500.0,1300.0,800.0,2100.0,400.0,550.0,800.0,1000.0,300.0,800.0,550.0,600.0,1000.0,500.0,1300.0,1000.0,1200.0,1300.0,300.0,550.0,250.0,500.0,700.0,1200.0,1000.0,1200.0,1000.0,1500.0,550.0,800.0,900.0,1700.0,1400.0,550.0,400.0,750.0,400.0,900.0,500.0,800.0,500.0,800.0,400.0,800.0,150.0,750.0,600.0,1200.0,500.0,400.0,500.0,800.0,1100.0,500.0,150.0,300.0,350.0,100.0,300.0,250.0,300.0,550.0,500.0,600.0,1600.0,1800.0,1600.0,550.0,400.0,450.0,250.0,450.0,180.0,400.0,200.0,300.0,800.0,800.0,2000.0,1000.0,600.0,400.0,1250.0,1400.0,300.0,150.0,700.0,700.0,500.0,300.0,400.0,400.0,2000.0,700.0,1000.0,500.0,400.0,300.0,350.0,400.0,300.0,800.0,400.0,400.0,300.0,150.0,900.0,150.0,250.0,400.0,400.0,150.0,300.0,300.0,500.0,350.0,600.0,900.0,1300.0,200.0,750.0,300.0,700.0,1300.0,1100.0,2000.0,1500.0,1500.0,2000.0,750.0,1500.0,1500.0,1600.0,1500.0,1200.0,800.0,1100.0,1100.0,2000.0,500.0,750.0,1500.0,800.0,700.0,650.0,650.0,350.0,400.0,650.0,700.0,500.0,1300.0,1000.0,600.0,500.0,500.0,800.0,800.0,550.0,450.0,250.0,300.0,400.0,600.0,500.0,300.0,450.0,600.0,1700.0,1500.0,1800.0,1500.0,1500.0,2500.0,3000.0,2200.0,3000.0,800.0,2800.0,550.0,1100.0,2100.0,1500.0,3000.0,2500.0,3500.0,1700.0,1700.0,1500.0,1200.0,1200.0,1300.0,1500.0,1300.0,2800.0,2100.0,1200.0,800.0,1600.0,1700.0,1600.0,3000.0,1000.0,1500.0,800.0,2000.0,1500.0,700.0,1500.0,2500.0,1000.0,2100.0,1900.0,1700.0,2000.0,2200.0,1400.0,1500.0,600.0,800.0,900.0,1200.0,1700.0,2500.0,1600.0,1300.0,1400.0,1000.0,1000.0,600.0,2500.0,1400.0,200.0,1500.0,4000.0,550.0,3000.0,1500.0,3000.0,500.0,1000.0,1100.0,650.0,1200.0,2500.0,1500.0,2000.0,1500.0,1000.0,1400.0,1500.0,1100.0,600.0,1300.0,1000.0,1300.0,650.0,850.0,750.0,1800.0,500.0,1800.0,1000.0,1000.0,1200.0,3400.0,750.0,1800.0,2000.0,3000.0,1000.0,1400.0,3500.0,400.0,900.0,1200.0,800.0,1500.0,1200.0,4000.0,500.0,700.0,1300.0,4000.0,1200.0,1000.0,1200.0,1000.0,700.0,1700.0,2000.0,1200.0,1600.0,800.0,2000.0,3000.0,2000.0,2000.0,3500.0,1200.0,1000.0,700.0,1300.0,800.0,1000.0,500.0,750.0,800.0,1800.0,800.0,2800.0,800.0,1000.0,500.0,3000.0,750.0,800.0,2000.0,2200.0,650.0,1800.0,950.0,750.0,3000.0,1000.0,1500.0,500.0,400.0,550.0,1000.0,600.0,700.0,2000.0,550.0,1200.0,1000.0,300.0,1300.0,500.0,1000.0,500.0,1600.0,500.0,3000.0,1000.0,450.0,1000.0,400.0,650.0,550.0,1200.0,1200.0,1000.0,1000.0,2000.0,1500.0,400.0,300.0,1200.0,3000.0,500.0,500.0,1800.0,2500.0,800.0,2500.0,700.0,1400.0,600.0,600.0,800.0,550.0,850.0,2400.0,500.0,1400.0,1900.0,800.0,1000.0,1200.0,1500.0,250.0,600.0,700.0,500.0,3000.0,500.0,800.0,600.0,800.0,1200.0,550.0,800.0,800.0,1200.0,800.0,600.0,350.0,2000.0,700.0,600.0,2500.0,900.0,600.0,1000.0,600.0,400.0,250.0,700.0,400.0,300.0,500.0,200.0,150.0,150.0,150.0,500.0,300.0,500.0,300.0,300.0,150.0,300.0,250.0,500.0,150.0,300.0,400.0,250.0,350.0,800.0,200.0,400.0,350.0,400.0,500.0,500.0,200.0,400.0,500.0,350.0,250.0,400.0,500.0,250.0,300.0,300.0,300.0,300.0,100.0,500.0,1300.0,1100.0,1300.0,750.0,1300.0,1700.0,600.0,1000.0,750.0,550.0,850.0,200.0,700.0,700.0,750.0,1800.0,1600.0,400.0,300.0,150.0,400.0,400.0,1100.0,600.0,300.0,1300.0,2000.0,1200.0,2000.0,1500.0,1500.0,1500.0,1600.0,1100.0,1100.0,2000.0,1500.0,1700.0,1500.0,2500.0,3000.0,3000.0,1500.0,2500.0,1700.0,1700.0,1200.0,1300.0,1300.0,1700.0,1500.0,2000.0,1500.0,2500.0,1900.0,1300.0,1000.0,3000.0,1100.0,1200.0,1000.0,1400.0,1100.0,1000.0,1000.0,1200.0,1200.0,1500.0,1000.0,2000.0,1200.0,2800.0,3000.0,1500.0,600.0,1000.0,1000.0,1000.0,2000.0,1500.0,3000.0,1200.0,2500.0,2400.0,1400.0,1200.0,1500.0,1300.0,1300.0,800.0,700.0,350.0,150.0,200.0,200.0,400.0,500.0,250.0,1200.0,1300.0,2100.0,1700.0,1500.0,2500.0,1900.0,1700.0,1000.0,1000.0,1100.0,1200.0,1000.0,1400.0,1100.0,1300.0,1000.0,1000.0,1000.0,1200.0,1500.0,4000.0,1200.0,1000.0,1700.0,2000.0,2000.0,3500.0,1200.0,1300.0,1800.0,1000.0,1800.0,1500.0,600.0,1000.0,1000.0,1200.0,1000.0,3000.0,1200.0,1800.0,1400.0,1200.0,1500.0,800.0,1300.0,600.0,700.0,750.0,1600.0,1400.0,1100.0,1000.0,1800.0,1700.0,1500.0,1200.0,2500.0,1000.0,1500.0,2000.0,800.0,1500.0,2000.0,1900.0,1200.0,1200.0,1200.0,600.0,1100.0,400.0,600.0,300.0,600.0,500.0,500.0,650.0,900.0,600.0,900.0,1400.0,2000.0,1000.0,700.0,600.0,300.0,400.0,700.0,400.0,700.0,600.0,450.0,450.0,250.0,500.0,400.0,400.0,700.0,300.0,850.0,500.0,500.0,650.0,600.0,400.0,400.0,500.0,400.0,600.0,800.0,400.0,300.0,450.0,1000.0,800.0,800.0,500.0,500.0,300.0,350.0,500.0,400.0,400.0,300.0,300.0,700.0,150.0,600.0,500.0,250.0,650.0,250.0,750.0,800.0,500.0,350.0,500.0,500.0,400.0,500.0,350.0,400.0,1400.0,700.0,300.0,600.0,450.0,600.0,600.0,300.0,300.0,550.0,750.0,300.0,800.0,400.0,200.0,300.0,500.0,450.0,450.0,400.0,200.0,400.0,800.0,600.0,400.0,300.0,400.0,650.0,450.0,400.0,400.0,750.0,650.0,150.0,800.0,200.0,300.0,450.0,600.0,350.0,400.0,300.0,550.0,1400.0,300.0,300.0,1300.0,250.0,500.0,800.0,600.0,400.0,600.0,750.0,1000.0,600.0,1000.0,300.0,300.0,400.0,400.0,700.0,700.0,700.0,400.0,650.0,1400.0,900.0,350.0,750.0,900.0,400.0,750.0,900.0,500.0,600.0,500.0,750.0,800.0,600.0,300.0,1500.0,450.0,800.0,550.0,500.0,400.0,550.0,700.0,1000.0,450.0,250.0,500.0,2000.0,1000.0,1200.0,300.0,600.0,600.0,400.0,800.0,700.0,900.0,1000.0,350.0,800.0,300.0,2000.0,450.0,350.0,200.0,250.0,400.0,550.0,1100.0,250.0,400.0,1500.0,800.0,400.0,600.0,1500.0,500.0,800.0,1500.0,200.0,400.0,300.0,600.0,600.0,200.0,1100.0,500.0,600.0,300.0,800.0,900.0,1500.0,800.0,600.0,1100.0,200.0,200.0,350.0,500.0,400.0,450.0,1200.0,1000.0,700.0,700.0,650.0,500.0,300.0,600.0,400.0,400.0,350.0,1100.0,400.0,250.0,800.0,750.0,400.0,450.0,300.0,300.0,600.0,650.0,600.0,800.0,700.0,250.0,500.0,1000.0,350.0,700.0,200.0,400.0,350.0,500.0,800.0,2000.0,350.0,600.0,700.0,800.0,300.0,550.0,400.0,550.0,400.0,750.0,150.0,700.0,300.0,600.0,600.0,500.0,1000.0,250.0,1000.0,1100.0,300.0,1200.0,500.0,600.0,450.0,300.0,400.0,800.0,400.0,800.0,500.0,300.0,300.0,800.0,200.0,800.0,900.0,600.0,1600.0,800.0,650.0,750.0,500.0,750.0,750.0,500.0,500.0,350.0,1000.0,1200.0,550.0,200.0,750.0,900.0,400.0,700.0,550.0,500.0,500.0,700.0,200.0,200.0,250.0,800.0,1000.0,600.0,1500.0,150.0,750.0,150.0,500.0,450.0,400.0,300.0,900.0,1000.0,500.0,850.0,800.0,500.0,250.0,400.0,1000.0,1000.0,1100.0,700.0,1700.0,400.0,300.0,600.0,500.0,400.0,400.0,450.0,400.0,550.0,900.0,400.0,500.0,300.0,1000.0,200.0,600.0,400.0,350.0,250.0,400.0,450.0,1200.0,800.0,1000.0,600.0,700.0,600.0,300.0,750.0,1500.0,600.0,600.0,800.0,800.0,800.0,700.0,750.0,750.0,550.0,400.0,250.0,500.0,500.0,850.0,500.0,600.0,400.0,650.0,750.0,550.0,350.0,500.0,800.0,450.0,500.0,900.0,750.0,800.0,600.0,500.0,400.0,300.0,450.0,600.0,500.0,200.0,900.0,200.0,450.0,450.0,200.0,450.0,250.0,500.0,400.0,350.0,450.0,300.0,550.0,350.0,800.0,650.0,150.0,150.0,500.0,250.0,300.0,300.0,2400.0,2500.0,1600.0,1400.0,1700.0,1100.0,1000.0,1800.0,1300.0,1700.0,800.0,800.0,800.0,1500.0,800.0,900.0,700.0,1200.0,2500.0,500.0,850.0,900.0,700.0,1000.0,850.0,700.0,1500.0,1000.0,1400.0,1450.0,1400.0,800.0,3000.0,700.0,2000.0,1000.0,1000.0,450.0,1000.0,900.0,900.0,1500.0,800.0,2000.0,750.0,400.0,800.0,250.0,200.0,800.0,600.0,1000.0,1000.0,600.0,700.0,1100.0,800.0,150.0,700.0,300.0,200.0,1000.0,800.0,350.0,250.0,500.0,400.0,300.0,500.0,1500.0,300.0,2000.0,1000.0,750.0,300.0,350.0,600.0,400.0,600.0,600.0,300.0,250.0,1900.0,600.0,3000.0,1200.0,350.0,450.0,500.0,350.0,800.0,400.0,750.0,700.0,200.0,400.0,500.0,300.0,1200.0,1000.0,1000.0,700.0,700.0,650.0,1200.0,400.0,300.0,400.0,500.0,400.0,300.0,600.0,600.0,700.0,350.0,400.0,500.0,300.0,200.0,450.0,400.0,300.0,650.0,500.0,250.0,700.0,350.0,600.0,700.0,400.0,700.0,250.0,300.0,1100.0,300.0,600.0,1000.0,500.0,1200.0,1500.0,2400.0,2500.0,1000.0,1450.0,2000.0,1200.0,1600.0,1300.0,1600.0,1100.0,800.0,600.0,1100.0,1400.0,2000.0,1500.0,1200.0,900.0,1600.0,1300.0,1500.0,1300.0,1000.0,1500.0,1500.0,1500.0,1500.0,600.0,1100.0,750.0,700.0,1400.0,800.0,1000.0,900.0,2000.0,900.0,1000.0,400.0,950.0,1000.0,900.0,500.0,700.0,500.0,200.0,600.0,650.0,600.0,400.0,500.0,650.0,700.0,500.0,200.0,600.0,900.0,800.0,1300.0,600.0,600.0,800.0,900.0,500.0,800.0,900.0,800.0,550.0,800.0,900.0,600.0,1000.0,900.0,500.0,700.0,600.0,800.0,1200.0,600.0,1200.0,650.0,1000.0,600.0,900.0,600.0,450.0,750.0,650.0,600.0,400.0,600.0,500.0,700.0,400.0,350.0,700.0,700.0,300.0,400.0,800.0,600.0,400.0,400.0,500.0,500.0,500.0,450.0,450.0,300.0,400.0,400.0,200.0,400.0,400.0,250.0,300.0,200.0,250.0,600.0,600.0,100.0,250.0,400.0,500.0,150.0,500.0,400.0,450.0,550.0,400.0,400.0,650.0,600.0,250.0,150.0,600.0,400.0,600.0,250.0,250.0,400.0,600.0,600.0,200.0,200.0,300.0,250.0,400.0,300.0,400.0,300.0,250.0,300.0,600.0,350.0,300.0,400.0,400.0,800.0,300.0,500.0,500.0,350.0,400.0,300.0,500.0,600.0,400.0,500.0,350.0,300.0,400.0,500.0,800.0,800.0,700.0,500.0,650.0,300.0,300.0,450.0,600.0,600.0,250.0,750.0,650.0,550.0,500.0,400.0,100.0,400.0,800.0,500.0,600.0,200.0,400.0,600.0,1000.0,200.0,200.0,250.0,700.0,400.0,450.0,800.0,300.0,500.0,100.0,450.0,300.0,450.0,500.0,400.0,400.0,550.0,700.0,400.0,400.0,600.0,550.0,200.0,300.0,400.0,300.0,200.0,650.0,200.0,500.0,500.0,300.0,400.0,800.0,200.0,400.0,800.0,400.0,800.0,450.0,400.0,200.0,600.0,750.0,300.0,400.0,600.0,600.0,300.0,250.0,300.0,800.0,250.0,500.0,200.0,1200.0,300.0,100.0,400.0,400.0,350.0,400.0,700.0,350.0,1200.0,1000.0,300.0,1500.0,300.0,600.0,500.0,400.0,600.0,600.0,300.0,150.0,800.0,350.0,200.0,700.0,150.0,600.0,600.0,600.0,400.0,700.0,500.0,700.0,500.0,100.0,600.0,500.0,800.0,700.0,500.0,400.0,800.0,400.0,400.0,800.0,750.0,600.0,500.0,250.0,900.0,200.0,850.0,400.0,400.0,400.0,300.0,850.0,150.0,800.0,700.0,250.0,750.0,600.0,1000.0,300.0,600.0,500.0,400.0,600.0,500.0,500.0,500.0,700.0,200.0,200.0,600.0,400.0,500.0,800.0,200.0,250.0,150.0,300.0,500.0,900.0,1000.0,700.0,300.0,450.0,800.0,500.0,1000.0,1200.0,450.0,230.0,500.0,500.0,300.0,700.0,500.0,400.0,400.0,500.0,400.0,400.0,300.0,650.0,300.0,300.0,250.0,500.0,400.0,600.0,600.0,300.0,150.0,300.0,500.0,300.0,250.0,400.0,600.0,700.0,550.0,400.0,800.0,900.0,300.0,700.0,950.0,500.0,200.0,1200.0,900.0,150.0,800.0,300.0,750.0,400.0,350.0,200.0,400.0,800.0,600.0,450.0,500.0,500.0,500.0,400.0,300.0,1500.0,500.0,550.0,900.0,500.0,900.0,400.0,550.0,400.0,1300.0,300.0,400.0,300.0,400.0,400.0,700.0,1000.0,600.0,800.0,400.0,300.0,600.0,600.0,150.0,750.0,550.0,250.0,300.0,750.0,650.0,500.0,400.0,450.0,400.0,400.0,600.0,500.0,650.0,800.0,800.0,600.0,650.0,700.0,400.0,600.0,450.0,250.0,1200.0,1000.0,150.0,700.0,400.0,800.0,500.0,800.0,1100.0,1300.0,700.0,600.0,500.0,600.0,1200.0,500.0,400.0,600.0,1500.0,600.0,300.0,550.0,500.0,1000.0,600.0,500.0,1100.0,1000.0,300.0,500.0,1000.0,400.0,650.0,300.0,400.0,500.0,1200.0,300.0,500.0,800.0,250.0,500.0,800.0,450.0,600.0,400.0,500.0,350.0,250.0,600.0,200.0,550.0,600.0,450.0,400.0,750.0,750.0,400.0,600.0,700.0,500.0,450.0,400.0,550.0,300.0,750.0,1600.0,600.0,600.0,1000.0,800.0,1600.0,500.0,1000.0,800.0,700.0,800.0,650.0,300.0,600.0,400.0,1000.0,800.0,300.0,600.0,1300.0,200.0,400.0,1000.0,600.0,600.0,700.0,600.0,600.0,1500.0,400.0,1200.0,1200.0,600.0,500.0,1300.0,300.0,1100.0,800.0,500.0,1200.0,400.0,800.0,250.0,500.0,450.0,900.0,500.0,350.0,600.0,1000.0,300.0,1300.0,1000.0,800.0,1000.0,600.0,1200.0,350.0,1000.0,1000.0,2500.0,800.0,300.0,450.0,450.0,700.0,900.0,600.0,650.0,700.0,1500.0,500.0,900.0,350.0,1500.0,550.0,1100.0,700.0,500.0,600.0,700.0,1200.0,500.0,500.0,550.0,1200.0,750.0,650.0,300.0,400.0,300.0,300.0,800.0,1000.0,900.0,650.0,1400.0,700.0,1200.0,600.0,1500.0,1600.0,550.0,250.0,300.0,1400.0,500.0,1000.0,800.0,250.0,1200.0,700.0,600.0,1500.0,700.0,400.0,400.0,250.0,750.0,1500.0,1000.0,400.0,750.0,600.0,1500.0,450.0,1100.0,1000.0,200.0,400.0,700.0,350.0,1500.0,650.0,400.0,250.0,600.0,1000.0,1200.0,900.0,750.0,900.0,300.0,400.0,600.0,500.0,800.0,1000.0,900.0,400.0,300.0,300.0,1100.0,400.0,700.0,300.0,700.0,400.0,550.0,500.0,400.0,200.0,500.0,500.0,550.0,300.0,1700.0,1200.0,500.0,550.0,400.0,400.0,600.0,600.0,650.0,1000.0,400.0,400.0,600.0,500.0,200.0,650.0,600.0,250.0,350.0,750.0,400.0,1100.0,700.0,600.0,900.0,1100.0,500.0,500.0,200.0,450.0,800.0,500.0,800.0,650.0,350.0,200.0,600.0,600.0,600.0,600.0,450.0,1000.0,800.0,400.0,500.0,600.0,500.0,400.0,200.0,500.0,450.0,150.0,650.0,600.0,400.0,300.0,400.0,150.0,600.0,500.0,1300.0,500.0,300.0,100.0,400.0,600.0,1000.0,500.0,300.0,550.0,1200.0,900.0,400.0,400.0,800.0,1300.0,1200.0,450.0,1400.0,800.0,650.0,1100.0,350.0,1200.0,400.0,700.0,900.0,500.0,500.0,300.0,450.0,500.0,750.0,800.0,300.0,800.0,200.0,350.0,500.0,450.0,900.0,400.0,450.0,700.0,200.0,600.0,300.0,800.0,1000.0,350.0,1000.0,1400.0,700.0,600.0,400.0,400.0,500.0,550.0,800.0,600.0,900.0,650.0,800.0,650.0,150.0,500.0,650.0,350.0,200.0,400.0,800.0,150.0,200.0,800.0,700.0,150.0,500.0,600.0,200.0,400.0,900.0,700.0,600.0,800.0,150.0,400.0,1500.0,500.0,400.0,900.0,400.0,300.0,400.0,300.0,500.0,300.0,200.0,200.0,200.0,150.0,300.0,500.0,250.0,400.0,800.0,400.0,500.0,500.0,200.0,200.0,400.0,100.0,600.0,1100.0,400.0,1300.0,600.0,700.0,500.0,800.0,550.0,400.0,450.0,500.0,600.0,300.0,400.0,1200.0,400.0,650.0,500.0,900.0,350.0,600.0,400.0,400.0,400.0,400.0,250.0,300.0,200.0,450.0,500.0,300.0,500.0,200.0,500.0,500.0,350.0,400.0,400.0,400.0,400.0,800.0,700.0,350.0,150.0,400.0,200.0,800.0,700.0,400.0,150.0,400.0,500.0,600.0,400.0,250.0,200.0,500.0,400.0,400.0,200.0,1600.0,1300.0,1600.0,1100.0,800.0,900.0,800.0,1500.0,900.0,500.0,850.0,550.0,550.0,300.0,800.0,800.0,300.0,800.0,600.0,1100.0,500.0,550.0,500.0,400.0,500.0,700.0,600.0,400.0,600.0,700.0,900.0,1000.0,600.0,500.0,600.0,400.0,350.0,700.0,350.0,600.0,600.0,500.0,200.0,600.0,600.0,650.0,600.0,400.0,800.0,500.0,600.0,600.0,500.0,550.0,600.0,1000.0,600.0,500.0,650.0,450.0,500.0,650.0,700.0,500.0,250.0,500.0,300.0,1000.0,300.0,500.0,250.0,400.0,300.0,200.0,300.0,400.0,250.0,300.0,400.0,400.0,500.0,300.0,300.0,400.0,500.0,400.0,150.0,250.0,500.0,150.0,200.0,250.0,300.0,200.0,300.0,700.0,500.0,300.0,200.0,300.0,300.0,400.0,600.0,500.0,400.0,500.0,300.0,500.0,300.0,200.0,400.0,400.0,250.0,300.0,300.0,400.0,350.0,450.0,250.0,450.0,400.0,300.0,550.0,600.0,400.0,400.0,500.0,400.0,650.0,250.0,400.0,350.0,400.0,300.0,300.0,250.0,1100.0,200.0,600.0,900.0,1400.0,1500.0,2000.0,1000.0,1100.0,1500.0,1200.0,900.0,1600.0,1300.0,1300.0,1400.0,800.0,1600.0,1600.0,700.0,1500.0,1600.0,750.0,1300.0,1500.0,1000.0,1000.0,1300.0,1500.0,1500.0,1400.0,1800.0,600.0,1400.0,1300.0,600.0,1200.0,1500.0,1400.0,1200.0,1300.0,1500.0,1500.0,1000.0,1000.0,1000.0,600.0,650.0,1400.0,800.0,1200.0,800.0,1000.0,1100.0,1500.0,1200.0,1400.0,650.0,550.0,600.0,1100.0,700.0,1000.0,800.0,600.0,900.0,750.0,500.0,1500.0,800.0,1200.0,550.0,900.0,800.0,550.0,1200.0,800.0,600.0,900.0,600.0,800.0,750.0,650.0,1200.0,800.0,550.0,1200.0,1000.0,1000.0,900.0,500.0,1200.0,750.0,900.0,500.0,800.0,700.0,800.0,1200.0,600.0,800.0,650.0,600.0,800.0,750.0,500.0,1200.0,600.0,1500.0,700.0,1200.0,700.0,750.0,1400.0,1000.0,700.0,650.0,750.0,1300.0,1300.0,500.0,1000.0,1000.0,800.0,650.0,600.0,1100.0,800.0,600.0,450.0,500.0,1000.0,800.0,1300.0,550.0,300.0,650.0,700.0,400.0,500.0,800.0,1400.0,600.0,350.0,750.0,650.0,700.0,750.0,700.0,400.0,1300.0,650.0,600.0,500.0,400.0,300.0,300.0,600.0,800.0,450.0,350.0,700.0,500.0,800.0,300.0,200.0,600.0,1000.0,400.0,600.0,900.0,450.0,250.0,600.0,700.0,2000.0,500.0,550.0,150.0,450.0,600.0,600.0,1500.0,200.0,700.0,400.0,350.0,900.0,350.0,800.0,600.0,1000.0,400.0,500.0,900.0,400.0,400.0,500.0,650.0,650.0,800.0,1100.0,700.0,900.0,200.0,600.0,500.0,400.0,250.0,200.0,400.0,300.0,600.0,450.0,200.0,700.0,1000.0,800.0,200.0,600.0,600.0,300.0,400.0,700.0,600.0,300.0,400.0,250.0,400.0,400.0,200.0,300.0,400.0,1300.0,200.0,400.0,200.0,950.0,400.0,400.0,750.0,500.0,400.0,700.0,650.0,200.0,300.0,200.0,100.0,800.0,600.0,1000.0,400.0,400.0,600.0,700.0,400.0,450.0,600.0,500.0,500.0,650.0,900.0,350.0,400.0,200.0,400.0,400.0,350.0,300.0,200.0,400.0,450.0,300.0,300.0,300.0,450.0,500.0,600.0,300.0,800.0,300.0,300.0,600.0,550.0,200.0,750.0,300.0,400.0,200.0,500.0,400.0,900.0,250.0,400.0,550.0,350.0,800.0,450.0,500.0,1000.0,1100.0,1500.0,1100.0,1500.0,2000.0,1100.0,900.0,1600.0,1600.0,1600.0,1000.0,1500.0,1400.0,1800.0,1400.0,1200.0,1300.0,1000.0,1200.0,1400.0,1200.0,1200.0,1200.0,1200.0,1500.0,1400.0,1000.0,1300.0,1300.0,1400.0,1500.0,1100.0,1300.0,1100.0,1600.0,1500.0,1100.0,1400.0,1000.0,1100.0,1500.0,900.0,1400.0,1600.0,1500.0,1000.0,1500.0,1800.0,1500.0,1200.0,1300.0,1000.0,1200.0,1400.0,1000.0,1500.0,1200.0,800.0,1200.0,1200.0,1200.0,1200.0,1400.0,1000.0,1300.0,1000.0,1300.0,1300.0,1500.0,1100.0,1300.0,1200.0,1500.0,1200.0,1700.0,750.0,1800.0,1500.0,2200.0,3000.0,2100.0,2800.0,1400.0,1600.0,2500.0,3000.0,500.0,1500.0,1000.0,3400.0,2000.0,1500.0,1300.0,1700.0,1200.0,1600.0,800.0,2200.0,2000.0,1200.0,1000.0,1900.0,650.0,1400.0,1000.0,800.0,1000.0,1300.0,1600.0,3000.0,500.0,1000.0,1200.0,650.0,2500.0,1300.0,1200.0,1700.0,1800.0,1600.0,1100.0,750.0,1200.0,500.0,1100.0,1000.0,600.0,650.0,900.0,700.0,500.0,700.0,800.0,1700.0,900.0,600.0,2500.0,1400.0,400.0,750.0,700.0,700.0,500.0,1100.0,800.0,750.0,500.0,650.0,500.0,1000.0,650.0,1200.0,800.0,800.0,400.0,800.0,600.0,400.0,1000.0,500.0,600.0,1000.0,800.0,900.0,700.0,350.0,1300.0,750.0,300.0,1000.0,750.0,750.0,1100.0,500.0,650.0,400.0,750.0,750.0,500.0,750.0,600.0,750.0,300.0,600.0,400.0,650.0,400.0,500.0,550.0,150.0,500.0,1500.0,800.0,400.0,400.0,200.0,600.0,800.0,300.0,850.0,400.0,400.0,300.0,450.0,650.0,250.0,450.0,600.0,1600.0,400.0,1300.0,1200.0,1200.0,450.0,600.0,700.0,500.0,400.0,700.0,350.0,200.0,400.0,500.0,400.0,550.0,500.0,400.0,900.0,800.0,400.0,200.0,1300.0,1200.0,600.0,550.0,1100.0,500.0,600.0,400.0,800.0,1300.0,200.0,1700.0,150.0,2100.0,1700.0,1500.0,750.0,500.0,300.0,150.0,2000.0,250.0,750.0,400.0,600.0,650.0,500.0,800.0,1400.0,2100.0,1500.0,1200.0,450.0,1000.0,400.0,1500.0,600.0,1400.0,200.0,2000.0,1000.0,500.0,300.0,250.0,300.0,400.0,800.0,700.0,700.0,900.0,200.0,1700.0,500.0,1200.0,650.0,500.0,300.0,1500.0,950.0,1600.0,1500.0,1000.0,300.0,300.0,500.0,900.0,700.0,1000.0,1200.0,700.0,1000.0,800.0,1500.0,1400.0,900.0,700.0,250.0,700.0,1000.0,750.0,600.0,1300.0,400.0,250.0,350.0,800.0,300.0,1400.0,500.0,180.0,500.0,800.0,750.0,250.0,500.0,700.0,200.0,600.0,800.0,550.0,2100.0,900.0,1100.0,550.0,1400.0,600.0,400.0,400.0,400.0,750.0,800.0,500.0,150.0,600.0,750.0,600.0,1200.0,500.0,600.0,500.0,550.0,400.0,400.0,200.0,800.0,800.0,500.0,800.0,1000.0,500.0,300.0,500.0,500.0,500.0,550.0,300.0,450.0,350.0,150.0,100.0,300.0,600.0,800.0,350.0,1600.0,650.0,750.0,300.0,400.0,450.0,500.0,200.0,700.0,500.0,1000.0,200.0,300.0,850.0,800.0,1000.0,1000.0,850.0,800.0,800.0,800.0,700.0,1000.0,600.0,300.0,600.0,300.0,250.0,400.0,600.0,700.0,450.0,500.0,700.0,800.0,1000.0,600.0,400.0,500.0,900.0,700.0,650.0,500.0,800.0,500.0,350.0,1800.0,1300.0,500.0,300.0,550.0,200.0,1200.0,1200.0,1300.0,1600.0,600.0,1400.0,550.0,1200.0,1000.0,600.0,400.0,1000.0,500.0,1200.0,600.0,40.0,250.0,250.0,500.0,600.0,400.0,700.0,350.0,600.0,1700.0,550.0,600.0,1100.0,1000.0,150.0,250.0,700.0,400.0,300.0,400.0,400.0,700.0,700.0,1800.0,750.0,1900.0,1300.0,1000.0,500.0,1600.0,700.0,300.0,800.0,300.0,1000.0,600.0,650.0,750.0,500.0,1300.0,800.0,1400.0,650.0,1000.0,2000.0,150.0,2000.0,750.0,700.0,1500.0,1700.0,1100.0,1800.0,1000.0,150.0,400.0,250.0,400.0,2000.0,800.0,400.0,600.0,550.0,400.0,1400.0,700.0,300.0,1250.0,700.0,500.0,400.0,450.0,2000.0,1000.0,700.0,500.0,400.0,300.0,300.0,350.0,400.0,800.0,400.0,250.0,900.0,400.0,300.0,400.0,150.0,300.0,180.0,150.0,450.0,400.0,400.0,900.0,300.0,150.0,300.0,600.0,300.0,500.0,350.0,1300.0,800.0,200.0,750.0,300.0,500.0,1500.0,300.0,1100.0,1500.0,1200.0,1000.0,1000.0,1700.0,1000.0,600.0,650.0,1300.0,1100.0,1100.0,750.0,750.0,1400.0,650.0,1300.0,1200.0,900.0,600.0,800.0,700.0,1000.0,800.0,1500.0,950.0,500.0,800.0,1200.0,600.0,600.0,500.0,200.0,150.0,500.0,250.0,400.0,250.0,350.0,1700.0,2500.0,1500.0,1800.0,1500.0,2000.0,3000.0,2200.0,3000.0,800.0,550.0,2800.0,2500.0,1500.0,2000.0,1500.0,1500.0,3000.0,2100.0,3500.0,1700.0,1700.0,1300.0,1600.0,2800.0,1700.0,1500.0,1200.0,1500.0,1600.0,1300.0,1200.0,2000.0,3000.0,800.0,700.0,2100.0,1500.0,2500.0,1900.0,2200.0,1500.0,1400.0,2000.0,1200.0,1400.0,1500.0,600.0,1300.0,2100.0,1700.0,900.0,1100.0,1600.0,2500.0,1500.0,2500.0,550.0,1000.0,3000.0,1200.0,1300.0,1400.0,4000.0,500.0,1800.0,1300.0,1500.0,200.0,1000.0,2000.0,1500.0,1000.0,1800.0,1000.0,500.0,1000.0,1500.0,1200.0,2500.0,400.0,3400.0,3000.0,2000.0,850.0,2000.0,750.0,700.0,3500.0,600.0,1800.0,1500.0,3000.0,1300.0,1500.0,700.0,1600.0,1200.0,1300.0,1500.0,1200.0,1100.0,1700.0,2000.0,500.0,800.0,4000.0,3000.0,1100.0,1000.0,1500.0,700.0,2800.0,1000.0,1200.0,1000.0,1200.0,4000.0,2000.0,3500.0,1200.0,550.0,1000.0,1600.0,500.0,300.0,2000.0,650.0,1800.0,3000.0,800.0,2200.0,1100.0,800.0,2000.0,500.0,800.0,750.0,1500.0,1000.0,800.0,1000.0,650.0,750.0,500.0,1800.0,1000.0,400.0,550.0,600.0,700.0,700.0,2000.0,1000.0,1000.0,3000.0,2000.0,800.0,550.0,400.0,650.0,800.0,450.0,650.0,550.0,1200.0,1800.0,800.0,800.0,1200.0,1000.0,1000.0,700.0,2000.0,500.0,1500.0,300.0,350.0,600.0,3000.0,400.0,1900.0,500.0,2500.0,650.0,800.0,2500.0,1400.0,800.0,1200.0,800.0,600.0,3000.0,1000.0,550.0,400.0,800.0,800.0,400.0,850.0,800.0,1000.0,500.0,1300.0,1600.0,3000.0,600.0,1000.0,1400.0,700.0,3000.0,500.0,1000.0,2400.0,600.0,1500.0,500.0,1000.0,500.0,800.0,1300.0,800.0,1200.0,800.0,250.0,600.0,350.0,500.0,500.0,900.0,2000.0,700.0,2500.0,600.0,400.0,600.0,550.0,400.0,300.0,250.0,150.0,700.0,150.0,500.0,150.0,300.0,500.0,250.0,300.0,450.0,400.0,400.0,500.0,150.0,300.0,400.0,300.0,200.0,350.0,500.0,400.0,400.0,250.0,350.0,300.0,500.0,200.0,600.0,600.0,500.0,300.0,300.0,500.0,300.0,450.0,300.0,100.0,300.0,500.0,1300.0,800.0,1100.0,1100.0,1400.0,1300.0,600.0,3200.0,750.0,2500.0,1500.0,1300.0,1200.0,300.0,4000.0,1700.0,1000.0,2500.0,750.0,600.0,850.0,550.0,600.0,400.0,700.0,1000.0,200.0,700.0,750.0,500.0,700.0,750.0,1800.0,1200.0,900.0,1600.0,700.0,400.0,150.0,550.0,700.0,300.0,500.0,600.0,400.0,400.0,1100.0,500.0,400.0,500.0,250.0,250.0,550.0,500.0,1100.0,600.0,300.0,1200.0,1500.0,2000.0,1300.0,1100.0,1100.0,1200.0,1000.0,1500.0,1700.0,2500.0,1500.0,2000.0,3000.0,3000.0,2500.0,1500.0,1500.0,1700.0,1700.0,1300.0,1700.0,1500.0,1300.0,1200.0,2000.0,1500.0,2500.0,1900.0,1300.0,1500.0,1000.0,1200.0,1400.0,1300.0,1000.0,3000.0,1600.0,1500.0,1100.0,1100.0,1000.0,2800.0,1000.0,2000.0,1200.0,2000.0,3000.0,1500.0,600.0,1000.0,1000.0,1000.0,2000.0,1500.0,2500.0,3000.0,1400.0,2400.0,1500.0,1300.0,1300.0,1200.0,2500.0,1200.0,1200.0,1200.0,1100.0,1100.0,1200.0,1000.0,1500.0,2000.0,2500.0,1500.0,1700.0,1300.0,1700.0,1500.0,1200.0,2100.0,2500.0,1900.0,1300.0,1500.0,1000.0,1200.0,1300.0,1400.0,1300.0,1000.0,1000.0,1000.0,1600.0,1200.0,1300.0,1500.0,1100.0,1700.0,2000.0,1100.0,1000.0,1000.0,1000.0,1200.0,4000.0,2000.0,3500.0,1200.0,2000.0,1800.0,1800.0,600.0,1000.0,1000.0,1800.0,1200.0,1000.0,3000.0,800.0,1400.0,1500.0,1300.0,1300.0,1200.0,1200.0,1500.0,1200.0,1600.0,600.0,1100.0,3000.0,2200.0,1200.0,1400.0,800.0,2000.0,900.0,850.0,800.0,1500.0,600.0,700.0,650.0,500.0,400.0,600.0,600.0,700.0,400.0,400.0,700.0,200.0,450.0,200.0,250.0,300.0,400.0,500.0,500.0,500.0,500.0,200.0,700.0,600.0,600.0,300.0,500.0,800.0,800.0,300.0,250.0,500.0,700.0,300.0,650.0,400.0,450.0,500.0,400.0,600.0,200.0,400.0,500.0,400.0,400.0,400.0,750.0,500.0,400.0,450.0,400.0,150.0,400.0,450.0,400.0,650.0,800.0,250.0,450.0,600.0,550.0,250.0,250.0,900.0,750.0,700.0,400.0,500.0,300.0,500.0,150.0,800.0,500.0,700.0,800.0,750.0,350.0,400.0,900.0,300.0,400.0,700.0,900.0,350.0,400.0,700.0,500.0,400.0,300.0,600.0,600.0,450.0,750.0,400.0,600.0,250.0,650.0,600.0,500.0,450.0,400.0,600.0,600.0,1500.0,1200.0,400.0,400.0,500.0,400.0,400.0,650.0,400.0,500.0,1000.0,1200.0,700.0,900.0,200.0,500.0,1100.0,1000.0,700.0,600.0,1500.0,400.0,500.0,700.0,500.0,350.0,450.0,400.0,400.0,500.0,500.0,600.0,2000.0,600.0,200.0,250.0,400.0,450.0,400.0,500.0,600.0,400.0,250.0,400.0,400.0,700.0,500.0,500.0,1500.0,1200.0,1200.0,1200.0,1600.0,600.0,1100.0,1500.0,900.0,800.0,1400.0,600.0,650.0,700.0,800.0,3000.0,1500.0,1300.0,2200.0,450.0,500.0,500.0,800.0,600.0,1200.0,1400.0,400.0,700.0,800.0,400.0,450.0,2000.0,400.0,600.0,1200.0,700.0,600.0,400.0,500.0,600.0,900.0,750.0,700.0,2500.0,2200.0,700.0,900.0,1500.0,650.0,750.0,400.0,1000.0,700.0,850.0,1200.0,450.0,2500.0,850.0,500.0,500.0,1000.0,700.0,400.0,600.0,1500.0,800.0,700.0,600.0,550.0,1500.0,400.0,800.0,500.0,700.0,500.0,500.0,500.0,300.0,450.0,500.0,550.0,400.0,500.0,400.0,400.0,350.0,400.0,650.0,400.0,250.0,300.0,400.0,250.0,400.0,250.0,400.0,500.0,450.0,400.0,500.0,300.0,200.0,350.0,400.0,400.0,300.0,450.0,150.0,600.0,400.0,400.0,300.0,400.0,300.0,600.0,400.0,600.0,750.0,400.0,500.0,500.0,250.0,350.0,400.0,500.0,400.0,350.0,500.0,250.0,300.0,1200.0,1200.0,1200.0,1500.0,1400.0,1300.0,1200.0,2500.0,900.0,1500.0,1500.0,1200.0,1200.0,1200.0,1500.0,1400.0,1300.0,1200.0,1200.0,900.0,1500.0,1500.0,750.0,1300.0,2800.0,1300.0,1700.0,2200.0,1800.0,1600.0,1100.0,1100.0,700.0,700.0,350.0,600.0,1300.0,1200.0,750.0,750.0,700.0,300.0,1000.0,750.0,800.0,650.0,800.0,650.0,750.0,800.0,700.0,1000.0,500.0,500.0,800.0,400.0,1100.0,600.0,450.0,500.0,450.0,500.0,600.0,750.0,300.0,300.0,600.0,300.0,600.0,650.0,600.0,200.0,400.0,350.0,400.0,800.0,750.0,250.0,500.0,750.0,800.0,1000.0,500.0,750.0,400.0,550.0,400.0,950.0,400.0,600.0,400.0,300.0,800.0,150.0,200.0,750.0,250.0,300.0,750.0,400.0,500.0,400.0,700.0,600.0,800.0,550.0,650.0,400.0,500.0,1200.0,900.0,1500.0,800.0,1100.0,500.0,1400.0,650.0,450.0,400.0,1300.0,800.0,700.0,750.0,1500.0,600.0,600.0,400.0,1600.0,500.0,500.0,600.0,650.0,300.0,800.0,600.0,1700.0,1200.0,1300.0,500.0,400.0,700.0,400.0,600.0,1600.0,650.0,700.0,400.0,400.0,500.0,300.0,1000.0,1500.0,650.0,1300.0,600.0,1200.0,550.0,300.0,600.0,1100.0,500.0,800.0,400.0,700.0,900.0,400.0,450.0,500.0,900.0,450.0,400.0,450.0,40.0,550.0,300.0,3000.0,350.0,700.0,250.0,650.0,700.0,200.0,800.0,300.0,550.0,750.0,600.0,450.0,100.0,500.0,350.0,600.0,1300.0,1700.0,180.0,1700.0,600.0,2100.0,600.0,700.0,300.0,500.0,1000.0,550.0,2000.0,500.0,1500.0,450.0,1500.0,700.0,400.0,750.0,1300.0,1000.0,400.0,1000.0,700.0,500.0,800.0,1300.0,500.0,750.0,500.0,1300.0,700.0,500.0,700.0,750.0,800.0,1000.0,2100.0,1000.0,500.0,1900.0,450.0,150.0,150.0,700.0,300.0,2000.0,400.0,1000.0,650.0,950.0,150.0,500.0,300.0,1400.0,800.0,1200.0,1000.0,1000.0,150.0,700.0,750.0,1500.0,300.0,200.0,700.0,800.0,250.0,1800.0,500.0,350.0,1500.0,800.0,1000.0,200.0,550.0,400.0,500.0,400.0,250.0,1000.0,1400.0,400.0,800.0,700.0,600.0,550.0,600.0,350.0,1500.0,1500.0,500.0,200.0,550.0,300.0,1100.0,850.0,400.0,150.0,850.0,700.0,300.0,1800.0,800.0,1800.0,600.0,1000.0,800.0,2000.0,400.0,300.0,600.0,1500.0,750.0,1000.0,1500.0,700.0,400.0,700.0,300.0,600.0,300.0,900.0,400.0,450.0,650.0,500.0,800.0,800.0,2000.0,750.0,1700.0,700.0,850.0,1000.0,650.0,500.0,600.0,500.0,250.0,200.0,250.0,500.0,200.0,350.0,100.0,1200.0,550.0,600.0,500.0,300.0,700.0,300.0,300.0,800.0,700.0,300.0,800.0,1200.0,400.0,600.0,300.0,1700.0,550.0,1300.0,250.0,1100.0,750.0,800.0,750.0,700.0,400.0,200.0,1100.0,300.0,300.0,300.0,400.0,500.0,600.0,1600.0,600.0,200.0,150.0,400.0,150.0,700.0,500.0,100.0,500.0,300.0,250.0,250.0,350.0,500.0,500.0,300.0,300.0,350.0,300.0,400.0,150.0,1300.0,400.0,750.0,700.0,700.0,400.0,500.0,400.0,300.0,300.0,300.0,700.0,600.0,750.0,800.0,700.0,700.0,700.0,600.0,1100.0,550.0,600.0,1100.0,1500.0,800.0,850.0,700.0,600.0,750.0,500.0,1000.0,500.0,500.0,700.0,700.0,600.0,700.0,1000.0,300.0,500.0,1000.0,750.0,600.0,1000.0,200.0,300.0,500.0,300.0,600.0,400.0,400.0,150.0,700.0,400.0,400.0,200.0,250.0,500.0,300.0,600.0,500.0,500.0,1300.0,800.0,550.0,550.0,450.0,800.0,650.0,700.0,300.0,600.0,800.0,300.0,150.0,600.0,350.0,400.0,500.0,300.0,300.0,1300.0,2800.0,1200.0,1600.0,1000.0,2500.0,2500.0,1100.0,1100.0,1300.0,1300.0,600.0,1000.0,1300.0,750.0,1800.0,750.0,700.0,1800.0,3000.0,1300.0,1700.0,300.0,600.0,1200.0,1000.0,750.0,650.0,2000.0,3000.0,2000.0,750.0,800.0,650.0,800.0,2200.0,650.0,850.0,800.0,700.0,700.0,1000.0,1000.0,700.0,750.0,1800.0,500.0,400.0,500.0,1600.0,500.0,150.0,500.0,400.0,1500.0,400.0,250.0,500.0,550.0,800.0,800.0,400.0,300.0,400.0,1100.0,600.0,200.0,450.0,1100.0,250.0,300.0,800.0,400.0,400.0,1500.0,1300.0,2500.0,1300.0,1300.0,1000.0,1500.0,1500.0,1000.0,1300.0,1300.0,2500.0,1300.0,1000.0,1200.0,2000.0,1000.0,1400.0,1500.0,1800.0,600.0,1200.0,1000.0,850.0,750.0,600.0,800.0,400.0,1000.0,1600.0,1500.0,1500.0,900.0,1200.0,1500.0,1900.0,700.0,800.0,600.0,750.0,500.0,700.0,800.0,1200.0,800.0,950.0,650.0,750.0,300.0,600.0,700.0,700.0,600.0,300.0,700.0,600.0,500.0,450.0,650.0,1300.0,350.0,550.0,600.0,1000.0,250.0,500.0,600.0,1000.0,400.0,700.0,500.0,600.0,500.0,600.0,400.0,500.0,500.0,600.0,500.0,500.0,450.0,350.0,500.0,400.0,250.0,250.0,400.0,750.0,800.0,650.0,450.0,400.0,600.0,450.0,450.0,300.0,500.0,500.0,500.0,400.0,800.0,250.0,600.0,300.0,500.0,600.0,750.0,400.0,400.0,300.0,650.0,400.0,400.0,400.0,900.0,200.0,400.0,450.0,600.0,750.0,400.0,800.0,800.0,800.0,750.0,400.0,150.0,500.0,600.0,500.0,200.0,750.0,600.0,600.0,500.0,550.0,400.0,400.0,300.0,900.0,400.0,250.0,600.0,650.0,300.0,800.0,600.0,450.0,700.0,200.0,400.0,650.0,300.0,500.0,350.0,550.0,300.0,150.0,400.0,500.0,100.0,300.0,500.0,400.0,500.0,600.0,200.0,350.0,450.0,500.0,600.0,600.0,650.0,200.0,400.0,400.0,400.0,300.0,750.0,800.0,200.0,300.0,800.0,500.0,1500.0,1400.0,300.0,500.0,400.0,550.0,300.0,550.0,1400.0,200.0,600.0,450.0,800.0,600.0,400.0,700.0,400.0,400.0,1700.0,1900.0,500.0,350.0,180.0,200.0,1000.0,900.0,400.0,400.0,400.0,550.0,300.0,800.0,150.0,600.0,400.0,700.0,1400.0,250.0,200.0,400.0,350.0,250.0,1200.0,700.0,1000.0,400.0,650.0,500.0,500.0,1000.0,450.0,600.0,400.0,1000.0,800.0,600.0,1000.0,600.0,150.0,200.0,600.0,550.0,350.0,400.0,350.0,550.0,250.0,200.0,400.0,550.0,500.0,450.0,1000.0,600.0,400.0,700.0,1000.0,300.0,600.0,700.0,550.0,300.0,300.0,800.0,300.0,900.0,500.0,1200.0,500.0,750.0,350.0,1400.0,1700.0,400.0,300.0,800.0,400.0,950.0,450.0,300.0,1200.0,1500.0,300.0,250.0,200.0,700.0,600.0,200.0,600.0,800.0,300.0,700.0,300.0,900.0,850.0,500.0,750.0,650.0,350.0,500.0,500.0,300.0,800.0,400.0,600.0,400.0,650.0,100.0,500.0,800.0,200.0,1800.0,500.0,250.0,1500.0,300.0,400.0,150.0,250.0,400.0,450.0,450.0,800.0,450.0,700.0,600.0,650.0,400.0,400.0,300.0,350.0,800.0,500.0,250.0,600.0,400.0,900.0,400.0,100.0,250.0,400.0,150.0,1300.0,700.0,800.0,300.0,450.0,500.0,500.0,400.0,700.0,350.0,500.0,400.0,600.0,450.0,400.0,300.0,400.0,600.0,800.0,500.0,700.0,800.0,250.0,600.0,500.0,1100.0,900.0,200.0,1400.0,400.0,400.0,200.0,500.0,250.0,550.0,800.0,500.0,300.0,550.0,500.0,400.0,400.0,500.0,300.0,800.0,500.0,500.0,550.0,400.0,550.0,600.0,400.0,1300.0,400.0,1200.0,1200.0,300.0,400.0,250.0,600.0,300.0,800.0,1000.0,500.0,1100.0,250.0,1200.0,300.0,1300.0,600.0,1000.0,400.0,450.0,1200.0,200.0,600.0,400.0,700.0,750.0,800.0,700.0,600.0,600.0,400.0,850.0,300.0,700.0,1000.0,400.0,700.0,400.0,500.0,600.0,800.0,600.0,950.0,1300.0,700.0,1200.0,150.0,600.0,1000.0,1500.0,1500.0,550.0,1100.0,500.0,800.0,600.0,500.0,500.0,400.0,800.0,400.0,950.0,200.0,350.0,400.0,400.0,300.0,300.0,400.0,500.0,600.0,400.0,300.0,400.0,450.0,200.0,100.0,300.0,600.0,350.0,180.0,500.0,500.0,400.0,500.0,350.0,500.0,100.0,150.0,400.0,450.0,350.0,300.0,1000.0,500.0,150.0,500.0,300.0,400.0,600.0,650.0,500.0,500.0,1200.0,500.0,800.0,1000.0,700.0,1500.0,1500.0,1000.0,1800.0,600.0,1200.0,850.0,1400.0,1200.0,1000.0,550.0,750.0,1100.0,800.0,1200.0,700.0,900.0,1000.0,600.0,750.0,1200.0,800.0,800.0,850.0,700.0,1200.0,600.0,800.0,850.0,200.0,800.0,750.0,800.0,950.0,700.0,1200.0,600.0,800.0,900.0,600.0,650.0,1000.0,1000.0,400.0,550.0,750.0,400.0,800.0,500.0,500.0,800.0,800.0,600.0,800.0,1400.0,700.0,800.0,900.0,700.0,750.0,450.0,300.0,700.0,650.0,1300.0,600.0,500.0,800.0,500.0,600.0,700.0,400.0,500.0,500.0,550.0,800.0,1000.0,450.0,400.0,250.0,650.0,550.0,700.0,800.0,550.0,800.0,400.0,400.0,500.0,700.0,650.0,1300.0,550.0,550.0,750.0,600.0,700.0,500.0,750.0,900.0,1000.0,250.0,600.0,300.0,600.0,450.0,600.0,450.0,900.0,500.0,1000.0,600.0,500.0,600.0,400.0,400.0,450.0,500.0,400.0,300.0,250.0,400.0,500.0,150.0,400.0,300.0,400.0,400.0,500.0,300.0,400.0,300.0,350.0,350.0,400.0,500.0,400.0,300.0,150.0,400.0,600.0,400.0,500.0,600.0,400.0,200.0,400.0,400.0,300.0,200.0,500.0,450.0,500.0,400.0,450.0,400.0,400.0,250.0,250.0,600.0,300.0,500.0,400.0,600.0,200.0,250.0,300.0,400.0,400.0,400.0,400.0,300.0,300.0,750.0,300.0,300.0,700.0,200.0,400.0,800.0,200.0,150.0,350.0,250.0,500.0,500.0,300.0,500.0,400.0,200.0,400.0,250.0,1400.0,1900.0,1000.0,1600.0,1500.0,600.0,1500.0,1000.0,2000.0,700.0,750.0,1200.0,800.0,550.0,550.0,900.0,250.0,550.0,1200.0,400.0,1500.0,450.0,300.0,500.0,1900.0,350.0,300.0,250.0,600.0,300.0,350.0,100.0,450.0,1000.0,1000.0,1500.0,1500.0,850.0,1400.0,1100.0,900.0,1900.0,1000.0,1200.0,1500.0,1000.0,850.0,1000.0,1500.0,1400.0,1100.0,900.0,1200.0,1200.0,1400.0,1300.0,1400.0,1900.0,1500.0,1200.0,1500.0,1000.0,1200.0,1800.0,1600.0,2100.0,1200.0,1700.0,1400.0,1100.0,1300.0,800.0,1000.0,1300.0,750.0,1600.0,900.0,1700.0,1100.0,1200.0,1200.0,400.0,850.0,1200.0,1500.0,1700.0,1000.0,1100.0,3500.0,3000.0,2100.0,2800.0,2200.0,3000.0,1400.0,1500.0,3000.0,1000.0,900.0,800.0,600.0,800.0,900.0,600.0,1000.0,600.0,1300.0,600.0,200.0,500.0,550.0,700.0,800.0,600.0,900.0,1000.0,700.0,400.0,600.0,800.0,400.0,700.0,650.0,500.0,700.0,450.0,800.0,500.0,650.0,800.0,850.0,800.0,750.0,500.0,450.0,500.0,500.0,700.0,500.0,1100.0,900.0,200.0,500.0,700.0,600.0,500.0,600.0,500.0,1600.0,500.0,1700.0,2500.0,700.0,700.0,700.0,500.0,300.0,300.0,300.0,200.0,800.0,500.0,600.0,300.0,600.0,400.0,400.0,450.0,150.0,400.0,350.0,350.0,400.0,500.0,200.0,400.0,650.0,500.0,400.0,300.0,1000.0,350.0,150.0,200.0,800.0,650.0,800.0,400.0,800.0,400.0,850.0,600.0,300.0,500.0,500.0,550.0,250.0,550.0,750.0,400.0,800.0,600.0,250.0,300.0,150.0,1000.0,950.0,250.0,200.0,600.0,1200.0,800.0,650.0,600.0,800.0,700.0,500.0,900.0,700.0,600.0,500.0,500.0,450.0,600.0,1200.0,300.0,400.0,750.0,700.0,600.0,400.0,1600.0,600.0,400.0,1200.0,650.0,400.0,500.0,600.0,300.0,800.0,150.0,300.0,1200.0,800.0,600.0,900.0,40.0,300.0,750.0,400.0,250.0,500.0,700.0,650.0,500.0,350.0,600.0,750.0,200.0,600.0,400.0,1500.0,450.0,650.0,100.0,500.0,500.0,350.0,800.0,250.0,500.0,500.0,1300.0,850.0,1400.0,700.0,800.0,550.0,600.0,1000.0,1100.0,1200.0,1500.0,600.0,500.0,1000.0,1200.0,900.0,1600.0,500.0,300.0,300.0,300.0,500.0,1800.0,900.0,250.0,450.0,700.0,800.0,850.0,800.0,450.0,700.0,550.0,500.0,600.0,800.0,200.0,300.0,1100.0,450.0,400.0,350.0,800.0,500.0,400.0,750.0,500.0,900.0,650.0,400.0,1100.0,1600.0,600.0,900.0,350.0,800.0,1300.0,800.0,300.0,400.0,400.0,500.0,800.0,400.0,550.0,1500.0,250.0,150.0,400.0,600.0,650.0,750.0,800.0,1000.0,1500.0,450.0,350.0,700.0,300.0,500.0,300.0,2100.0,1300.0,180.0,400.0,200.0,450.0,300.0,500.0,400.0,750.0,700.0,700.0,800.0,700.0,1000.0,200.0,500.0,300.0,2000.0,1000.0,700.0,1000.0,700.0,250.0,200.0,600.0,950.0,1000.0,550.0,400.0,500.0,650.0,800.0,1200.0,2000.0,250.0,550.0,250.0,1400.0,200.0,900.0,850.0,1500.0,700.0,400.0,700.0,200.0,1000.0,1600.0,1500.0,2100.0,350.0,450.0,1000.0,300.0,300.0,1200.0,300.0,400.0,550.0,900.0,150.0,700.0,800.0,2000.0,500.0,350.0,300.0,800.0,1400.0,700.0,450.0,500.0,1200.0,700.0,600.0,350.0,500.0,800.0,1200.0,300.0,500.0,450.0,600.0,600.0,600.0,400.0,400.0,350.0,800.0,900.0,200.0,2000.0,1700.0,650.0,450.0,500.0,500.0,200.0,400.0,500.0,700.0,600.0,500.0,1500.0,350.0,300.0,1000.0,500.0,650.0,1400.0,1400.0,700.0,200.0,400.0,700.0,300.0,400.0,450.0,300.0,500.0,750.0,500.0,450.0,750.0,1200.0,200.0,1800.0,800.0,200.0,200.0,400.0,1000.0,700.0,400.0,200.0,1100.0,1500.0,800.0,300.0,650.0,400.0,400.0,300.0,350.0,450.0,600.0,1000.0,600.0,1200.0,400.0,800.0,300.0,1000.0,500.0,1500.0,400.0,700.0,150.0,350.0,1400.0,600.0,400.0,500.0,1900.0,400.0,500.0,1700.0,1400.0,650.0,450.0,500.0,600.0,1600.0,250.0,300.0,800.0,1700.0,500.0,450.0,400.0,150.0,500.0,450.0,700.0,500.0,250.0,1100.0,400.0,150.0,200.0,500.0,500.0,500.0,500.0,850.0,500.0,1600.0,600.0,600.0,200.0,1200.0,800.0,400.0,600.0,800.0,900.0,400.0,1000.0,500.0,550.0,500.0,150.0,500.0,800.0,700.0,300.0,400.0,800.0,400.0,300.0,400.0,300.0,400.0,300.0,200.0,800.0,400.0,400.0,300.0,300.0,400.0,800.0,800.0,500.0,300.0,500.0,750.0,150.0,500.0,450.0,500.0,400.0,300.0,400.0,200.0,1100.0,200.0,200.0,200.0,650.0,300.0,250.0,500.0,600.0,400.0,300.0,500.0,200.0,250.0,300.0,200.0,400.0,450.0,300.0,2000.0,700.0,400.0,800.0,1200.0,700.0,200.0,200.0,2500.0,1600.0,1500.0,1000.0,800.0,1500.0,2000.0,1400.0,1800.0,1200.0,1200.0,1500.0,1500.0,1600.0,1200.0,1300.0,900.0,2100.0,2500.0,1500.0,1400.0,1000.0,1300.0,800.0,1300.0,900.0,1200.0,1700.0,800.0,1500.0,1400.0,1400.0,1100.0,1100.0,1600.0,1000.0,1200.0,600.0,800.0,1000.0,1500.0,1000.0,850.0,1300.0,1200.0,600.0,1200.0,800.0,750.0,1500.0,1000.0,1000.0,1300.0,1500.0,800.0,1200.0,1000.0,600.0,1200.0,800.0,200.0,1000.0,1200.0,750.0,1600.0,1100.0,500.0,1500.0,1200.0,900.0,1000.0,800.0,1500.0,900.0,1200.0,1700.0,650.0,1400.0,700.0,1300.0,1500.0,1100.0,900.0,800.0,800.0,600.0,900.0,1000.0,1100.0,1500.0,1100.0,900.0,1000.0,700.0,700.0,500.0,600.0,1500.0,800.0,700.0,650.0,650.0,500.0,500.0,950.0,1400.0,750.0,800.0,800.0,400.0,1200.0,800.0,450.0,500.0,1200.0,500.0,750.0,1700.0,850.0,800.0,1600.0,500.0,1800.0,1200.0,600.0,800.0,850.0,800.0,350.0,800.0,1500.0,800.0,650.0,850.0,700.0,1000.0,1100.0,650.0,450.0,800.0,250.0,600.0,650.0,650.0,550.0,500.0,1100.0,500.0,650.0,700.0,1200.0,1500.0,700.0,400.0,1100.0,500.0,600.0,700.0,650.0,600.0,600.0,700.0,650.0,600.0,450.0,500.0,1000.0,700.0,550.0,600.0,300.0,500.0,150.0,450.0,350.0,300.0,400.0,600.0,150.0,800.0,200.0,300.0,200.0,600.0,300.0,300.0,400.0,500.0,650.0,800.0,150.0,200.0,350.0,350.0,500.0,200.0,500.0,200.0,600.0,40.0,400.0,500.0,600.0,500.0,400.0,200.0,400.0,350.0,400.0,700.0,400.0,200.0,350.0,250.0,250.0,400.0,600.0,200.0,400.0,200.0,400.0,500.0,500.0,350.0,300.0,300.0,1600.0,600.0,1700.0,1500.0,750.0,600.0,600.0,1800.0,850.0,1700.0,750.0,600.0,1000.0,800.0,500.0,500.0,500.0,700.0,500.0,550.0,600.0,600.0,500.0,1800.0,1300.0,400.0,450.0,700.0,250.0,1100.0,600.0,500.0,500.0,500.0,450.0,300.0,150.0,400.0,350.0,150.0,300.0,250.0,200.0,150.0,450.0,350.0,450.0,300.0,250.0,200.0,450.0,500.0,500.0,150.0,500.0,350.0,450.0,300.0,250.0,350.0,400.0,200.0,400.0,500.0,600.0,1800.0,2800.0,3500.0,3000.0,2100.0,2800.0,4000.0,1000.0,1000.0,1700.0,2200.0,2500.0,3000.0,1000.0,1400.0,1000.0,2500.0,3500.0,2000.0,550.0,600.0,3000.0,2400.0,1500.0,6000.0,3000.0,2800.0,1200.0,1000.0,1500.0,1800.0,3000.0,2000.0,700.0,2000.0,700.0,450.0,400.0,150.0,3000.0,2500.0,3000.0,250.0,3000.0,400.0,550.0,150.0,1200.0,3000.0,400.0,1400.0,2400.0,700.0,1900.0,1000.0,450.0,500.0,500.0,400.0,300.0,700.0,2500.0,800.0,1300.0,1500.0,1400.0,1500.0,2000.0,1500.0,2100.0,1400.0,1300.0,1300.0,1400.0,1000.0,1500.0,1500.0,1400.0,1200.0,1100.0,1000.0,1200.0,1400.0,1300.0,1500.0,1100.0,1500.0,1400.0,750.0,1700.0,1600.0,1800.0,1500.0,1000.0,1200.0,1000.0,1600.0,1700.0,1300.0,1800.0,1000.0,1000.0,1800.0,2400.0,1500.0,2800.0,3000.0,3000.0,3000.0,1200.0,1400.0,2400.0,1400.0,1300.0,1000.0,2000.0,1200.0,1500.0,1500.0,2500.0,1400.0,1300.0,1300.0,1400.0,1100.0,1500.0,1500.0,800.0,1200.0,1100.0,1000.0,1200.0,1300.0,1500.0,1100.0,900.0,1500.0,1400.0,750.0,1700.0,1000.0,1200.0,1000.0,1700.0,1700.0,1300.0,1800.0,1000.0,1000.0,1400.0,1000.0,1800.0,1500.0,1200.0,1800.0,3000.0,1200.0,1400.0,1100.0,1000.0,950.0,1000.0,1500.0,750.0,600.0,550.0,1350.0,1200.0,1600.0,900.0,1600.0,1200.0,1000.0,800.0,1100.0,1000.0,800.0,600.0,800.0,900.0,1000.0,950.0,800.0,800.0,800.0,800.0,500.0,400.0,800.0,800.0,850.0,700.0,800.0,400.0,650.0,700.0,750.0,400.0,300.0,150.0,400.0,650.0,550.0,650.0,400.0,450.0,400.0,600.0,600.0,600.0,1000.0,600.0,600.0,500.0,600.0,600.0,650.0,400.0,550.0,400.0,700.0,500.0,600.0,700.0,600.0,650.0,600.0,400.0,500.0,500.0,700.0,500.0,500.0,250.0,300.0,200.0,300.0,400.0,400.0,450.0,900.0,400.0,450.0,400.0,400.0,150.0,500.0,300.0,500.0,150.0,800.0,600.0,600.0,200.0,500.0,550.0,250.0,300.0,400.0,400.0,200.0,300.0,500.0,200.0,450.0,600.0,800.0,250.0,500.0,400.0,400.0,200.0,400.0,250.0,300.0,700.0,400.0,400.0,200.0,600.0,600.0,800.0,600.0,500.0,300.0,400.0,700.0,150.0,550.0,150.0,300.0,100.0,300.0,800.0,300.0,300.0,350.0,400.0,400.0,500.0,800.0,750.0,600.0,500.0,350.0,400.0,300.0,400.0,700.0,500.0,100.0,200.0,600.0,500.0,450.0,250.0,800.0,300.0,300.0,750.0,650.0,200.0,800.0,1000.0,300.0,250.0,500.0,500.0,300.0,600.0,350.0,650.0,600.0,200.0,650.0,400.0,1200.0,300.0,700.0,200.0,250.0,400.0,400.0,300.0,400.0,1000.0,100.0,600.0,800.0,1000.0,400.0,1200.0,600.0,500.0,800.0,500.0,400.0,200.0,500.0,600.0,900.0,400.0,450.0,650.0,400.0,450.0,800.0,600.0,200.0,400.0,300.0,1600.0,500.0,400.0,650.0,800.0,500.0,600.0,300.0,600.0,500.0,800.0,800.0,250.0,500.0,1500.0,800.0,350.0,300.0,1600.0,400.0,500.0,600.0,250.0,500.0,250.0,300.0,400.0,400.0,200.0,600.0,250.0,200.0,500.0,350.0,800.0,300.0,1200.0,1200.0,450.0,300.0,600.0,800.0,500.0,400.0,400.0,400.0,600.0,1000.0,600.0,700.0,600.0,600.0,400.0,350.0,450.0,200.0,500.0,200.0,1000.0,600.0,500.0,500.0,800.0,900.0,400.0,150.0,400.0,500.0,800.0,800.0,200.0,750.0,500.0,450.0,700.0,230.0,600.0,650.0,1500.0,1500.0,200.0,700.0,800.0,500.0,500.0,200.0,500.0,300.0,250.0,1600.0,200.0,600.0,700.0,300.0,300.0,450.0,200.0,300.0,200.0,900.0,400.0,600.0,450.0,1100.0,500.0,400.0,300.0,1000.0,700.0,300.0,600.0,400.0,150.0,500.0,1200.0,200.0,1200.0,300.0,400.0,200.0,750.0,650.0,300.0,550.0,400.0,800.0,650.0,600.0,700.0,500.0,1200.0,600.0,700.0,800.0,600.0,700.0,300.0,500.0,800.0,150.0,250.0,250.0,100.0,1200.0,200.0,500.0,900.0,350.0,100.0,1200.0,800.0,1500.0,300.0,300.0,500.0,350.0,500.0,250.0,600.0,450.0,400.0,1500.0,500.0,300.0,800.0,1000.0,500.0,750.0,200.0,200.0,800.0,1300.0,700.0,300.0,1500.0,400.0,200.0,600.0,1000.0,400.0,600.0,450.0,450.0,1100.0,300.0,500.0,300.0,700.0,1000.0,400.0,400.0,650.0,800.0,500.0,400.0,400.0,600.0,1300.0,300.0,700.0,600.0,300.0,300.0,400.0,600.0,800.0,650.0,650.0,600.0,1200.0,300.0,200.0,800.0,500.0,500.0,750.0,1000.0,1100.0,400.0,400.0,200.0,800.0,300.0,600.0,650.0,600.0,100.0,400.0,300.0,400.0,800.0,450.0,400.0,900.0,400.0,350.0,400.0,1200.0,1100.0,600.0,800.0,400.0,600.0,750.0,400.0,700.0,250.0,350.0,400.0,400.0,700.0,400.0,500.0,750.0,800.0,400.0,300.0,600.0,950.0,550.0,900.0,400.0,1400.0,500.0,300.0,750.0,700.0,300.0,550.0,450.0,300.0,1000.0,700.0,600.0,900.0,600.0,600.0,500.0,600.0,1000.0,500.0,600.0,300.0,600.0,1500.0,650.0,250.0,1100.0,750.0,400.0,600.0,800.0,500.0,600.0,150.0,700.0,1500.0,300.0,750.0,750.0,600.0,500.0,800.0,500.0,150.0,700.0,1000.0,1200.0,350.0,600.0,150.0,350.0,400.0,800.0,800.0,350.0,300.0,400.0,1000.0,400.0,550.0,600.0,300.0,700.0,900.0,600.0,800.0,850.0,100.0,400.0,700.0,600.0,300.0,550.0,400.0,700.0,1500.0,1400.0,800.0,1350.0,800.0,1200.0,1350.0,550.0,650.0,750.0,800.0,600.0,600.0,400.0,1100.0,1300.0,900.0,250.0,500.0,900.0,700.0,150.0,700.0,1500.0,400.0,300.0,800.0,1300.0,700.0,900.0,1000.0,1000.0,300.0,300.0,1000.0,500.0,600.0,1000.0,800.0,450.0,800.0,400.0,600.0,600.0,650.0,550.0,1200.0,600.0,1200.0,800.0,550.0,700.0,450.0,900.0,500.0,300.0,500.0,500.0,450.0,550.0,550.0,600.0,600.0,450.0,1000.0,600.0,1000.0,1300.0,600.0,200.0,300.0,550.0,900.0,100.0,700.0,200.0,350.0,400.0,600.0,600.0,650.0,1200.0,800.0,650.0,1200.0,800.0,300.0,400.0,200.0,600.0,800.0,800.0,450.0,200.0,650.0,700.0,350.0,250.0,600.0,650.0,200.0,300.0,300.0,150.0,450.0,400.0,600.0,650.0,500.0,900.0,400.0,350.0,500.0,400.0,750.0,400.0,800.0,400.0,800.0,200.0,200.0,200.0,400.0,500.0,800.0,400.0,250.0,400.0,400.0,400.0,200.0,600.0,400.0,350.0,500.0,700.0,400.0,400.0,300.0,400.0,300.0,150.0,300.0,250.0,300.0,200.0,400.0,400.0,400.0,400.0,300.0,700.0,600.0,150.0,600.0,500.0,150.0,500.0,150.0,500.0,600.0,400.0,400.0,230.0,550.0,400.0,100.0,400.0,700.0,500.0,500.0,700.0,200.0,400.0,250.0,600.0,300.0,200.0,200.0,800.0,500.0,400.0,300.0,800.0,1100.0,700.0,1000.0,600.0,1200.0,950.0,800.0,1000.0,1500.0,800.0,650.0,350.0,800.0,800.0,1000.0,1700.0,700.0,1000.0,500.0,1500.0,400.0,750.0,550.0,900.0,600.0,750.0,1200.0,800.0,800.0,800.0,600.0,650.0,1200.0,1200.0,250.0,600.0,850.0,700.0,1000.0,800.0,400.0,1000.0,900.0,600.0,800.0,800.0,500.0,700.0,350.0,900.0,700.0,750.0,400.0,800.0,600.0,450.0,800.0,400.0,550.0,750.0,1350.0,600.0,450.0,750.0,750.0,1000.0,400.0,900.0,500.0,300.0,550.0,550.0,700.0,600.0,500.0,400.0,100.0,1350.0,650.0,400.0,1200.0,650.0,450.0,700.0,300.0,800.0,900.0,850.0,400.0,400.0,200.0,200.0,500.0,1200.0,400.0,150.0,200.0,100.0,400.0,600.0,400.0,200.0,500.0,600.0,400.0,100.0,400.0,500.0,200.0,200.0,400.0,300.0,400.0,200.0,400.0,250.0,300.0,200.0,400.0,150.0,250.0,500.0,350.0,200.0,350.0,650.0,300.0,600.0,400.0,550.0,1500.0,1600.0,1600.0,1200.0,1600.0,1200.0,1500.0,1500.0,1300.0,800.0,600.0,1000.0,800.0,800.0,1200.0,800.0,600.0,1000.0,800.0,800.0,1000.0,800.0,1000.0,800.0,1200.0,1100.0,1500.0,800.0,900.0,600.0,600.0,600.0,1000.0,700.0,700.0,800.0,300.0,1300.0,1300.0,600.0,1000.0,1000.0,800.0,600.0,500.0,500.0,600.0,500.0,300.0,650.0,1100.0,750.0,150.0,400.0,300.0,650.0,650.0,400.0,300.0,650.0,200.0,1000.0,550.0,600.0,250.0,450.0,800.0,900.0,900.0,400.0,400.0,350.0,1000.0,850.0,300.0,100.0,500.0,500.0,700.0,650.0,750.0,400.0,1100.0,400.0,300.0,600.0,300.0,600.0,450.0,450.0,500.0,150.0,150.0,700.0,400.0,1100.0,250.0,200.0,600.0,600.0,700.0,400.0,500.0,400.0,500.0,600.0,600.0,400.0,650.0,600.0,400.0,950.0,400.0,300.0,300.0,400.0,500.0,600.0,600.0,100.0,300.0,300.0,350.0,650.0,300.0,200.0,400.0,500.0,250.0,650.0,600.0,600.0,400.0,600.0,600.0,350.0,300.0,300.0,150.0,200.0,550.0,400.0,450.0,450.0,250.0,300.0,800.0,500.0,600.0,300.0,800.0,400.0,300.0,300.0,300.0,300.0,300.0,150.0,450.0,400.0,400.0,200.0,400.0,650.0,500.0,500.0,400.0,500.0,300.0,700.0,250.0,250.0,500.0,1000.0,1300.0,1200.0,1500.0,1200.0,1350.0,1000.0,1500.0,1500.0,900.0,1600.0,1200.0,1100.0,1200.0,1100.0,1500.0,1000.0,1300.0,1100.0,1100.0,800.0,1100.0,1600.0,1200.0,1000.0,800.0,1000.0,600.0,1000.0,800.0,900.0,1000.0,950.0,900.0,1000.0,1600.0,1000.0,1100.0,600.0,1200.0,1350.0,800.0,600.0,600.0,1000.0,600.0,600.0,700.0,800.0,550.0,650.0,600.0,400.0,600.0,450.0,550.0,700.0,400.0,500.0,500.0,400.0,500.0,600.0,800.0,500.0,850.0,500.0,650.0,500.0,300.0,400.0,750.0,400.0,550.0,650.0,600.0,400.0,400.0,700.0,500.0,250.0,300.0,450.0,600.0,900.0,800.0,400.0,300.0,500.0,400.0,500.0,400.0,200.0,200.0,400.0,600.0,300.0,700.0,400.0,250.0,400.0,600.0,250.0,300.0,400.0,450.0,300.0,250.0,300.0,200.0,400.0,350.0,800.0,250.0,200.0,300.0,150.0,400.0,600.0,350.0,300.0,600.0,300.0,550.0,100.0,750.0,300.0,300.0,500.0,200.0,300.0,700.0,500.0,400.0,400.0,400.0,650.0,800.0,300.0,500.0,400.0,500.0,600.0,750.0,800.0,400.0,250.0,350.0,600.0,500.0,200.0,400.0,200.0,300.0,250.0,600.0,500.0,250.0,1000.0,500.0,700.0,600.0,1200.0,300.0,400.0,400.0,650.0,700.0,400.0,400.0,200.0,400.0,600.0,400.0,400.0,100.0,750.0,400.0,250.0,1200.0,1000.0,900.0,400.0,600.0,800.0,900.0,400.0,400.0,450.0,400.0,700.0,300.0,650.0,350.0,300.0,400.0,300.0,800.0,600.0,300.0,500.0,300.0,300.0,500.0,700.0,400.0,500.0,1600.0,600.0,500.0,600.0,200.0,250.0,1500.0,500.0,300.0,600.0,400.0,400.0,350.0,500.0,1200.0,650.0,600.0,500.0,400.0,500.0,600.0,350.0,1200.0,200.0,200.0,500.0,450.0,600.0,400.0,800.0,400.0,600.0,750.0,1000.0,800.0,450.0,500.0,400.0,450.0,250.0,250.0,700.0,750.0,230.0,500.0,100.0,250.0,500.0,750.0,300.0,250.0,300.0,600.0,300.0,400.0,600.0,400.0,1100.0,700.0,1200.0,1200.0,750.0,400.0,500.0,1000.0,800.0,600.0,200.0,800.0,200.0,600.0,700.0,800.0,100.0,150.0,500.0,450.0,300.0,600.0,400.0,1000.0,200.0,350.0,600.0,700.0,500.0,400.0,250.0,400.0,800.0,500.0,250.0,1500.0,400.0,500.0,300.0,700.0,500.0,1300.0,300.0,300.0,300.0,300.0,450.0,650.0,800.0,400.0,800.0,500.0,600.0,1200.0,300.0,650.0,400.0,400.0,800.0,700.0,1100.0,400.0,400.0,650.0,900.0,1200.0,650.0,300.0,650.0,800.0,350.0,300.0,400.0,1300.0,400.0,1200.0,700.0,350.0,650.0,800.0,1100.0,550.0,400.0,500.0,750.0,400.0,900.0,300.0,700.0,450.0,650.0,500.0,300.0,1200.0,400.0,400.0,300.0,1000.0,200.0,200.0,400.0,500.0,200.0,800.0,750.0,500.0,900.0,300.0,700.0,700.0,500.0,600.0,350.0,150.0,800.0,750.0,1000.0,500.0,600.0,800.0,600.0,600.0,800.0,700.0,250.0,700.0,400.0,800.0,350.0,600.0,1700.0,300.0,400.0,600.0,400.0,700.0,500.0,200.0,700.0,600.0,600.0,1000.0,450.0,650.0,600.0,600.0,550.0,900.0,300.0,300.0,500.0,400.0,1200.0,450.0,650.0,800.0,800.0,400.0,600.0,1100.0,750.0,500.0,800.0,500.0,600.0,150.0,700.0,100.0,500.0,900.0,1000.0,800.0,400.0,1000.0,1700.0,1000.0,800.0,550.0,500.0,600.0,1200.0,600.0,600.0,450.0,350.0,800.0,550.0,500.0,650.0,800.0,450.0,1350.0,1000.0,600.0,550.0,500.0,600.0,1000.0,300.0,550.0,600.0,450.0,650.0,500.0,600.0,1350.0,300.0,500.0,200.0,800.0,500.0,400.0,200.0,500.0,450.0,400.0,550.0,300.0,750.0,900.0,250.0,400.0,500.0,500.0,900.0,700.0,600.0,500.0,300.0,400.0,600.0,500.0,400.0,500.0,400.0,550.0,200.0,200.0,200.0,250.0,600.0,500.0,500.0,400.0,600.0,250.0,800.0,400.0,100.0,500.0,300.0,400.0,200.0,400.0,400.0,400.0,800.0,400.0,500.0,400.0,600.0,300.0,400.0,700.0,150.0,300.0,500.0,400.0,300.0,250.0,200.0,400.0,400.0,300.0,230.0,300.0,1200.0,1500.0,1200.0,1600.0,1200.0,1600.0,1000.0,1500.0,1300.0,1200.0,1200.0,800.0,1300.0,800.0,1000.0,800.0,1500.0,800.0,600.0,750.0,1200.0,700.0,800.0,1100.0,900.0,800.0,550.0,1300.0,1100.0,600.0,1000.0,800.0,1200.0,1300.0,1100.0,600.0,1000.0,600.0,750.0,1000.0,1000.0,800.0,500.0,600.0,750.0,700.0,700.0,600.0,300.0,400.0,700.0,700.0,500.0,350.0,500.0,950.0,400.0,450.0,300.0,800.0,650.0,450.0,400.0,650.0,900.0,550.0,600.0,850.0,600.0,500.0,400.0,400.0,1000.0,400.0,600.0,1100.0,650.0,1000.0,500.0,450.0,950.0,600.0,650.0,500.0,700.0,550.0,750.0,450.0,400.0,750.0,750.0,500.0,800.0,650.0,800.0,600.0,700.0,750.0,300.0,500.0,500.0,300.0,300.0,400.0,700.0,300.0,400.0,300.0,400.0,100.0,450.0,500.0,500.0,400.0,400.0,500.0,200.0,500.0,450.0,100.0,250.0,400.0,250.0,200.0,400.0,600.0,300.0,300.0,200.0,600.0,350.0,200.0,150.0,300.0,800.0,300.0,200.0,400.0,300.0,900.0,1200.0,1500.0,1200.0,1000.0,800.0,1000.0,1000.0,550.0,800.0,1000.0,800.0,800.0,500.0,600.0,400.0,500.0,500.0,600.0,500.0,450.0,1000.0,600.0,650.0,600.0,800.0,800.0,750.0,250.0,400.0,400.0,250.0,350.0,600.0,400.0,600.0,600.0,1100.0,400.0,300.0,300.0,250.0,1600.0,450.0,1100.0,800.0,1000.0,1100.0,1000.0,800.0,800.0,500.0,800.0,650.0,1000.0,1700.0,250.0,1200.0,550.0,800.0,850.0,600.0,600.0,350.0,500.0,500.0,600.0,900.0,400.0,500.0,500.0,650.0,600.0,700.0,550.0,400.0,1350.0,1200.0,500.0,300.0,250.0,750.0,300.0,400.0,750.0,1000.0,200.0,100.0,300.0,400.0,700.0,500.0,200.0,300.0,400.0,150.0,500.0,450.0,700.0,300.0,300.0,500.0,600.0,200.0,400.0,500.0,500.0,500.0,400.0,400.0,800.0,300.0,350.0,300.0,200.0,500.0,400.0,550.0,550.0,650.0,600.0,400.0,500.0,400.0,350.0,250.0,450.0,550.0,250.0,300.0,300.0,300.0,1350.0,900.0,400.0,400.0,400.0,300.0,700.0,650.0,250.0,1000.0,1300.0,1500.0,1200.0,1600.0,1200.0,1500.0,1200.0,1200.0,1300.0,1100.0,1100.0,1000.0,1100.0,900.0,1200.0,1100.0,1350.0,1400.0,1400.0,1600.0,800.0,600.0,750.0,1500.0,800.0,1000.0,1400.0,750.0,800.0,900.0,1200.0,700.0,700.0,500.0,700.0,600.0,700.0,900.0,700.0,500.0,650.0,650.0,350.0,600.0,700.0,800.0,1000.0,800.0,650.0,500.0,500.0,500.0,550.0,500.0,400.0,450.0,350.0,300.0,400.0,800.0,400.0,800.0,600.0,400.0,300.0,350.0,450.0,600.0,200.0,300.0,300.0,400.0,600.0,600.0,650.0,100.0,400.0,450.0,600.0,300.0,500.0,400.0,500.0,750.0,650.0,400.0,400.0,450.0,400.0,300.0,600.0,500.0,600.0,550.0,400.0,500.0,700.0,1500.0,600.0,550.0,300.0,500.0,500.0,450.0,700.0,500.0,700.0,600.0,600.0,500.0,400.0,150.0,600.0,400.0,500.0,400.0,400.0,800.0,1300.0,750.0,400.0,250.0,900.0,1400.0,500.0,450.0,500.0,400.0,450.0,300.0,800.0,500.0,500.0,650.0,400.0,450.0,500.0,1200.0,600.0,650.0,500.0,200.0,350.0,1200.0,400.0,500.0,350.0,800.0,300.0,400.0,400.0,700.0,500.0,600.0,1050.0,500.0,750.0,600.0,800.0,750.0,500.0,600.0,1400.0,200.0,800.0,400.0,400.0,900.0,300.0,700.0,1500.0,300.0,700.0,550.0,300.0,500.0,650.0,800.0,300.0,750.0,500.0,500.0,350.0,400.0,1000.0,400.0,600.0,600.0,400.0,600.0,750.0,1400.0,250.0,250.0,800.0,150.0,800.0,250.0,1100.0,200.0,550.0,500.0,600.0,900.0,450.0,400.0,700.0,500.0,750.0,600.0,750.0,700.0,150.0,700.0,750.0,500.0,300.0,550.0,500.0,300.0,1400.0,800.0,800.0,650.0,750.0,1200.0,600.0,1800.0,700.0,500.0,400.0,600.0,400.0,900.0,400.0,700.0,1100.0,550.0,650.0,1000.0,1500.0,500.0,1000.0,600.0,1000.0,700.0,400.0,600.0,350.0,500.0,700.0,1000.0,500.0,600.0,500.0,800.0,1400.0,700.0,800.0,500.0,1300.0,650.0,600.0,400.0,1500.0,450.0,400.0,650.0,1000.0,550.0,800.0,500.0,700.0,600.0,800.0,1000.0,600.0,300.0,600.0,800.0,450.0,600.0,450.0,300.0,1200.0,500.0,250.0,300.0,650.0,600.0,700.0,350.0,500.0,250.0,300.0,300.0,400.0,300.0,1200.0,250.0,700.0,250.0,400.0,700.0,400.0,300.0,200.0,400.0,500.0,500.0,600.0,700.0,500.0,300.0,300.0,600.0,650.0,1000.0,400.0,400.0,800.0,350.0,400.0,300.0,150.0,500.0,650.0,450.0,150.0,1400.0,1800.0,1200.0,1400.0,1400.0,1400.0,1600.0,900.0,1100.0,800.0,800.0,600.0,800.0,1200.0,800.0,750.0,1000.0,700.0,800.0,1400.0,1300.0,1500.0,700.0,600.0,750.0,750.0,1500.0,1300.0,650.0,1400.0,800.0,1200.0,600.0,600.0,800.0,1100.0,700.0,500.0,700.0,1200.0,900.0,1000.0,1300.0,700.0,600.0,700.0,500.0,600.0,1000.0,400.0,600.0,400.0,800.0,600.0,900.0,600.0,700.0,800.0,400.0,500.0,750.0,650.0,500.0,650.0,500.0,750.0,800.0,700.0,600.0,600.0,1000.0,350.0,500.0,750.0,700.0,250.0,500.0,500.0,350.0,400.0,400.0,250.0,300.0,500.0,300.0,600.0,450.0,300.0,200.0,500.0,650.0,350.0,200.0,150.0,200.0,400.0,600.0,800.0,600.0,1500.0,450.0,800.0,1200.0,1500.0,600.0,600.0,1400.0,800.0,700.0,300.0,450.0,650.0,550.0,400.0,650.0,800.0,1400.0,700.0,750.0,700.0,650.0,750.0,600.0,1000.0,800.0,600.0,700.0,700.0,500.0,700.0,550.0,450.0,300.0,400.0,400.0,600.0,250.0,300.0,600.0,450.0,500.0,350.0,300.0,450.0,500.0,550.0,400.0,300.0,250.0,300.0,550.0,400.0,300.0,500.0,450.0,350.0,750.0,450.0,650.0,1100.0,700.0,1000.0,600.0,500.0,500.0,300.0,300.0,600.0,1050.0,200.0,250.0,600.0,500.0,600.0,600.0,500.0,200.0,600.0,400.0,400.0,1200.0,500.0,400.0,250.0,600.0,550.0,500.0,500.0,300.0,300.0,400.0,400.0,400.0,1400.0,1800.0,1400.0,1200.0,1300.0,1500.0,1200.0,1200.0,1300.0,1500.0,500.0,1100.0,1200.0,800.0,600.0,800.0,1000.0,800.0,900.0,1200.0,700.0,700.0,500.0,700.0,700.0,500.0,600.0,700.0,500.0,900.0,700.0,500.0,650.0,450.0,550.0,350.0,650.0,700.0,500.0,400.0,450.0,350.0,350.0,600.0,500.0,400.0,300.0,750.0,300.0,250.0,400.0,600.0,300.0,800.0,800.0,450.0,300.0,400.0,400.0,500.0,650.0,500.0,400.0,600.0,300.0,400.0,450.0,300.0,750.0,100.0,600.0,200.0,600.0,300.0,400.0,400.0,450.0,400.0,400.0,400.0,500.0,750.0,650.0,750.0,500.0,400.0,700.0,300.0,1500.0,1400.0,500.0,400.0,150.0,350.0,700.0,700.0,500.0,450.0,400.0,700.0,500.0,600.0,200.0,400.0,600.0,800.0,450.0,500.0,500.0,400.0,600.0,300.0,600.0,500.0,600.0,1300.0,300.0,800.0,150.0,650.0,400.0,250.0,650.0,750.0,500.0,600.0,1200.0,650.0,500.0,550.0,300.0,450.0,600.0,400.0,1400.0,350.0,600.0,700.0,400.0,1400.0,700.0,700.0,500.0,450.0,1000.0,500.0,400.0,550.0,500.0,200.0,600.0,800.0,750.0,400.0,450.0,400.0,650.0,1000.0,800.0,700.0,500.0,500.0,300.0,600.0,500.0,300.0,400.0,1300.0,300.0,600.0,700.0,450.0,200.0,750.0,650.0,500.0,1500.0,500.0,350.0,450.0,500.0,750.0,800.0,600.0,300.0,400.0,400.0,900.0,900.0,450.0,600.0,1000.0,150.0,1000.0,550.0,600.0,750.0,500.0,350.0,600.0,500.0,550.0,800.0,600.0,300.0,400.0,800.0,600.0,250.0,400.0,600.0,700.0,350.0,800.0,600.0,450.0,500.0,500.0,250.0,600.0,300.0,1100.0,500.0,500.0,700.0,550.0,250.0,400.0,700.0,800.0,500.0,600.0,600.0,500.0,400.0,900.0,500.0,800.0,1050.0,650.0,700.0,400.0,750.0,1500.0,400.0,1000.0,400.0,400.0,600.0,800.0,700.0,700.0,800.0,450.0,1200.0,1100.0,800.0,300.0,500.0,800.0,1400.0,850.0,800.0,300.0,1400.0,500.0,500.0,400.0,550.0,1000.0,200.0,1200.0,300.0,600.0,200.0,1800.0,800.0,900.0,1200.0,750.0,500.0,600.0,500.0,200.0,500.0,700.0,400.0,100.0,350.0,300.0,650.0,700.0,300.0,600.0,400.0,650.0,1000.0,300.0,250.0,700.0,1200.0,800.0,400.0,350.0,400.0,150.0,400.0,700.0,400.0,400.0,300.0,200.0,400.0,500.0,500.0,600.0,700.0,400.0,450.0,300.0,500.0,300.0,300.0,300.0,150.0,600.0,650.0,1000.0,650.0,500.0,100.0,500.0,600.0,800.0,600.0,1500.0,450.0,800.0,1200.0,600.0,800.0,1400.0,300.0,450.0,650.0,550.0,400.0,800.0,550.0,1400.0,700.0,750.0,700.0,750.0,800.0,600.0,700.0,700.0,500.0,700.0,600.0,550.0,450.0,300.0,250.0,400.0,400.0,600.0,250.0,300.0,450.0,600.0,500.0,350.0,450.0,500.0,600.0,400.0,300.0,300.0,550.0,400.0,300.0,500.0,450.0,1400.0,1400.0,1800.0,2000.0,1600.0,900.0,1100.0,800.0,800.0,800.0,1200.0,800.0,1200.0,350.0,800.0,750.0,1000.0,700.0,400.0,800.0,1400.0,1400.0,750.0,1500.0,1300.0,700.0,600.0,450.0,750.0,750.0,1500.0,1500.0,600.0,1300.0,200.0,650.0,700.0,1400.0,800.0,1100.0,1200.0,700.0,1000.0,600.0,600.0,800.0,800.0,1100.0,650.0,700.0,500.0,600.0,700.0,1200.0,500.0,900.0,650.0,500.0,1000.0,1300.0,600.0,600.0,600.0,500.0,600.0,1000.0,600.0,400.0,600.0,800.0,500.0,600.0,900.0,600.0,700.0,1050.0,800.0,1300.0,400.0,500.0,600.0,600.0,600.0,750.0,500.0,600.0,650.0,1200.0,500.0,400.0,500.0,450.0,650.0,500.0,750.0,800.0,600.0,700.0,500.0,550.0,600.0,1000.0,350.0,500.0,750.0,700.0,250.0,500.0,300.0,500.0,400.0,200.0,250.0,400.0,250.0,200.0,300.0,500.0,450.0,300.0,300.0,500.0,200.0,600.0,300.0,400.0,450.0,300.0,200.0,400.0,250.0,500.0,650.0,500.0,500.0,400.0,300.0,200.0,300.0,400.0,150.0,400.0,400.0,500.0,300.0,700.0,400.0,1400.0,1800.0,2000.0,500.0,1200.0,1500.0,1300.0,1500.0,1100.0,1200.0,1200.0,1300.0,1200.0,1300.0,1500.0,1400.0,600.0,1000.0,1700.0,1500.0,2000.0,1200.0,1000.0,1500.0,1600.0,1500.0,1300.0,1500.0,1500.0,2000.0,1500.0,750.0,900.0,1100.0,1100.0,600.0,1000.0,1400.0,700.0,800.0,2000.0,1000.0,900.0,1000.0,3000.0,1000.0,1200.0,1500.0,800.0,400.0,600.0,800.0,1100.0,1000.0,800.0,600.0,600.0,800.0,600.0,850.0,700.0,700.0,700.0,650.0,650.0,500.0,300.0,450.0,900.0,800.0,1300.0,500.0,400.0,600.0,600.0,600.0,900.0,500.0,1000.0,600.0,900.0,800.0,800.0,900.0,1000.0,800.0,700.0,550.0,700.0,600.0,800.0,700.0,800.0,300.0,700.0,900.0,600.0,1200.0,600.0,650.0,800.0,200.0,1200.0,900.0,650.0,700.0,600.0,700.0,450.0,350.0,500.0,400.0,800.0,600.0,600.0,600.0,600.0,600.0,800.0,500.0,450.0,600.0,250.0,700.0,600.0,1600.0,750.0,900.0,700.0,800.0,450.0,600.0,600.0,500.0,500.0,300.0,250.0,800.0,450.0,400.0,900.0,500.0,800.0,100.0,600.0,800.0,200.0,400.0,450.0,500.0,300.0,250.0,400.0,500.0,500.0,200.0,600.0,200.0,650.0,600.0,400.0,250.0,150.0,600.0,300.0,400.0,400.0,300.0,400.0,250.0,250.0,300.0,550.0,400.0,300.0,600.0,400.0,750.0,250.0,450.0,600.0,400.0,500.0,600.0,400.0,700.0,400.0,150.0,750.0,300.0,250.0,400.0,350.0,300.0,400.0,400.0,650.0,300.0,800.0,600.0,200.0,550.0,500.0,500.0,400.0,300.0,450.0,650.0,300.0,400.0,150.0,800.0,500.0,500.0,150.0,200.0,750.0,250.0,350.0,500.0,350.0,600.0,500.0,600.0,200.0,650.0,300.0,300.0,300.0,500.0,800.0,500.0,300.0,100.0,750.0,600.0,500.0,300.0,300.0,300.0,500.0,600.0,800.0,400.0,400.0,250.0,200.0,300.0,300.0,700.0,700.0,1000.0,400.0,400.0,500.0,450.0,300.0,400.0,700.0,400.0,450.0,550.0,400.0,600.0,600.0,600.0,400.0,400.0,300.0,600.0,450.0,300.0,450.0,300.0,400.0,650.0,400.0,300.0,1000.0,450.0,600.0,200.0,700.0,300.0,600.0,800.0,600.0,400.0,800.0,400.0,1200.0,700.0,800.0,500.0,200.0,500.0,500.0,1200.0,750.0,400.0,350.0,300.0,550.0,750.0,300.0,800.0,250.0,1500.0,500.0,400.0,350.0,250.0,400.0,400.0,600.0,200.0,600.0,800.0,1000.0,600.0,650.0,600.0,1000.0,250.0,750.0,400.0,400.0,600.0,150.0,800.0,350.0,600.0,600.0,500.0,600.0,800.0,300.0,450.0,500.0,450.0,600.0,400.0,400.0,450.0,1000.0,600.0,900.0,1200.0,300.0,800.0,750.0,400.0,550.0,550.0,200.0,300.0,600.0,600.0,750.0,500.0,500.0,600.0,400.0,400.0,350.0,500.0,600.0,450.0,400.0,400.0,250.0,800.0,300.0,1300.0,150.0,500.0,600.0,900.0,500.0,200.0,500.0,1500.0,300.0,500.0,200.0,500.0,500.0,230.0,400.0,500.0,300.0,250.0,1500.0,300.0,750.0,300.0,200.0,700.0,900.0,400.0,1600.0,300.0,900.0,500.0,200.0,500.0,500.0,600.0,1200.0,300.0,600.0,400.0,500.0,700.0,150.0,300.0,1000.0,700.0,200.0,700.0,180.0,450.0,400.0,40.0,200.0,200.0,600.0,700.0,600.0,650.0,650.0,700.0,1000.0,300.0,600.0,200.0,550.0,1800.0,250.0,800.0,950.0,850.0,750.0,250.0,900.0,650.0,1000.0,1500.0,1500.0,300.0,500.0,600.0,300.0,250.0,1000.0,1400.0,400.0,1200.0,800.0,600.0,1200.0,700.0,1400.0,300.0,1000.0,500.0,700.0,250.0,750.0,800.0,350.0,800.0,400.0,500.0,200.0,300.0,400.0,300.0,650.0,1500.0,350.0,700.0,1300.0,1500.0,500.0,700.0,500.0,500.0,800.0,650.0,300.0,600.0,1000.0,500.0,300.0,350.0,850.0,300.0,1300.0,500.0,700.0,600.0,600.0,1100.0,450.0,600.0,600.0,600.0,600.0,700.0,600.0,250.0,700.0,800.0,600.0,400.0,400.0,700.0,450.0,1200.0,500.0,150.0,1000.0,900.0,600.0,800.0,500.0,800.0,700.0,350.0,1000.0,1400.0,400.0,700.0,800.0,400.0,1100.0,350.0,250.0,400.0,400.0,900.0,650.0,250.0,400.0,400.0,200.0,500.0,700.0,600.0,500.0,1000.0,200.0,1500.0,900.0,1200.0,450.0,450.0,600.0,400.0,450.0,400.0,300.0,750.0,400.0,600.0,250.0,600.0,1200.0,800.0,600.0,400.0,500.0,500.0,400.0,600.0,750.0,500.0,600.0,400.0,1200.0,400.0,400.0,700.0,300.0,600.0,1000.0,550.0,800.0,400.0,350.0,350.0,1500.0,600.0,1000.0,400.0,400.0,400.0,450.0,800.0,800.0,500.0,1200.0,650.0,500.0,750.0,900.0,300.0,600.0,600.0,1000.0,900.0,300.0,700.0,1000.0,800.0,300.0,900.0,250.0,600.0,250.0,1000.0,600.0,600.0,550.0,900.0,600.0,1500.0,300.0,800.0,350.0,250.0,650.0,500.0,800.0,1400.0,450.0,700.0,750.0,600.0,700.0,400.0,400.0,400.0,800.0,450.0,1300.0,400.0,800.0,350.0,700.0,1300.0,700.0,550.0,500.0,500.0,500.0,1100.0,300.0,500.0,800.0,600.0,900.0,2500.0,500.0,400.0,1700.0,350.0,700.0,150.0,300.0,600.0,400.0,900.0,400.0,400.0,500.0,600.0,450.0,350.0,800.0,650.0,1100.0,150.0,500.0,300.0,500.0,450.0,600.0,800.0,400.0,600.0,600.0,500.0,400.0,300.0,700.0,600.0,800.0,300.0,1100.0,200.0,1300.0,500.0,1000.0,1200.0,1000.0,800.0,600.0,650.0,1000.0,1600.0,2000.0,1400.0,900.0,600.0,400.0,800.0,1300.0,600.0,200.0,1400.0,400.0,500.0,350.0,800.0,900.0,700.0,400.0,650.0,150.0,650.0,1200.0,300.0,200.0,350.0,200.0,200.0,400.0,500.0,250.0,200.0,150.0,500.0,250.0,350.0,150.0,1000.0,1100.0,200.0,400.0,500.0,600.0,550.0,500.0,300.0,200.0,400.0,650.0,300.0,800.0,350.0,500.0,250.0,900.0,200.0,350.0,800.0,900.0,400.0,500.0,550.0,1500.0,700.0,450.0,450.0,2000.0,350.0,1300.0,600.0,500.0,600.0,600.0,400.0,500.0,800.0,1100.0,550.0,1100.0,400.0,400.0,400.0,450.0,650.0,500.0,300.0,400.0,500.0,650.0,200.0,400.0,900.0,400.0,400.0,250.0,400.0,1200.0,500.0,350.0,200.0,250.0,500.0,700.0,200.0,400.0,500.0,300.0,700.0,800.0,150.0,350.0,200.0,200.0,400.0,500.0,200.0,400.0,250.0,400.0,500.0,600.0,450.0,500.0,150.0,200.0,350.0,250.0,500.0,200.0,300.0,400.0,300.0,400.0,500.0,800.0,200.0,400.0,400.0,200.0,350.0,500.0,150.0,350.0,1000.0,1200.0,2100.0,600.0,1800.0,600.0,1400.0,1200.0,800.0,1200.0,1400.0,1300.0,1300.0,600.0,1000.0,800.0,850.0,650.0,1500.0,750.0,800.0,800.0,700.0,1700.0,750.0,1000.0,700.0,750.0,700.0,1500.0,800.0,1200.0,600.0,650.0,1500.0,650.0,500.0,450.0,1300.0,1000.0,250.0,250.0,800.0,450.0,600.0,450.0,400.0,500.0,400.0,400.0,400.0,600.0,600.0,400.0,1400.0,900.0,2000.0,1500.0,2000.0,1000.0,1100.0,1500.0,1200.0,1300.0,1400.0,900.0,1300.0,1600.0,1600.0,700.0,750.0,800.0,1000.0,1000.0,1500.0,1600.0,1500.0,1500.0,1200.0,1800.0,600.0,1300.0,600.0,1500.0,1400.0,1300.0,1500.0,1000.0,600.0,1500.0,1200.0,800.0,500.0,1000.0,1000.0,1400.0,400.0,600.0,1400.0,1200.0,1400.0,600.0,2500.0,650.0,2000.0,1100.0,1500.0,600.0,900.0,750.0,1200.0,1000.0,500.0,1000.0,1000.0,900.0,600.0,1200.0,1500.0,800.0,600.0,1200.0,800.0,800.0,800.0,900.0,1000.0,1000.0,750.0,700.0,550.0,1100.0,550.0,900.0,1100.0,700.0,500.0,1100.0,650.0,650.0,600.0,600.0,1200.0,600.0,800.0,1000.0,500.0,700.0,650.0,750.0,1200.0,800.0,800.0,850.0,800.0,1400.0,1000.0,700.0,700.0,900.0,600.0,650.0,600.0,750.0,1200.0,800.0,600.0,900.0,650.0,1500.0,800.0,1000.0,750.0,1000.0,800.0,500.0,500.0,800.0,200.0,1100.0,1000.0,750.0,1200.0,650.0,700.0,600.0,1400.0,1400.0,700.0,1300.0,750.0,500.0,800.0,700.0,650.0,700.0,1200.0,600.0,750.0,650.0,1700.0,2000.0,700.0,600.0,450.0,150.0,250.0,1000.0,700.0,350.0,800.0,500.0,900.0,250.0,800.0,550.0,600.0,600.0,500.0,800.0,1000.0,500.0,1300.0,250.0,600.0,1000.0,600.0,600.0,750.0,600.0,600.0,500.0,600.0,500.0,400.0,800.0,600.0,1000.0,250.0,500.0,500.0,800.0,700.0,450.0,800.0,700.0,650.0,600.0,400.0,1500.0,600.0,500.0,800.0,500.0,350.0,500.0,900.0,700.0,700.0,500.0,750.0,1200.0,600.0,600.0,400.0,600.0,400.0,500.0,400.0,200.0,350.0,350.0,550.0,300.0,450.0,250.0,400.0,300.0,400.0,200.0,200.0,450.0,250.0,500.0,600.0,500.0,200.0,400.0,600.0,500.0,450.0,300.0,250.0,300.0,250.0,200.0,900.0,250.0,300.0,400.0,600.0,500.0,500.0,400.0,300.0,500.0,400.0,300.0,200.0,500.0,200.0,400.0,300.0,200.0,500.0,350.0,400.0,300.0,300.0,200.0,200.0,600.0,600.0,500.0,600.0,500.0,300.0,200.0,250.0,400.0,300.0,400.0,300.0,600.0,400.0,350.0,300.0,300.0,500.0,550.0,200.0,150.0,450.0,300.0,300.0,400.0,450.0,550.0,300.0,200.0,400.0,350.0,300.0,250.0,400.0,250.0,200.0,800.0,100.0,1200.0,850.0,800.0,1200.0,1600.0,3000.0,1000.0,750.0,1200.0,1200.0,900.0,1700.0,1250.0,700.0,800.0,800.0,800.0,600.0,1500.0,800.0,550.0,650.0,300.0,700.0,1800.0,600.0,900.0,2000.0,800.0,800.0,800.0,800.0,450.0,1300.0,700.0,150.0,400.0,700.0,600.0,1000.0,200.0,900.0,3000.0,600.0,550.0,650.0,1000.0,450.0,400.0,350.0,300.0,600.0,150.0,1200.0,550.0,350.0,800.0,500.0,400.0,400.0,400.0,900.0,800.0,200.0,500.0,600.0,500.0,600.0,600.0,300.0,1800.0,1000.0,500.0,600.0,350.0,600.0,350.0,500.0,300.0,400.0,300.0,1000.0,1100.0,300.0,600.0,500.0,250.0,300.0,400.0,650.0,350.0,300.0,500.0,250.0,400.0,400.0,600.0,300.0,700.0,1400.0,1200.0,1200.0,1800.0,1200.0,1400.0,1300.0,1500.0,1200.0,1500.0,1300.0,2000.0,1500.0,2000.0,1000.0,1100.0,1600.0,2100.0,1600.0,1000.0,1000.0,1500.0,1800.0,1400.0,1000.0,1200.0,1000.0,1200.0,1400.0,2000.0,1200.0,1200.0,1000.0,1400.0,1000.0,1500.0,1000.0,1400.0,1400.0,1300.0,1200.0,1700.0,1300.0,1500.0,1200.0,1200.0,850.0,1600.0,1200.0,1700.0,1400.0,1200.0,1300.0,2000.0,1500.0,1300.0,1500.0,750.0,1100.0,1400.0,700.0,1000.0,1000.0,600.0,1600.0,1500.0,1500.0,1500.0,2000.0,1500.0,1000.0,900.0,1100.0,600.0,1700.0,1500.0,1000.0,800.0,2000.0,1000.0,900.0,1300.0,800.0,900.0,800.0,1300.0,600.0,600.0,900.0,500.0,900.0,800.0,800.0,900.0,800.0,600.0,800.0,300.0,1200.0,650.0,1200.0,450.0,800.0,600.0,300.0,600.0,800.0,650.0,700.0,600.0,600.0,800.0,500.0,400.0,600.0,1000.0,600.0,600.0,1000.0,850.0,1000.0,700.0,500.0,450.0,800.0,800.0,250.0,300.0,200.0,450.0,400.0,900.0,500.0,250.0,400.0,800.0,400.0,600.0,400.0,500.0,600.0,300.0,600.0,400.0,650.0,500.0,250.0,450.0,300.0,250.0,200.0,450.0,400.0,500.0,300.0,300.0,650.0,150.0,400.0,400.0,200.0,250.0,150.0,250.0,250.0,550.0,400.0,600.0,400.0,400.0,300.0,600.0,400.0,750.0,600.0,300.0,300.0,350.0,400.0,900.0,600.0,700.0,600.0,400.0,400.0,600.0,650.0,250.0,400.0,250.0,150.0,800.0,650.0,300.0,500.0,300.0,400.0,500.0,800.0,300.0,500.0,750.0,300.0,500.0,800.0,600.0,500.0,600.0,400.0,350.0,400.0,650.0,300.0,550.0,500.0,450.0,300.0,600.0,150.0,750.0,300.0,500.0,500.0,650.0,400.0,750.0,200.0,600.0,200.0,600.0,500.0,400.0,200.0,450.0,250.0,400.0,700.0,400.0,600.0,800.0,250.0,400.0,450.0,400.0,800.0,300.0,700.0,100.0,600.0,650.0,600.0,600.0,400.0,600.0,400.0,450.0,400.0,550.0,700.0,500.0,400.0,300.0,400.0,800.0,200.0,600.0,300.0,500.0,500.0,600.0,1500.0,300.0,550.0,350.0,800.0,600.0,200.0,600.0,600.0,500.0,600.0,1000.0,600.0,300.0,300.0,200.0,800.0,400.0,1000.0,450.0,300.0,800.0,400.0,650.0,400.0,300.0,750.0,300.0,600.0,400.0,300.0,300.0,1200.0,250.0,500.0,300.0,400.0,250.0,400.0,800.0,450.0,800.0,600.0,500.0,600.0,300.0,300.0,250.0,450.0,350.0,500.0,1200.0,1300.0,800.0,600.0,500.0,1000.0,400.0,750.0,300.0,450.0,550.0,900.0,200.0,500.0,1500.0,400.0,600.0,400.0,600.0,400.0,300.0,450.0,1200.0,500.0,700.0,200.0,700.0,200.0,1000.0,1000.0,300.0,600.0,400.0,600.0,600.0,500.0,300.0,600.0,700.0,500.0,1000.0,500.0,600.0,350.0,500.0,650.0,700.0,350.0,400.0,400.0,800.0,400.0,600.0,800.0,700.0,800.0,600.0,800.0,1300.0,700.0,500.0,250.0,1000.0,1000.0,500.0,300.0,500.0,400.0,300.0,200.0,750.0,700.0,750.0,600.0,300.0,400.0,900.0,1400.0,500.0,600.0,200.0,1000.0,500.0,1300.0,600.0,450.0,300.0,40.0,900.0,300.0,500.0,650.0,1200.0,150.0,250.0,1000.0,450.0,900.0,1000.0,500.0,600.0,1000.0,650.0,800.0,600.0,600.0,500.0,300.0,400.0,700.0,450.0,450.0,800.0,700.0,400.0,500.0,500.0,700.0,300.0,200.0,1000.0,200.0,200.0,300.0,400.0,700.0,1000.0,500.0,600.0,1000.0,600.0,900.0,500.0,500.0,350.0,230.0,1500.0,500.0,1200.0,1200.0,1100.0,650.0,900.0,900.0,250.0,700.0,650.0,2500.0,300.0,1500.0,200.0,1000.0,500.0,1000.0,450.0,500.0,500.0,400.0,1300.0,400.0,750.0,800.0,300.0,500.0,1000.0,700.0,800.0,300.0,400.0,1100.0,300.0,300.0,700.0,900.0,550.0,600.0,500.0,400.0,400.0,800.0,150.0,300.0,350.0,700.0,650.0,700.0,1600.0,600.0,1500.0,400.0,1500.0,750.0,250.0,400.0,650.0,150.0,750.0,750.0,200.0,250.0,750.0,250.0,1400.0,900.0,1200.0,200.0,300.0,600.0,800.0,700.0,600.0,450.0,400.0,900.0,600.0,300.0,1500.0,500.0,750.0,1000.0,1200.0,600.0,400.0,1000.0,1000.0,400.0,350.0,350.0,900.0,650.0,1500.0,600.0,400.0,900.0,1500.0,600.0,1200.0,400.0,1100.0,300.0,1500.0,400.0,800.0,1000.0,250.0,600.0,250.0,700.0,450.0,700.0,500.0,150.0,500.0,700.0,400.0,500.0,650.0,600.0,800.0,1300.0,300.0,300.0,700.0,900.0,1100.0,250.0,200.0,750.0,750.0,500.0,550.0,1700.0,500.0,200.0,350.0,800.0,1400.0,300.0,400.0,150.0,350.0,350.0,1200.0,1000.0,400.0,150.0,1200.0,400.0,900.0,600.0,600.0,500.0,400.0,1400.0,1000.0,250.0,300.0,600.0,600.0,250.0,400.0,400.0,1200.0,400.0,700.0,300.0,350.0,1100.0,600.0,200.0,500.0,650.0,400.0,500.0,400.0,400.0,500.0,400.0,600.0,600.0,600.0,800.0,800.0,500.0,200.0,350.0,400.0,300.0,500.0,600.0,800.0,650.0,300.0,150.0,450.0,300.0,400.0,200.0,300.0,600.0,400.0,600.0,300.0,500.0,700.0,400.0,800.0,300.0,500.0,800.0,500.0,700.0,200.0,700.0,600.0,1300.0,500.0,400.0,300.0,550.0,250.0,600.0,350.0,1400.0,2000.0,1100.0,550.0,700.0,600.0,800.0,850.0,650.0,700.0,800.0,800.0,650.0,300.0,200.0,350.0,800.0,600.0,200.0,500.0,500.0,200.0,400.0,500.0,250.0,400.0,200.0,700.0,600.0,450.0,250.0,150.0,500.0,350.0,400.0,600.0,550.0,1000.0,400.0,400.0,400.0,500.0,600.0,550.0,500.0,300.0,200.0,200.0,650.0,300.0,250.0,800.0,500.0,500.0,200.0,800.0,350.0,900.0,400.0,450.0,1500.0,200.0,900.0,500.0,400.0,1300.0,600.0,500.0,400.0,800.0,400.0,400.0,400.0,450.0,500.0,300.0,400.0,650.0,400.0,250.0,400.0,1200.0,500.0,350.0,500.0,200.0,400.0,350.0,400.0,200.0,200.0,400.0,400.0,200.0,350.0,250.0,200.0,400.0,800.0,2000.0,600.0,800.0,600.0,500.0,600.0,400.0,550.0,1100.0,500.0,1100.0,650.0,450.0,500.0,200.0,300.0,400.0,400.0,900.0,200.0,300.0,300.0,250.0,700.0,500.0,300.0,700.0,800.0,150.0,300.0,500.0,200.0,400.0,250.0,400.0,500.0,600.0,450.0,500.0,150.0,500.0,600.0,450.0,300.0,300.0,400.0,500.0,450.0,200.0,250.0,200.0,700.0,700.0,500.0,400.0,1200.0,1300.0,1200.0,1400.0,900.0,2000.0,1000.0,1500.0,1300.0,1400.0,1300.0,900.0,2100.0,1600.0,700.0,750.0,800.0,1000.0,1500.0,1500.0,1500.0,1800.0,1300.0,600.0,1400.0,1000.0,600.0,1200.0,800.0,1400.0,600.0,1400.0,600.0,650.0,900.0,750.0,1200.0,500.0,1000.0,900.0,1200.0,1500.0,800.0,800.0,1200.0,600.0,800.0,900.0,800.0,750.0,550.0,1100.0,650.0,600.0,600.0,500.0,750.0,1200.0,800.0,850.0,800.0,1000.0,700.0,600.0,750.0,1200.0,800.0,650.0,1500.0,1000.0,800.0,500.0,500.0,800.0,1200.0,700.0,1400.0,700.0,750.0,1300.0,750.0,700.0,450.0,150.0,350.0,800.0,550.0,800.0,1000.0,600.0,600.0,500.0,600.0,800.0,600.0,1000.0,500.0,600.0,650.0,500.0,900.0,700.0,500.0,400.0,200.0,350.0,400.0,200.0,500.0,600.0,200.0,600.0,750.0,500.0,250.0,500.0,300.0,250.0,600.0,200.0,300.0,300.0,450.0,250.0,800.0,2000.0,1500.0,1100.0,600.0,1600.0,1800.0,1200.0,1000.0,600.0,1600.0,1200.0,600.0,1400.0,1500.0,1000.0,1200.0,800.0,1500.0,1200.0,1500.0,1400.0,500.0,1000.0,400.0,1200.0,1400.0,1300.0,2500.0,2000.0,1100.0,1500.0,600.0,1300.0,1000.0,1000.0,600.0,1000.0,600.0,800.0,850.0,1000.0,650.0,1000.0,700.0,1500.0,550.0,750.0,800.0,1100.0,900.0,700.0,800.0,500.0,700.0,650.0,1100.0,600.0,1200.0,800.0,1000.0,700.0,650.0,800.0,1700.0,1400.0,750.0,1000.0,900.0,900.0,650.0,600.0,600.0,700.0,750.0,700.0,900.0,1500.0,800.0,1000.0,800.0,200.0,1200.0,1100.0,1000.0,750.0,600.0,650.0,600.0,1400.0,500.0,500.0,800.0,650.0,650.0,700.0,1200.0,750.0,600.0,650.0,1700.0,2000.0,700.0,600.0,250.0,1000.0,1500.0,700.0,500.0,900.0,250.0,600.0,600.0,800.0,500.0,1000.0,500.0,500.0,1300.0,250.0,600.0,600.0,750.0,600.0,450.0,1300.0,500.0,400.0,1000.0,500.0,250.0,250.0,800.0,800.0,700.0,450.0,800.0,700.0,650.0,400.0,1500.0,600.0,500.0,800.0,500.0,350.0,700.0,500.0,1200.0,600.0,450.0,600.0,400.0,600.0,400.0,350.0,550.0,600.0,300.0,450.0,250.0,400.0,300.0,450.0,200.0,450.0,250.0,500.0,400.0,450.0,300.0,250.0,500.0,300.0,200.0,400.0,900.0,300.0,400.0,250.0,600.0,500.0,400.0,500.0,400.0,400.0,300.0,200.0,500.0,200.0,400.0,300.0,200.0,500.0,300.0,350.0,400.0,300.0,300.0,400.0,200.0,600.0,500.0,600.0,500.0,200.0,400.0,400.0,300.0,300.0,400.0,600.0,350.0,300.0,600.0,500.0,550.0,200.0,150.0,600.0,300.0,300.0,400.0,450.0,550.0,300.0,200.0,350.0,300.0,400.0,400.0,250.0,200.0,100.0,1300.0,800.0,900.0,900.0,800.0,800.0,300.0,700.0,1100.0,650.0,900.0,800.0,800.0,1300.0,400.0,600.0,400.0,500.0,800.0,600.0,1000.0,200.0,500.0,600.0,900.0,1000.0,400.0,350.0,700.0,150.0,700.0,900.0,800.0,600.0,300.0,200.0,600.0,400.0,500.0,600.0,300.0,200.0,500.0,600.0,250.0,200.0,350.0,500.0,300.0,400.0,300.0,1000.0,300.0,600.0,500.0,600.0,250.0,300.0,550.0,350.0,400.0,400.0,650.0,300.0,500.0,250.0,400.0,400.0,200.0,500.0,300.0,700.0,200.0,1500.0,1800.0,1000.0,2000.0,2100.0,1600.0,1000.0,1400.0,1000.0,1200.0,1200.0,1000.0,1500.0,1000.0,1400.0,1300.0,2000.0,1500.0,1100.0,1600.0,1800.0,1200.0,1000.0,1400.0,1200.0,1200.0,1400.0,1000.0,1200.0,1400.0,2000.0,1300.0,1200.0,1000.0,1400.0,1500.0,1200.0,1400.0,1200.0,1700.0,1500.0,1300.0,1300.0,1500.0,1200.0,1100.0,2100.0,1000.0,1000.0,1400.0,1000.0,1500.0,1300.0,1400.0,1500.0,1800.0,1200.0,1500.0,1200.0,1000.0,1200.0,1000.0,1300.0,1100.0,1600.0,1800.0,1200.0,1200.0,1500.0,1200.0,1200.0,1400.0,1000.0,1200.0,1400.0,1300.0,800.0,1200.0,1000.0,1400.0,1500.0,1000.0,1200.0,1400.0,1200.0,1700.0,1500.0,1300.0,1300.0,1500.0,1100.0,1300.0,1300.0,2000.0,1400.0,2000.0,600.0,1000.0,900.0,1500.0,1200.0,1500.0,1300.0,1000.0,600.0,1500.0,1500.0,1500.0,1500.0,1100.0,750.0,900.0,1700.0,1000.0,700.0,1500.0,1400.0,800.0,1000.0,2000.0,1000.0,1500.0,800.0,1100.0,1000.0,500.0,600.0,600.0,800.0,700.0,700.0,400.0,600.0,600.0,450.0,250.0,900.0,600.0,800.0,600.0,1300.0,800.0,400.0,600.0,600.0,600.0,1000.0,800.0,1000.0,900.0,600.0,500.0,800.0,900.0,800.0,550.0,800.0,900.0,850.0,900.0,300.0,700.0,700.0,600.0,700.0,800.0,800.0,1200.0,600.0,1200.0,650.0,700.0,900.0,450.0,200.0,700.0,650.0,600.0,600.0,600.0,800.0,700.0,650.0,350.0,500.0,700.0,300.0,600.0,500.0,700.0,500.0,800.0,600.0,600.0,450.0,900.0,1600.0,600.0,500.0,500.0,450.0,500.0,450.0,800.0,400.0,800.0,300.0,900.0,200.0,250.0,400.0,250.0,300.0,600.0,400.0,400.0,650.0,500.0,600.0,500.0,600.0,600.0,400.0,800.0,500.0,400.0,300.0,300.0,600.0,200.0,500.0,300.0,150.0,300.0,400.0,600.0,400.0,550.0,750.0,150.0,450.0,650.0,500.0,400.0,400.0,300.0,500.0,400.0,400.0,600.0,600.0,800.0,700.0,250.0,400.0,700.0,250.0,800.0,250.0,250.0,750.0,350.0,600.0,600.0,600.0,200.0,350.0,600.0,1000.0,400.0,700.0,400.0,300.0,500.0,400.0,500.0,650.0,500.0,300.0,500.0,300.0,500.0,1000.0,200.0,750.0,400.0,350.0,800.0,400.0,450.0,300.0,500.0,400.0,600.0,550.0,600.0,650.0,300.0,500.0,150.0,300.0,600.0,250.0,500.0,600.0,500.0,800.0,250.0,600.0,600.0,800.0,750.0,300.0,600.0,600.0,450.0,750.0,450.0,500.0,400.0,200.0,250.0,700.0,500.0,300.0,400.0,800.0,600.0,400.0,300.0,400.0,200.0,800.0,1500.0,800.0,300.0,200.0,450.0,300.0,450.0,500.0,500.0,400.0,400.0,550.0,450.0,1000.0,600.0,300.0,550.0,300.0,650.0,500.0,500.0,1200.0,650.0,400.0,200.0,450.0,300.0,500.0,400.0,600.0,500.0,1600.0,600.0,300.0,800.0,300.0,400.0,40.0,500.0,500.0,600.0,400.0,400.0,300.0,800.0,900.0,600.0,1800.0,300.0,400.0,800.0,500.0,650.0,300.0,700.0,450.0,300.0,500.0,200.0,800.0,500.0,500.0,300.0,300.0,350.0,600.0,800.0,400.0,350.0,600.0,350.0,200.0,700.0,1000.0,1200.0,1500.0,350.0,1300.0,600.0,450.0,1200.0,650.0,400.0,500.0,400.0,400.0,1000.0,600.0,600.0,400.0,250.0,1000.0,250.0,300.0,500.0,500.0,600.0,450.0,600.0,1300.0,400.0,600.0,300.0,800.0,300.0,1000.0,500.0,300.0,400.0,800.0,600.0,300.0,500.0,1000.0,600.0,450.0,1600.0,600.0,400.0,800.0,400.0,1300.0,650.0,800.0,200.0,300.0,700.0,250.0,600.0,700.0,600.0,500.0,500.0,600.0,700.0,600.0,400.0,1100.0,750.0,1500.0,400.0,230.0,800.0,500.0,700.0,1500.0,400.0,300.0,300.0,2500.0,600.0,300.0,500.0,1500.0,900.0,700.0,200.0,600.0,600.0,500.0,900.0,900.0,500.0,400.0,600.0,200.0,500.0,1000.0,1200.0,200.0,400.0,500.0,250.0,700.0,500.0,300.0,250.0,600.0,650.0,650.0,500.0,250.0,1200.0,1200.0,800.0,400.0,500.0,1500.0,150.0,700.0,1000.0,350.0,1000.0,700.0,900.0,750.0,700.0,300.0,650.0,500.0,700.0,400.0,400.0,500.0,800.0,400.0,1000.0,1500.0,300.0,600.0,100.0,1000.0,800.0,700.0,700.0,400.0,350.0,350.0,450.0,200.0,400.0,900.0,450.0,300.0,300.0,300.0,600.0,1000.0,1000.0,550.0,200.0,500.0,1500.0,1000.0,400.0,600.0,900.0,150.0,1400.0,750.0,400.0,900.0,300.0,1200.0,600.0,400.0,500.0,1500.0,450.0,450.0,200.0,1100.0,500.0,1700.0,600.0,400.0,350.0,250.0,600.0,700.0,600.0,400.0,400.0,600.0,750.0,600.0,250.0,2000.0,500.0,1500.0,700.0,1000.0,700.0,1300.0,500.0,500.0,800.0,800.0,500.0,600.0,300.0,700.0,450.0,750.0,350.0,150.0,300.0,1200.0,600.0,1200.0,400.0,300.0,1100.0,700.0,300.0,650.0,700.0,300.0,650.0,400.0,1100.0,900.0,450.0,550.0,400.0,750.0,250.0,1200.0,350.0,400.0,800.0,1000.0,400.0,700.0,1200.0,500.0,1000.0,750.0,550.0,600.0,150.0,1400.0,350.0,700.0,300.0,250.0,400.0,250.0,250.0,450.0,200.0,600.0,600.0,1000.0,200.0,300.0,750.0,250.0,250.0,200.0,600.0,600.0,600.0,600.0,600.0,500.0,150.0,600.0,1000.0,600.0,200.0,800.0,350.0,350.0,650.0,500.0,400.0,400.0,500.0,550.0,300.0,300.0,500.0,1300.0,250.0,500.0,600.0,650.0,150.0,900.0,200.0,700.0,550.0,400.0,800.0,450.0,1400.0,800.0,600.0,150.0,300.0,400.0,200.0,800.0,600.0,300.0,600.0,700.0,250.0,300.0,1000.0,1000.0,1000.0,1400.0,1600.0,300.0,700.0,450.0,900.0,1400.0,800.0,900.0,900.0,1300.0,800.0,1400.0,800.0,650.0,1100.0,400.0,650.0,500.0,800.0,900.0,800.0,850.0,800.0,350.0,1200.0,400.0,650.0,300.0,650.0,200.0,350.0,400.0,150.0,200.0,500.0,400.0,400.0,500.0,600.0,450.0,250.0,150.0,500.0,600.0,300.0,200.0,1000.0,1100.0,400.0,400.0,600.0,500.0,200.0,400.0,650.0,800.0,350.0,700.0,500.0,500.0,250.0,200.0,800.0,350.0,500.0,1500.0,200.0,400.0,600.0,2000.0,500.0,600.0,1100.0,400.0,500.0,250.0,500.0,250.0,300.0,300.0,250.0,400.0,1300.0,600.0,800.0,600.0,600.0,400.0,500.0,800.0,550.0,450.0,450.0,400.0,400.0,300.0,500.0,500.0,400.0,650.0,400.0,1200.0,400.0,1100.0,650.0,300.0,500.0,900.0,350.0,400.0,400.0,300.0,200.0,400.0,250.0,200.0,450.0,300.0,500.0,350.0,200.0,500.0,500.0,200.0,500.0,400.0,400.0,400.0,800.0,700.0,350.0,150.0,200.0,200.0,300.0,400.0,400.0,500.0,400.0,600.0,150.0,700.0,500.0,600.0,200.0,450.0,400.0,400.0,200.0,800.0,450.0,200.0,400.0,200.0,500.0,2000.0,1000.0,500.0,2500.0,1100.0,2000.0,600.0,1100.0,700.0,1000.0,600.0,650.0,800.0,700.0,1000.0,600.0,700.0,1000.0,1400.0,750.0,1000.0,250.0,900.0,1700.0,250.0,250.0,600.0,700.0,800.0,500.0,600.0,250.0,800.0,1500.0,450.0,1300.0,400.0,500.0,1200.0,500.0,750.0,600.0,400.0,600.0,400.0,250.0,300.0,400.0,400.0,200.0,550.0,450.0,400.0,300.0,200.0,400.0,400.0,200.0,600.0,600.0,350.0,200.0,550.0,300.0,400.0,1400.0,900.0,1500.0,2000.0,1000.0,1100.0,1500.0,2100.0,1200.0,600.0,1300.0,1300.0,1400.0,800.0,1800.0,1600.0,1200.0,1600.0,700.0,900.0,1500.0,750.0,1300.0,1500.0,1000.0,1000.0,600.0,1300.0,1500.0,1500.0,1400.0,1800.0,600.0,1200.0,1600.0,1400.0,600.0,1400.0,1000.0,1200.0,800.0,1500.0,1500.0,1200.0,400.0,1000.0,1000.0,1400.0,600.0,1400.0,800.0,1200.0,600.0,1300.0,1200.0,600.0,1300.0,1500.0,1400.0,1200.0,650.0,600.0,550.0,1000.0,1100.0,1000.0,800.0,1000.0,650.0,900.0,600.0,750.0,500.0,1500.0,1500.0,1200.0,800.0,900.0,800.0,550.0,800.0,900.0,800.0,900.0,1700.0,600.0,800.0,750.0,850.0,750.0,800.0,1200.0,1000.0,1200.0,900.0,1000.0,500.0,900.0,750.0,500.0,800.0,700.0,600.0,700.0,1200.0,800.0,600.0,700.0,800.0,650.0,600.0,800.0,800.0,850.0,750.0,1200.0,500.0,600.0,1500.0,750.0,1100.0,1200.0,750.0,1000.0,650.0,1000.0,700.0,700.0,750.0,1200.0,800.0,650.0,800.0,1100.0,650.0,500.0,1500.0,1000.0,450.0,500.0,800.0,1300.0,200.0,750.0,1200.0,600.0,1400.0,800.0,600.0,1000.0,750.0,650.0,700.0,700.0,600.0,650.0,500.0,600.0,600.0,800.0,500.0,1000.0,600.0,600.0,700.0,2000.0,600.0,150.0,250.0,500.0,600.0,800.0,1500.0,700.0,350.0,500.0,800.0,650.0,600.0,550.0,650.0,650.0,700.0,900.0,500.0,600.0,1000.0,800.0,400.0,450.0,1000.0,1300.0,500.0,750.0,700.0,500.0,500.0,700.0,650.0,800.0,1000.0,600.0,700.0,250.0,800.0,500.0,600.0,500.0,600.0,700.0,350.0,450.0,400.0,500.0,600.0,200.0,450.0,250.0,350.0,300.0,450.0,350.0,500.0,300.0,200.0,600.0,400.0,250.0,450.0,600.0,200.0,500.0,500.0,900.0,500.0,250.0,200.0,500.0,300.0,400.0,400.0,600.0,300.0,300.0,400.0,500.0,400.0,400.0,450.0,200.0,200.0,500.0,400.0,500.0,300.0,500.0,300.0,200.0,300.0,600.0,400.0,500.0,400.0,500.0,350.0,300.0,200.0,400.0,300.0,300.0,600.0,150.0,500.0,300.0,400.0,300.0,450.0,250.0,600.0,300.0,600.0,400.0,550.0,200.0,300.0,300.0,350.0,400.0,250.0,800.0,300.0,250.0,350.0,200.0,100.0,1200.0,800.0,1700.0,900.0,1600.0,800.0,700.0,1500.0,1800.0,300.0,800.0,800.0,1000.0,1300.0,900.0,400.0,200.0,1000.0,600.0,600.0,800.0,400.0,500.0,200.0,250.0,400.0,500.0,600.0,200.0,300.0,300.0,300.0,600.0,600.0,1800.0,400.0,250.0,900.0,350.0,300.0,1000.0,1100.0,350.0,600.0,500.0,300.0,400.0,400.0,650.0,500.0,400.0,700.0,400.0,500.0,200.0,300.0,2100.0,1100.0,1300.0,2000.0,1000.0,2000.0,1000.0,1400.0,1700.0,1500.0,1200.0,1500.0,2000.0,1000.0,1800.0,1600.0,1200.0,1600.0,1000.0,1000.0,1500.0,1400.0,1800.0,1400.0,1200.0,1200.0,1000.0,1400.0,1200.0,1200.0,1300.0,1400.0,1200.0,1200.0,1500.0,1000.0,1000.0,1200.0,1500.0,1300.0,1200.0,1400.0,1500.0,1300.0,1200.0,1700.0,1600.0,1400.0,1200.0,2000.0,1500.0,1500.0,1500.0,800.0,1000.0,1500.0,1300.0,1500.0,1300.0,1000.0,600.0,1500.0,2000.0,600.0,1100.0,750.0,900.0,1700.0,1000.0,700.0,1100.0,1500.0,1000.0,1400.0,2000.0,900.0,1000.0,1300.0,1100.0,800.0,1000.0,800.0,1000.0,550.0,700.0,600.0,900.0,650.0,700.0,350.0,600.0,650.0,900.0,600.0,800.0,600.0,1300.0,800.0,500.0,400.0,600.0,600.0,600.0,800.0,1000.0,900.0,600.0,500.0,800.0,900.0,800.0,900.0,850.0,600.0,900.0,300.0,700.0,800.0,600.0,700.0,800.0,800.0,700.0,1200.0,1200.0,650.0,700.0,450.0,200.0,700.0,600.0,600.0,600.0,800.0,650.0,500.0,700.0,400.0,300.0,500.0,600.0,600.0,700.0,500.0,800.0,450.0,250.0,450.0,600.0,900.0,1000.0,700.0,700.0,600.0,600.0,500.0,600.0,500.0,450.0,500.0,450.0,250.0,800.0,300.0,400.0,400.0,400.0,800.0,900.0,200.0,250.0,300.0,600.0,400.0,400.0,650.0,500.0,250.0,600.0,500.0,600.0,600.0,400.0,800.0,450.0,500.0,400.0,300.0,200.0,500.0,300.0,150.0,300.0,600.0,400.0,550.0,150.0,450.0,500.0,400.0,400.0,500.0,400.0,400.0,400.0,600.0,600.0,800.0,250.0,700.0,250.0,300.0,400.0,900.0,700.0,250.0,450.0,300.0,800.0,250.0,250.0,750.0,350.0,600.0,600.0,600.0,200.0,350.0,600.0,400.0,700.0,500.0,600.0,200.0,400.0,300.0,500.0,650.0,500.0,300.0,500.0,350.0,500.0,600.0,200.0,300.0,750.0,800.0,400.0,350.0,800.0,400.0,450.0,400.0,300.0,300.0,500.0,400.0,600.0,550.0,600.0,650.0,300.0,500.0,150.0,300.0,600.0,250.0,650.0,400.0,800.0,200.0,1000.0,250.0,600.0,1200.0,700.0,600.0,800.0,400.0,750.0,400.0,300.0,600.0,450.0,750.0,450.0,500.0,400.0,200.0,100.0,250.0,650.0,500.0,300.0,400.0,500.0,1200.0,400.0,400.0,200.0,800.0,400.0,1500.0,800.0,400.0,300.0,200.0,450.0,400.0,400.0,450.0,1000.0,600.0,700.0,250.0,300.0,200.0,600.0,400.0,650.0,500.0,650.0,650.0,400.0,200.0,450.0,500.0,400.0,600.0,500.0,600.0,300.0,800.0,300.0,400.0,500.0,400.0,600.0,800.0,900.0,600.0,300.0,400.0,800.0,500.0,650.0,300.0,700.0,450.0,300.0,500.0,500.0,200.0,800.0,500.0,300.0,500.0,300.0,600.0,800.0,400.0,350.0,200.0,300.0,700.0,1000.0,1200.0,1500.0,350.0,200.0,1300.0,600.0,1000.0,450.0,1200.0,300.0,350.0,650.0,500.0,400.0,600.0,300.0,600.0,250.0,500.0,800.0,1000.0,600.0,250.0,300.0,500.0,500.0,500.0,600.0,450.0,600.0,1300.0,400.0,300.0,400.0,300.0,1000.0,500.0,800.0,300.0,500.0,200.0,800.0,600.0,300.0,500.0,600.0,450.0,1600.0,600.0,400.0,400.0,1300.0,1000.0,400.0,750.0,700.0,650.0,800.0,1000.0,300.0,700.0,600.0,600.0,1500.0,500.0,700.0,400.0,1100.0,750.0,1500.0,400.0,230.0,500.0,700.0,400.0,300.0,2500.0,1200.0,300.0,250.0,600.0,300.0,900.0,350.0,1500.0,200.0,900.0,700.0,200.0,600.0,600.0,900.0,900.0,500.0,500.0,400.0,600.0,500.0,500.0,1200.0,1000.0,200.0,400.0,500.0,700.0,500.0,180.0,300.0,550.0,400.0,250.0,600.0,650.0,500.0,250.0,300.0,450.0,600.0,1200.0,800.0,800.0,400.0,500.0,1500.0,150.0,700.0,1000.0,1000.0,700.0,900.0,750.0,700.0,500.0,650.0,500.0,700.0,400.0,150.0,400.0,400.0,400.0,400.0,1500.0,300.0,600.0,400.0,400.0,100.0,1200.0,300.0,1000.0,800.0,700.0,350.0,350.0,450.0,200.0,200.0,400.0,400.0,600.0,300.0,300.0,200.0,300.0,500.0,600.0,1000.0,1000.0,550.0,200.0,300.0,500.0,1500.0,1000.0,250.0,400.0,600.0,900.0,150.0,1400.0,750.0,400.0,1000.0,900.0,300.0,1200.0,300.0,600.0,400.0,300.0,1500.0,450.0,450.0,200.0,1100.0,400.0,800.0,1700.0,1500.0,600.0,400.0,600.0,800.0,600.0,400.0,700.0,400.0,1000.0,600.0,700.0,700.0,750.0,600.0,250.0,400.0,150.0,1200.0,400.0,700.0,100.0,1000.0,900.0,700.0,1300.0,500.0,500.0,800.0,550.0,800.0,500.0,600.0,300.0,700.0,750.0,500.0,350.0,300.0,650.0,600.0,1200.0,200.0,400.0,1100.0,700.0,300.0,650.0,700.0,400.0,300.0,650.0,400.0,1100.0,600.0,900.0,450.0,550.0,350.0,400.0,750.0,250.0,1200.0,200.0,500.0,350.0,400.0,800.0,500.0,650.0,1000.0,750.0,400.0,700.0,1200.0,500.0,500.0,1000.0,750.0,550.0,600.0,1400.0,400.0,300.0,1000.0,350.0,700.0,750.0,200.0,400.0,250.0,250.0,600.0,600.0,650.0,1000.0,200.0,800.0,300.0,750.0,600.0,600.0,600.0,600.0,600.0,250.0,550.0,400.0,500.0,400.0,150.0,600.0,1000.0,250.0,600.0,100.0,800.0,450.0,500.0,400.0,650.0,500.0,1300.0,400.0,600.0,650.0,350.0,150.0,200.0,700.0,550.0,400.0,800.0,600.0,450.0,500.0,800.0,600.0,300.0,400.0,900.0,200.0,200.0,800.0,900.0,600.0,300.0,600.0,700.0,250.0,1000.0,1000.0,1000.0,1400.0,2000.0,300.0,450.0,700.0,1100.0,900.0,1400.0,1000.0,800.0,900.0,900.0,1300.0,800.0,600.0,1400.0,800.0,650.0,1100.0,400.0,650.0,500.0,550.0,800.0,900.0,800.0,850.0,800.0,350.0,1200.0,400.0,650.0,600.0,150.0,700.0,300.0,200.0,800.0,150.0,500.0,200.0,500.0,200.0,500.0,400.0,400.0,500.0,250.0,200.0,700.0,450.0,250.0,350.0,400.0,600.0,500.0,300.0,200.0,550.0,1000.0,400.0,400.0,400.0,500.0,600.0,550.0,500.0,300.0,200.0,200.0,400.0,650.0,300.0,250.0,800.0,500.0,700.0,500.0,250.0,800.0,500.0,350.0,400.0,500.0,1500.0,500.0,400.0,550.0,400.0,900.0,400.0,300.0,200.0,450.0,250.0,500.0,500.0,800.0,700.0,150.0,600.0,150.0,400.0,2000.0,400.0,1300.0,600.0,800.0,500.0,600.0,600.0,400.0,500.0,800.0,1100.0,450.0,450.0,400.0,400.0,300.0,500.0,500.0,400.0,400.0,1200.0,400.0,1100.0,650.0,500.0,300.0,500.0,350.0,400.0,300.0,400.0,250.0,300.0,500.0,350.0,200.0,200.0,400.0,400.0,350.0,200.0,200.0,300.0,400.0,400.0,500.0,400.0,250.0,500.0,250.0,700.0,500.0,600.0,200.0,450.0,300.0,400.0,300.0,200.0,800.0,450.0,600.0,200.0,200.0,200.0,700.0,400.0,1600.0,2100.0,1500.0,1500.0,1100.0,1500.0,600.0,1500.0,1400.0,550.0,900.0,500.0,600.0,750.0,650.0,1100.0,1000.0,600.0,650.0,650.0,500.0,800.0,1000.0,750.0,700.0,800.0,650.0,750.0,800.0,400.0,750.0,700.0,650.0,700.0,650.0,500.0,700.0,450.0,350.0,300.0,450.0,600.0,900.0,200.0,400.0,400.0,200.0,500.0,200.0,450.0,600.0,400.0,500.0,200.0,250.0,400.0,500.0,300.0,400.0,550.0,200.0,300.0,400.0,300.0,600.0,1400.0,900.0,2000.0,2000.0,1000.0,1500.0,1200.0,600.0,1300.0,1300.0,1400.0,800.0,1200.0,1800.0,1600.0,700.0,900.0,1500.0,750.0,1300.0,1500.0,1000.0,1000.0,600.0,1300.0,1500.0,1400.0,1800.0,1400.0,600.0,1400.0,1000.0,1200.0,800.0,1000.0,1500.0,500.0,1200.0,400.0,1000.0,1000.0,1400.0,600.0,1400.0,800.0,1200.0,1300.0,2500.0,600.0,1300.0,1100.0,1200.0,650.0,550.0,600.0,2000.0,600.0,1100.0,1000.0,800.0,1000.0,650.0,900.0,600.0,500.0,1500.0,1500.0,800.0,1200.0,900.0,800.0,800.0,900.0,1100.0,800.0,900.0,700.0,1700.0,800.0,1000.0,600.0,750.0,850.0,750.0,1200.0,800.0,1000.0,600.0,1200.0,900.0,1000.0,650.0,500.0,750.0,800.0,700.0,700.0,1200.0,800.0,600.0,700.0,800.0,650.0,600.0,800.0,700.0,800.0,1000.0,750.0,600.0,1200.0,500.0,1500.0,750.0,1100.0,1200.0,1000.0,1000.0,650.0,700.0,750.0,700.0,1200.0,800.0,800.0,1300.0,1500.0,450.0,500.0,800.0,200.0,750.0,600.0,1000.0,1400.0,1400.0,800.0,1000.0,750.0,750.0,700.0,700.0,1000.0,600.0,500.0,250.0,600.0,600.0,700.0,2000.0,600.0,150.0,250.0,500.0,600.0,800.0,1500.0,350.0,900.0,600.0,550.0,650.0,1700.0,250.0,700.0,900.0,250.0,600.0,600.0,1000.0,700.0,800.0,450.0,500.0,1000.0,1300.0,600.0,500.0,250.0,700.0,500.0,500.0,800.0,1000.0,600.0,250.0,800.0,1500.0,800.0,450.0,1300.0,500.0,400.0,500.0,1200.0,500.0,350.0,450.0,600.0,400.0,600.0,400.0,400.0,500.0,600.0,200.0,200.0,450.0,250.0,350.0,300.0,400.0,500.0,400.0,200.0,600.0,400.0,250.0,200.0,550.0,200.0,500.0,500.0,400.0,250.0,500.0,300.0,400.0,400.0,600.0,300.0,300.0,200.0,200.0,500.0,200.0,300.0,400.0,500.0,400.0,300.0,200.0,600.0,400.0,600.0,300.0,600.0,350.0,300.0,450.0,200.0,600.0,300.0,600.0,550.0,300.0,250.0,800.0,400.0,350.0,200.0,1600.0,1300.0,1200.0,1100.0,800.0,600.0,1200.0,900.0,1000.0,550.0,800.0,900.0,600.0,800.0,600.0,700.0,300.0,800.0,700.0,400.0,800.0,1100.0,650.0,500.0,1000.0,550.0,650.0,700.0,600.0,250.0,1300.0,300.0,600.0,600.0,1000.0,500.0,900.0,600.0,900.0,800.0,400.0,200.0,1000.0,400.0,600.0,450.0,600.0,350.0,500.0,1000.0,500.0,350.0,200.0,400.0,500.0,500.0,1000.0,700.0,300.0,250.0,500.0,150.0,600.0,500.0,600.0,500.0,300.0,600.0,200.0,300.0,400.0,500.0,300.0,200.0,300.0,300.0,600.0,600.0,600.0,450.0,200.0,400.0,250.0,900.0,500.0,600.0,350.0,300.0,200.0,150.0,250.0,1000.0,400.0,350.0,600.0,600.0,500.0,300.0,400.0,150.0,300.0,550.0,400.0,300.0,400.0,400.0,650.0,500.0,400.0,700.0,400.0,600.0,500.0,250.0,200.0,300.0,1000.0,2000.0,2100.0,1500.0,1100.0,1600.0,1400.0,2000.0,1800.0,1200.0,1600.0,1000.0,1000.0,1500.0,1400.0,1800.0,1400.0,1200.0,1000.0,1200.0,1000.0,1400.0,1200.0,1300.0,1100.0,2000.0,1200.0,1200.0,1000.0,1500.0,1000.0,1000.0,1200.0,1500.0,1300.0,1400.0,1400.0,1500.0,1700.0,1300.0,1500.0,1300.0,1200.0,1100.0,1200.0,1100.0,1000.0,1000.0,1600.0,1100.0,1000.0,1500.0,1400.0,1000.0,1400.0,1500.0,2100.0,1300.0,1400.0,1800.0,1200.0,1500.0,1000.0,1800.0,1200.0,1000.0,1200.0,1400.0,1200.0,1300.0,1100.0,1000.0,1500.0,800.0,1200.0,1200.0,1000.0,1200.0,1000.0,1000.0,1200.0,1500.0,1300.0,1400.0,1500.0,1800.0,1300.0,1500.0,1300.0,1200.0,1100.0,1200.0,1100.0,1300.0,1000.0,1000.0,1600.0,2200.0,1200.0,1400.0,1000.0,1500.0,1600.0,1200.0,1800.0,1500.0,1500.0,2100.0,3000.0,1200.0,1700.0,750.0,3000.0,1500.0,500.0,2500.0,1500.0,3400.0,2000.0,1200.0,800.0,1700.0,1200.0,2000.0,1300.0,1300.0,1600.0,3000.0,1000.0,1000.0,650.0,1400.0,1900.0,800.0,1000.0,1000.0,500.0,1200.0,650.0,2800.0,1600.0,4100.0,3400.0,1300.0,1700.0,1800.0,1100.0,750.0,1200.0,750.0,600.0,1400.0,1100.0,1000.0,1200.0,1100.0,800.0,900.0,1700.0,1000.0,600.0,2500.0,650.0,400.0,900.0,700.0,450.0,700.0,800.0,750.0,650.0,500.0,500.0,400.0,650.0,500.0,600.0,800.0,1000.0,500.0,700.0,800.0,900.0,350.0,1300.0,1100.0,750.0,750.0,300.0,1000.0,750.0,1000.0,500.0,1100.0,600.0,2000.0,500.0,500.0,450.0,400.0,500.0,200.0,550.0,300.0,250.0,500.0,500.0,350.0,650.0,500.0,200.0,750.0,650.0,750.0,400.0,400.0,200.0,800.0,600.0,450.0,400.0,800.0,250.0,500.0,500.0,600.0,400.0,250.0,650.0,1300.0,1600.0,1200.0,500.0,300.0,450.0,750.0,1300.0,500.0,150.0,200.0,350.0,600.0,500.0,500.0,1500.0,400.0,400.0,250.0,800.0,900.0,1600.0,300.0,550.0,1300.0,400.0,900.0,1100.0,400.0,400.0,700.0,700.0,200.0,700.0,500.0,300.0,300.0,400.0,600.0,250.0,350.0,400.0,400.0,500.0,3000.0,700.0,700.0,400.0,1500.0,450.0,300.0,500.0,800.0,180.0,150.0,500.0,750.0,400.0,700.0,500.0,750.0,1200.0,1300.0,1300.0,300.0,850.0,500.0,600.0,1000.0,700.0,1000.0,300.0,800.0,950.0,300.0,800.0,900.0,600.0,800.0,350.0,500.0,1000.0,500.0,300.0,1400.0,1500.0,750.0,550.0,2000.0,550.0,1000.0,600.0,250.0,1400.0,200.0,1500.0,700.0,400.0,400.0,350.0,200.0,450.0,1000.0,700.0,300.0,350.0,400.0,250.0,400.0,2000.0,400.0,750.0,700.0,300.0,700.0,1200.0,800.0,600.0,1000.0,500.0,700.0,300.0,600.0,1200.0,800.0,600.0,650.0,500.0,400.0,2100.0,400.0,2000.0,300.0,600.0,600.0,1000.0,200.0,800.0,600.0,1000.0,1500.0,150.0,400.0,400.0,1200.0,700.0,1200.0,800.0,650.0,400.0,1700.0,600.0,1700.0,800.0,700.0,1500.0,1300.0,300.0,2100.0,600.0,600.0,1700.0,750.0,2100.0,700.0,1500.0,700.0,1700.0,1400.0,650.0,800.0,1000.0,600.0,1000.0,2000.0,750.0,1000.0,1000.0,1400.0,1200.0,850.0,1500.0,300.0,850.0,1000.0,1800.0,550.0,800.0,300.0,500.0,1800.0,1300.0,800.0,700.0,400.0,550.0,800.0,1000.0,550.0,600.0,1000.0,450.0,500.0,1300.0,1000.0,1200.0,1300.0,700.0,250.0,500.0,1300.0,1000.0,1000.0,1500.0,800.0,900.0,1700.0,1100.0,1400.0,550.0,400.0,600.0,750.0,400.0,900.0,500.0,800.0,450.0,800.0,500.0,800.0,150.0,1200.0,500.0,500.0,650.0,400.0,450.0,500.0,200.0,800.0,500.0,1100.0,500.0,200.0,500.0,300.0,450.0,350.0,100.0,300.0,250.0,550.0,500.0,400.0,600.0,1800.0,1600.0,1600.0,600.0,1400.0,300.0,400.0,300.0,400.0,550.0,800.0,800.0,2000.0,1000.0,550.0,400.0,1250.0,400.0,300.0,300.0,700.0,450.0,500.0,1000.0,500.0,450.0,300.0,350.0,400.0,800.0,400.0,400.0,250.0,450.0,300.0,150.0,150.0,250.0,180.0,400.0,500.0,200.0,300.0,200.0,300.0,300.0,500.0,350.0,600.0,900.0,1300.0,1100.0,750.0,700.0,500.0,200.0,300.0,400.0,2200.0,3000.0,1800.0,2500.0,3000.0,3000.0,1500.0,1200.0,1300.0,2100.0,1700.0,1600.0,1500.0,2200.0,1400.0,1500.0,1000.0,1000.0,1500.0,1500.0,1500.0,1300.0,1200.0,1600.0,1000.0,1100.0,600.0,1000.0,1200.0,1200.0,1800.0,2500.0,2000.0,600.0,400.0,350.0,500.0,1700.0,1800.0,1500.0,1500.0,1500.0,2000.0,800.0,2800.0,700.0,1100.0,1500.0,2100.0,1500.0,2000.0,3000.0,2500.0,3500.0,1700.0,1700.0,1500.0,1200.0,1500.0,1300.0,1200.0,700.0,800.0,1600.0,1000.0,1500.0,800.0,2000.0,1500.0,2500.0,2100.0,1000.0,1900.0,1700.0,2000.0,1100.0,1300.0,600.0,900.0,1200.0,1700.0,1400.0,1300.0,1000.0,600.0,2500.0,1400.0,200.0,1500.0,550.0,750.0,1000.0,1500.0,3000.0,1500.0,3000.0,1100.0,650.0,1200.0,2500.0,2000.0,600.0,1400.0,1100.0,3200.0,650.0,750.0,850.0,1800.0,500.0,2500.0,1000.0,1500.0,1000.0,1200.0,3400.0,2000.0,1000.0,1400.0,3500.0,700.0,1600.0,1200.0,400.0,900.0,1500.0,1200.0,800.0,1500.0,1200.0,4000.0,500.0,1300.0,700.0,4000.0,4000.0,1200.0,800.0,600.0,1100.0,1100.0,1000.0,1700.0,2000.0,1200.0,800.0,2000.0,3000.0,2000.0,800.0,2000.0,3500.0,1000.0,1300.0,700.0,1000.0,500.0,800.0,2800.0,2500.0,800.0,500.0,3000.0,750.0,800.0,650.0,1800.0,950.0,1500.0,3000.0,750.0,750.0,1500.0,1000.0,1500.0,550.0,500.0,700.0,500.0,600.0,700.0,800.0,700.0,1200.0,1000.0,300.0,700.0,1300.0,1000.0,500.0,1600.0,500.0,1600.0,3000.0,900.0,450.0,1000.0,650.0,550.0,650.0,1000.0,1000.0,2000.0,350.0,400.0,300.0,3000.0,1200.0,3000.0,400.0,500.0,650.0,800.0,2500.0,700.0,1400.0,500.0,600.0,500.0,800.0,600.0,850.0,700.0,500.0,1900.0,800.0,1000.0,500.0,1300.0,1500.0,250.0,1000.0,1000.0,700.0,500.0,3000.0,600.0,500.0,800.0,600.0,500.0,800.0,1200.0,500.0,550.0,800.0,800.0,1200.0,800.0,600.0,350.0,800.0,700.0,600.0,2500.0,800.0,600.0,1000.0,550.0,250.0,700.0,400.0,300.0,500.0,200.0,300.0,150.0,450.0,300.0,500.0,300.0,300.0,150.0,300.0,450.0,500.0,150.0,300.0,600.0,400.0,250.0,350.0,400.0,200.0,400.0,250.0,400.0,500.0,300.0,400.0,500.0,500.0,400.0,200.0,400.0,350.0,250.0,400.0,500.0,250.0,300.0,300.0,300.0,450.0,300.0,100.0,500.0,1300.0,2800.0,3000.0,2500.0,1600.0,1100.0,1100.0,4100.0,1300.0,3000.0,600.0,2000.0,2000.0,1000.0,1300.0,1100.0,750.0,3400.0,750.0,1800.0,3000.0,1300.0,700.0,1500.0,1700.0,300.0,600.0,1200.0,2300.0,1000.0,750.0,3000.0,2000.0,1000.0,500.0,3000.0,1300.0,750.0,850.0,450.0,700.0,1000.0,600.0,750.0,1800.0,400.0,650.0,500.0,750.0,400.0,500.0,400.0,450.0,150.0,200.0,2200.0,200.0,150.0,700.0,2400.0,350.0,400.0,400.0,1100.0,600.0,200.0,2000.0,1100.0,450.0,600.0,300.0,150.0,750.0,600.0,350.0,1200.0,1300.0,1800.0,1200.0,2100.0,1700.0,1000.0,1000.0,1300.0,1200.0,1800.0,1200.0,2000.0,1500.0,2500.0,1700.0,1200.0,1300.0,1500.0,2500.0,1900.0,1700.0,1000.0,1500.0,1100.0,1200.0,1400.0,1100.0,1000.0,1000.0,1600.0,1200.0,1200.0,1500.0,4000.0,1100.0,1100.0,1000.0,1700.0,2000.0,2000.0,2000.0,3500.0,1300.0,1800.0,1500.0,1500.0,600.0,1000.0,1000.0,1000.0,3000.0,1200.0,1300.0,1500.0,800.0,1300.0,3000.0,3000.0,2000.0,1000.0,3400.0,1200.0,1300.0,2200.0,1100.0,1200.0,2000.0,1700.0,1500.0,950.0,1000.0,1200.0,2400.0,800.0,4100.0,1500.0,1400.0,3000.0,1200.0,600.0,800.0,600.0,900.0,500.0,600.0,500.0,700.0,700.0,400.0,350.0,500.0,400.0,800.0,1000.0,400.0,800.0,600.0,650.0,500.0,500.0,650.0,200.0,120.0,350.0,400.0,450.0,400.0,600.0,400.0,750.0,300.0,250.0,500.0,400.0,600.0,500.0,400.0,600.0,400.0,250.0,400.0,450.0,250.0,300.0,300.0,300.0,300.0,700.0,750.0,500.0,400.0,500.0,400.0,300.0,200.0,350.0,600.0,500.0,150.0,250.0,800.0,400.0,500.0,700.0,350.0,150.0,450.0,700.0,750.0,500.0,600.0,300.0,500.0,250.0,100.0,450.0,800.0,600.0,650.0,300.0,550.0,450.0,1400.0,300.0,250.0,600.0,800.0,500.0,1200.0,2000.0,1100.0,1200.0,150.0,900.0,700.0,500.0,150.0,500.0,200.0,300.0,800.0,250.0,350.0,650.0,1000.0,1300.0,450.0,800.0,900.0,200.0,300.0,700.0,150.0,150.0,300.0,500.0,800.0,300.0,400.0,100.0,300.0,450.0,500.0,400.0,300.0,450.0,500.0,400.0,500.0,500.0,600.0,1100.0,1000.0,300.0,400.0,1500.0,500.0,600.0,400.0,750.0,400.0,800.0,400.0,600.0,300.0,300.0,600.0,300.0,1000.0,350.0,700.0,300.0,750.0,400.0,800.0,150.0,750.0,400.0,600.0,400.0,500.0,400.0,400.0,400.0,700.0,900.0,300.0,650.0,600.0,200.0,500.0,700.0,400.0,150.0,450.0,600.0,800.0,400.0,1000.0,1100.0,1200.0,200.0,550.0,200.0,500.0,500.0,500.0,350.0,800.0,500.0,650.0,200.0,600.0,300.0,400.0,700.0,500.0,350.0,600.0,450.0,1700.0,650.0,950.0,400.0,500.0,1100.0,600.0,600.0,650.0,400.0,150.0,600.0,1000.0,600.0,450.0,500.0,1700.0,1500.0,600.0,100.0,600.0,800.0,1200.0,500.0,750.0,800.0,900.0,500.0,500.0,1000.0,700.0,1000.0,850.0,900.0,300.0,1100.0,900.0,1200.0,1200.0,800.0,1400.0,600.0,1000.0,900.0,750.0,750.0,800.0,800.0,1000.0,300.0,500.0,700.0,1500.0,1400.0,650.0,1800.0,600.0,400.0,400.0,250.0,700.0,200.0,250.0,250.0,300.0,500.0,300.0,400.0,400.0,400.0,100.0,250.0,200.0,450.0,400.0,800.0,400.0,400.0,1250.0,800.0,200.0,600.0,450.0,500.0,500.0,1100.0,2600.0,2000.0,1800.0,2000.0,1300.0,2500.0,1200.0,1700.0,1400.0,700.0,1000.0,1400.0,1500.0,800.0,1000.0,1400.0,950.0,500.0,600.0,1100.0,1000.0,1500.0,500.0,600.0,1200.0,100.0,1500.0,650.0,700.0,500.0,500.0,2500.0,1500.0,700.0,1500.0,600.0,400.0,1100.0,750.0,1100.0,600.0,150.0,2000.0,400.0,500.0,600.0,800.0,600.0,250.0,150.0,250.0,300.0,250.0,300.0,200.0,200.0,350.0,150.0,300.0,400.0,800.0,400.0,300.0,350.0,250.0,600.0,400.0,600.0,200.0,500.0,200.0,250.0,200.0,300.0,500.0,300.0,400.0,300.0,500.0,300.0,100.0,300.0,300.0,550.0,400.0,500.0,800.0,500.0,150.0,500.0,1200.0,1200.0,1200.0,2400.0,1000.0,800.0,4100.0,1500.0,2000.0,900.0,5000.0,800.0,1400.0,3000.0,3000.0,1500.0,1000.0,1000.0,4000.0,2200.0,1800.0,4000.0,1200.0,700.0,800.0,700.0,600.0,2200.0,2500.0,450.0,650.0,3700.0,700.0,600.0,750.0,600.0,800.0,300.0,200.0,300.0,200.0,200.0,250.0,1650.0,1100.0,1300.0,400.0,1200.0,1200.0,600.0,600.0,800.0,700.0,1400.0,850.0,300.0,900.0,650.0,1100.0,800.0,450.0,700.0,400.0,600.0,300.0,600.0,400.0,600.0,900.0,500.0,450.0,450.0,600.0,750.0,300.0,450.0,1200.0,2600.0,1800.0,1200.0,1400.0,1400.0,1100.0,1500.0,1500.0,1100.0,2000.0,2000.0,3000.0,1500.0,2200.0,1650.0,1200.0,1100.0,1200.0,1400.0,1400.0,1100.0,1500.0,1100.0,2000.0,3000.0,2500.0,1650.0,1300.0,1400.0,2500.0,1400.0,1500.0,1500.0,1600.0,1300.0,1400.0,1100.0,1300.0,1200.0,2700.0,1000.0,1600.0,1500.0,1500.0,1700.0,1300.0,750.0,1000.0,1000.0,1200.0,600.0,700.0,750.0,1200.0,600.0,400.0,600.0,700.0,300.0,700.0,400.0,650.0,300.0,600.0,500.0,500.0,600.0,300.0,400.0,700.0,600.0,450.0,450.0,250.0,500.0,700.0,300.0,600.0,850.0,500.0,500.0,650.0,400.0,400.0,500.0,650.0,400.0,800.0,300.0,400.0,400.0,450.0,1000.0,800.0,500.0,400.0,300.0,250.0,350.0,400.0,400.0,300.0,700.0,150.0,600.0,800.0,250.0,650.0,250.0,500.0,350.0,800.0,200.0,1400.0,500.0,1100.0,350.0,650.0,400.0,1400.0,700.0,300.0,800.0,600.0,900.0,600.0,300.0,450.0,300.0,300.0,800.0,600.0,800.0,400.0,200.0,300.0,1100.0,450.0,400.0,450.0,400.0,200.0,500.0,200.0,700.0,650.0,600.0,400.0,1000.0,300.0,400.0,800.0,600.0,800.0,400.0,150.0,200.0,1000.0,1000.0,500.0,300.0,600.0,600.0,400.0,500.0,550.0,1400.0,300.0,300.0,500.0,300.0,350.0,1300.0,250.0,450.0,400.0,600.0,600.0,400.0,1000.0,600.0,1000.0,300.0,300.0,800.0,600.0,400.0,700.0,700.0,400.0,1400.0,900.0,750.0,750.0,400.0,500.0,500.0,750.0,200.0,800.0,300.0,600.0,300.0,1500.0,1500.0,450.0,700.0,1000.0,500.0,350.0,1000.0,1200.0,300.0,600.0,200.0,600.0,400.0,800.0,250.0,150.0,1000.0,800.0,350.0,250.0,550.0,800.0,400.0,650.0,200.0,400.0,300.0,600.0,600.0,200.0,300.0,1100.0,500.0,600.0,500.0,400.0,550.0,500.0,400.0,400.0,450.0,300.0,650.0,450.0,800.0,600.0,450.0,800.0,750.0,400.0,750.0,300.0,600.0,650.0,600.0,250.0,800.0,250.0,700.0,250.0,400.0,500.0,1000.0,350.0,700.0,900.0,300.0,200.0,400.0,350.0,500.0,800.0,500.0,800.0,300.0,700.0,650.0,750.0,150.0,750.0,600.0,500.0,700.0,300.0,300.0,250.0,450.0,1000.0,300.0,700.0,300.0,400.0,500.0,700.0,800.0,500.0,300.0,750.0,300.0,800.0,200.0,450.0,900.0,600.0,300.0,450.0,650.0,600.0,750.0,500.0,750.0,750.0,500.0,1200.0,600.0,350.0,400.0,750.0,400.0,600.0,650.0,800.0,500.0,600.0,500.0,200.0,750.0,200.0,250.0,800.0,600.0,1500.0,150.0,750.0,150.0,500.0,450.0,400.0,750.0,500.0,300.0,450.0,1000.0,500.0,850.0,800.0,400.0,500.0,250.0,400.0,600.0,1700.0,400.0,1000.0,1000.0,1100.0,500.0,400.0,1400.0,400.0,200.0,250.0,500.0,500.0,500.0,300.0,350.0,300.0,300.0,700.0,300.0,400.0,600.0,500.0,400.0,400.0,400.0,550.0,400.0,1100.0,1400.0,2500.0,1500.0,1600.0,1300.0,1400.0,1100.0,1500.0,1300.0,1300.0,1500.0,1800.0,650.0,1200.0,2700.0,800.0,1600.0,1000.0,600.0,1000.0,600.0,1600.0,1100.0,900.0,1000.0,800.0,750.0,800.0,800.0,1500.0,1500.0,1000.0,600.0,2500.0,1300.0,500.0,1400.0,800.0,2000.0,1100.0,700.0,1100.0,850.0,1700.0,650.0,1500.0,800.0,750.0,750.0,800.0,800.0,800.0,850.0,800.0,1000.0,600.0,800.0,650.0,1300.0,1000.0,900.0,750.0,400.0,900.0,700.0,700.0,4500.0,800.0,600.0,1000.0,800.0,600.0,800.0,400.0,1100.0,650.0,750.0,450.0,500.0,300.0,500.0,1000.0,750.0,1200.0,650.0,650.0,700.0,500.0,500.0,400.0,1000.0,1000.0,450.0,750.0,2500.0,600.0,600.0,800.0,800.0,1000.0,400.0,550.0,1000.0,1200.0,500.0,600.0,400.0,650.0,800.0,700.0,750.0,600.0,700.0,250.0,600.0,1000.0,800.0,600.0,200.0,450.0,150.0,400.0,450.0,200.0,300.0,300.0,250.0,400.0,300.0,500.0,600.0,400.0,350.0,350.0,600.0,350.0,400.0,300.0,250.0,400.0,300.0,300.0,200.0,500.0,400.0,350.0,400.0,200.0,200.0,250.0,150.0,400.0,450.0,250.0,300.0,700.0,400.0,400.0,500.0,300.0,400.0,150.0,500.0,300.0,500.0,300.0,250.0,200.0,200.0,600.0,500.0,350.0,450.0,400.0,400.0,300.0,300.0,600.0,450.0,1200.0,1000.0,700.0,600.0,300.0,750.0,1500.0,600.0,600.0,800.0,800.0,800.0,700.0,750.0,750.0,800.0,500.0,250.0,300.0,550.0,400.0,600.0,500.0,500.0,400.0,400.0,500.0,500.0,850.0,300.0,600.0,500.0,500.0,600.0,900.0,600.0,400.0,450.0,350.0,400.0,450.0,1200.0,250.0,750.0,600.0,150.0,350.0,500.0,500.0,500.0,350.0,450.0,550.0,350.0,650.0,300.0,450.0,600.0,500.0,150.0,500.0,250.0,300.0,750.0,300.0,800.0,600.0,1400.0,1800.0,4500.0,1100.0,1500.0,1300.0,1500.0,1200.0,1600.0,1000.0,1500.0,1300.0,1100.0,1200.0,2500.0,1000.0,1200.0,1200.0,1500.0,1500.0,1500.0,2200.0,2100.0,3000.0,3000.0,1500.0,1600.0,3000.0,800.0,1800.0,1200.0,2800.0,1700.0,1400.0,1600.0,1500.0,2500.0,750.0,500.0,1000.0,1500.0,3400.0,2000.0,1200.0,800.0,1700.0,1600.0,2000.0,1300.0,2200.0,1200.0,1000.0,1200.0,650.0,1400.0,1900.0,1000.0,1000.0,500.0,1200.0,650.0,1300.0,1700.0,1200.0,1300.0,1000.0,1100.0,750.0,1200.0,1700.0,2500.0,450.0,500.0,800.0,700.0,1100.0,800.0,900.0,1000.0,600.0,600.0,650.0,1400.0,750.0,700.0,400.0,900.0,700.0,700.0,800.0,750.0,800.0,500.0,1000.0,1000.0,400.0,650.0,1200.0,500.0,500.0,600.0,400.0,1000.0,500.0,600.0,800.0,350.0,1300.0,1100.0,750.0,1000.0,800.0,650.0,500.0,600.0,1200.0,500.0,300.0,200.0,500.0,450.0,400.0,600.0,800.0,300.0,500.0,300.0,650.0,600.0,200.0,400.0,400.0,350.0,750.0,500.0,800.0,500.0,300.0,800.0,800.0,1000.0,500.0,750.0,400.0,550.0,400.0,750.0,950.0,400.0,600.0,400.0,800.0,150.0,1500.0,450.0,200.0,250.0,300.0,750.0,400.0,800.0,250.0,700.0,150.0,800.0,650.0,400.0,1200.0,900.0,1200.0,300.0,1100.0,400.0,500.0,600.0,1400.0,650.0,900.0,400.0,1300.0,500.0,700.0,800.0,300.0,800.0,800.0,750.0,1500.0,400.0,700.0,350.0,850.0,1600.0,500.0,400.0,650.0,800.0,1700.0,500.0,1200.0,1300.0,500.0,500.0,700.0,400.0,350.0,400.0,600.0,1600.0,650.0,700.0,400.0,550.0,500.0,300.0,1000.0,1500.0,650.0,1300.0,600.0,1200.0,600.0,1100.0,500.0,1500.0,400.0,700.0,900.0,400.0,600.0,500.0,400.0,500.0,500.0,800.0,600.0,1600.0,400.0,250.0,3000.0,350.0,250.0,250.0,1700.0,900.0,350.0,400.0,600.0,300.0,200.0,800.0,200.0,300.0,550.0,750.0,600.0,450.0,600.0,100.0,350.0,600.0,1300.0,180.0,1700.0,500.0,2100.0,700.0,300.0,500.0,2000.0,1000.0,1500.0,300.0,150.0,800.0,1500.0,700.0,750.0,400.0,1300.0,600.0,400.0,1000.0,700.0,500.0,800.0,1300.0,500.0,450.0,500.0,750.0,500.0,400.0,1300.0,600.0,700.0,500.0,700.0,750.0,500.0,1000.0,1200.0,500.0,2100.0,1000.0,500.0,1900.0,400.0,450.0,300.0,1400.0,300.0,600.0,2000.0,400.0,1000.0,650.0,950.0,1000.0,500.0,300.0,1400.0,800.0,1200.0,1000.0,1000.0,150.0,700.0,700.0,700.0,750.0,500.0,1500.0,300.0,700.0,700.0,800.0,450.0,1200.0,1800.0,500.0,800.0,200.0,1500.0,500.0,200.0,700.0,700.0,400.0,500.0,400.0,450.0,1000.0,400.0,1400.0,800.0,600.0,700.0,350.0,1500.0,1500.0,200.0,500.0,300.0,600.0,400.0,700.0,300.0,1800.0,800.0,1800.0,1000.0,800.0,2000.0,1200.0,300.0,500.0,300.0,600.0,1200.0,1000.0,700.0,400.0,250.0,200.0,250.0,200.0,1700.0,300.0,1000.0,350.0,400.0,650.0,300.0,800.0,1000.0,800.0,750.0,2000.0,1700.0,850.0,1000.0,850.0,650.0,500.0,600.0,400.0,1200.0,800.0,350.0,300.0,1500.0,550.0,300.0,700.0,300.0,700.0,300.0,800.0,750.0,1000.0,550.0,2000.0,700.0,300.0,400.0,800.0,550.0,250.0,600.0,300.0,1700.0,500.0,1200.0,1300.0,700.0,1300.0,1000.0,1200.0,1000.0,1400.0,800.0,700.0,2100.0,800.0,900.0,550.0,400.0,750.0,400.0,500.0,900.0,500.0,800.0,500.0,800.0,600.0,800.0,150.0,750.0,600.0,1200.0,1300.0,600.0,500.0,650.0,500.0,400.0,500.0,200.0,800.0,350.0,1000.0,500.0,1100.0,500.0,500.0,200.0,500.0,300.0,450.0,100.0,600.0,500.0,1600.0,600.0,1600.0,450.0,500.0,800.0,900.0,300.0,800.0,2000.0,1000.0,600.0,550.0,400.0,1250.0,400.0,1400.0,700.0,300.0,300.0,700.0,500.0,300.0,400.0,2000.0,1000.0,700.0,400.0,450.0,300.0,350.0,400.0,300.0,400.0,400.0,250.0,450.0,400.0,300.0,150.0,250.0,200.0,180.0,400.0,150.0,500.0,400.0,200.0,300.0,300.0,500.0,350.0,600.0,1300.0,800.0,200.0,1100.0,750.0,500.0,2100.0,1800.0,1500.0,1700.0,2800.0,2100.0,3000.0,1200.0,1500.0,1500.0,1700.0,200.0,1500.0,1000.0,3000.0,1500.0,2500.0,2000.0,1500.0,600.0,2000.0,3000.0,1000.0,2800.0,3000.0,1800.0,500.0,1000.0,1600.0,3000.0,3000.0,3000.0,2500.0,800.0,800.0,1500.0,750.0,350.0,700.0,2500.0,2500.0,1000.0,700.0,450.0,500.0,400.0,500.0,200.0,250.0,1800.0,1500.0,1500.0,2500.0,2000.0,3000.0,2200.0,3000.0,800.0,700.0,1100.0,1500.0,1500.0,2000.0,1500.0,2500.0,3500.0,1700.0,1700.0,1500.0,1200.0,1200.0,1300.0,1500.0,1300.0,2800.0,2100.0,700.0,1700.0,1600.0,1000.0,3000.0,800.0,2000.0,1500.0,1000.0,1900.0,1700.0,2000.0,1100.0,1300.0,2200.0,1400.0,1500.0,600.0,900.0,1200.0,2500.0,1600.0,1400.0,1300.0,1500.0,1000.0,1000.0,600.0,2500.0,4000.0,550.0,750.0,1300.0,1500.0,3000.0,500.0,1000.0,1100.0,650.0,1200.0,1500.0,1400.0,1500.0,1100.0,600.0,1300.0,1000.0,1300.0,650.0,850.0,750.0,1800.0,1000.0,1500.0,750.0,1000.0,1200.0,3400.0,700.0,1800.0,2000.0,3000.0,1000.0,1400.0,3500.0,700.0,1600.0,400.0,900.0,1500.0,1200.0,1200.0,800.0,1200.0,4000.0,500.0,1300.0,700.0,4000.0,1200.0,800.0,600.0,1200.0,1100.0,1100.0,1000.0,1700.0,2000.0,550.0,2000.0,650.0,3000.0,1600.0,800.0,2000.0,2000.0,3500.0,1300.0,700.0,1000.0,750.0,800.0,1800.0,800.0,650.0,800.0,2000.0,2200.0,950.0,800.0,3000.0,750.0,1500.0,1000.0,1100.0,550.0,700.0,500.0,1000.0,600.0,700.0,800.0,2000.0,700.0,1200.0,300.0,700.0,500.0,1000.0,1000.0,450.0,1000.0,650.0,550.0,650.0,1200.0,1200.0,1000.0,2000.0,1500.0,350.0,300.0,400.0,400.0,1800.0,500.0,500.0,2500.0,650.0,800.0,1400.0,500.0,600.0,500.0,800.0,600.0,850.0,700.0,400.0,2400.0,1400.0,1900.0,1000.0,500.0,1300.0,250.0,1000.0,600.0,700.0,500.0,3000.0,600.0,500.0,800.0,600.0,500.0,800.0,1200.0,500.0,800.0,1200.0,800.0,600.0,800.0,2000.0,600.0,800.0,600.0,600.0,550.0,400.0,250.0,400.0,300.0,500.0,200.0,150.0,300.0,300.0,500.0,300.0,300.0,150.0,250.0,200.0,450.0,150.0,300.0,600.0,400.0,350.0,200.0,250.0,400.0,250.0,400.0,300.0,400.0,500.0,500.0,500.0,400.0,500.0,350.0,400.0,500.0,300.0,300.0,300.0,300.0,450.0,300.0,100.0,500.0,1300.0,800.0,1600.0,2500.0,1100.0,1100.0,750.0,700.0,1300.0,1700.0,600.0,1000.0,1200.0,550.0,600.0,500.0,800.0,650.0,200.0,700.0,650.0,200.0,750.0,1300.0,500.0,200.0,1000.0,650.0,300.0,400.0,500.0,500.0,300.0,300.0,500.0,300.0,250.0,700.0,400.0,350.0,300.0,1100.0,500.0,400.0,250.0,800.0,600.0,700.0,600.0,300.0,1300.0,2000.0,2000.0,1700.0,1500.0,1000.0,1500.0,2800.0,3000.0,1000.0,3000.0,1500.0,1500.0,2500.0,2000.0,3000.0,3000.0,1500.0,1500.0,1500.0,2500.0,1700.0,1700.0,1200.0,1300.0,1300.0,1700.0,2000.0,1500.0,1900.0,1300.0,1000.0,1300.0,1500.0,3000.0,1100.0,1200.0,1400.0,1100.0,1000.0,1000.0,1600.0,1200.0,1200.0,1100.0,1100.0,1000.0,2000.0,2000.0,1500.0,1100.0,600.0,1000.0,1000.0,2000.0,1500.0,2500.0,2400.0,1400.0,1300.0,2500.0,1200.0,1300.0,1300.0,1200.0,1500.0,1000.0,1500.0,2000.0,1800.0,1000.0,3000.0,1500.0,2000.0,1500.0,2500.0,1700.0,1200.0,1200.0,1300.0,2100.0,1700.0,1900.0,1700.0,1000.0,1500.0,1300.0,1000.0,1100.0,1200.0,1400.0,1100.0,1300.0,1000.0,1000.0,1000.0,1600.0,1200.0,1200.0,4000.0,1200.0,1100.0,1200.0,1100.0,1000.0,1700.0,2000.0,2000.0,3500.0,1300.0,1800.0,1100.0,600.0,1000.0,1200.0,1000.0,1800.0,1400.0,1300.0,800.0,1300.0,2500.0,1400.0,1100.0,1800.0,900.0,900.0,1200.0,700.0,650.0,800.0,600.0,600.0,800.0,1000.0,500.0,900.0,800.0,1100.0,700.0,900.0,700.0,250.0,400.0,600.0,500.0,650.0,650.0,300.0,350.0,400.0,300.0,450.0,400.0,800.0,500.0,600.0,300.0,600.0,1400.0,500.0,600.0,500.0,400.0,850.0,500.0,800.0,250.0,300.0,300.0,500.0,400.0,300.0,500.0,100.0,600.0,700.0,750.0,400.0,750.0,450.0,500.0,400.0,600.0,1700.0,800.0,200.0,300.0,500.0,600.0,300.0,700.0,400.0,650.0,500.0,500.0,300.0,1200.0,700.0,250.0,400.0,300.0,200.0,900.0,350.0,450.0,700.0,500.0,650.0,700.0,800.0,150.0,400.0,500.0,800.0,700.0,300.0,650.0,300.0,450.0,400.0,400.0,500.0,500.0,600.0,1000.0,400.0,900.0,1250.0,650.0,500.0,300.0,600.0,600.0,800.0,1000.0,600.0,400.0,400.0,1100.0,800.0,800.0,400.0,600.0,300.0,700.0,700.0,700.0,100.0,700.0,1100.0,400.0,900.0,900.0,400.0,350.0,500.0,400.0,200.0,600.0,150.0,800.0,350.0,200.0,1100.0,1400.0,450.0,450.0,400.0,700.0,800.0,250.0,600.0,650.0,400.0,700.0,400.0,400.0,300.0,600.0,500.0,600.0,900.0,700.0,400.0,500.0,400.0,300.0,200.0,400.0,500.0,400.0,300.0,400.0,200.0,500.0,350.0,1400.0,900.0,1200.0,1400.0,1200.0,600.0,500.0,1000.0,800.0,700.0,800.0,1000.0,700.0,700.0,650.0,1100.0,500.0,500.0,400.0,800.0,600.0,700.0,400.0,600.0,400.0,800.0,800.0,1400.0,600.0,750.0,600.0,700.0,650.0,1400.0,800.0,1000.0,500.0,1100.0,900.0,700.0,300.0,650.0,800.0,1100.0,750.0,1800.0,850.0,700.0,800.0,900.0,700.0,400.0,900.0,700.0,650.0,700.0,250.0,650.0,400.0,600.0,400.0,600.0,700.0,300.0,350.0,500.0,400.0,400.0,500.0,300.0,600.0,500.0,300.0,300.0,500.0,500.0,450.0,350.0,300.0,400.0,400.0,400.0,250.0,400.0,400.0,400.0,600.0,200.0,400.0,300.0,300.0,350.0,400.0,400.0,300.0,350.0,1400.0,1200.0,1400.0,1200.0,1400.0,1100.0,1200.0,1400.0,1400.0,1200.0,1000.0,1400.0,1100.0,1800.0,1200.0,3000.0,3500.0,2200.0,1400.0,1500.0,1600.0,1900.0,1400.0,1700.0,1500.0,1200.0,1300.0,600.0,750.0,800.0,1000.0,1200.0,1200.0,1500.0,1700.0,1000.0,1100.0,700.0,450.0,700.0,500.0,800.0,900.0,1000.0,1000.0,1600.0,200.0,700.0,500.0,1000.0,700.0,800.0,650.0,400.0,400.0,700.0,700.0,450.0,800.0,500.0,800.0,750.0,600.0,700.0,500.0,500.0,200.0,600.0,500.0,500.0,600.0,500.0,500.0,300.0,200.0,800.0,450.0,450.0,300.0,400.0,400.0,150.0,200.0,400.0,600.0,300.0,750.0,600.0,250.0,400.0,200.0,300.0,400.0,400.0,300.0,600.0,700.0,250.0,700.0,400.0,500.0,400.0,650.0,350.0,1000.0,300.0,450.0,400.0,600.0,1000.0,500.0,500.0,800.0,1000.0,350.0,800.0,800.0,1000.0,600.0,400.0,500.0,800.0,400.0,650.0,850.0,700.0,300.0,300.0,950.0,800.0,500.0,350.0,600.0,350.0,600.0,250.0,800.0,600.0,400.0,1500.0,600.0,200.0,600.0,600.0,300.0,300.0,500.0,200.0,700.0,800.0,600.0,300.0,250.0,600.0,700.0,750.0,800.0,300.0,500.0,500.0,500.0,1200.0,750.0,300.0,300.0,500.0,1200.0,400.0,1200.0,300.0,800.0,1200.0,1600.0,1100.0,400.0,250.0,500.0,650.0,600.0,400.0,900.0,500.0,100.0,700.0,500.0,400.0,300.0,500.0,600.0,1700.0,500.0,600.0,400.0,800.0,1200.0,800.0,1500.0,600.0,1300.0,400.0,750.0,350.0,450.0,500.0,500.0,1500.0,500.0,650.0,150.0,800.0,1400.0,500.0,350.0,350.0,400.0,600.0,500.0,300.0,650.0,400.0,550.0,450.0,600.0,400.0,500.0,300.0,1200.0,1500.0,1800.0,800.0,400.0,200.0,800.0,900.0,1100.0,600.0,500.0,500.0,500.0,450.0,800.0,250.0,600.0,1600.0,600.0,300.0,350.0,400.0,800.0,800.0,550.0,550.0,900.0,350.0,400.0,600.0,400.0,450.0,200.0,200.0,300.0,1500.0,550.0,200.0,750.0,450.0,600.0,500.0,650.0,300.0,300.0,600.0,800.0,1400.0,600.0,200.0,500.0,500.0,800.0,600.0,1000.0,600.0,400.0,350.0,350.0,700.0,400.0,500.0,400.0,500.0,700.0,300.0,800.0,500.0,1200.0,250.0,500.0,400.0,400.0,300.0,600.0,700.0,1200.0,450.0,200.0,600.0,1000.0,300.0,500.0,150.0,700.0,250.0,1500.0,700.0,300.0,1000.0,450.0,200.0,500.0,750.0,500.0,450.0,500.0,1400.0,1200.0,400.0,300.0,550.0,500.0,500.0,150.0,400.0,450.0,450.0,400.0,300.0,1200.0,750.0,300.0,300.0,1000.0,450.0,250.0,200.0,300.0,250.0,1900.0,750.0,400.0,200.0,500.0,1200.0,150.0,1500.0,900.0,400.0,800.0,700.0,700.0,600.0,800.0,2000.0,500.0,350.0,700.0,800.0,300.0,400.0,400.0,200.0,200.0,600.0,500.0,500.0,1700.0,1500.0,1600.0,400.0,1400.0,900.0,700.0,800.0,800.0,900.0,1500.0,650.0,700.0,500.0,800.0,300.0,600.0,350.0,600.0,400.0,200.0,700.0,150.0,500.0,400.0,700.0,400.0,450.0,250.0,1100.0,400.0,300.0,200.0,500.0,500.0,300.0,500.0,500.0,500.0,500.0,1500.0,600.0,600.0,500.0,400.0,400.0,1200.0,700.0,200.0,400.0,200.0,250.0,300.0,200.0,1200.0,400.0,800.0,900.0,1000.0,200.0,700.0,400.0,300.0,400.0,400.0,400.0,300.0,300.0,450.0,800.0,400.0,500.0,400.0,400.0,400.0,800.0,800.0,750.0,300.0,500.0,300.0,600.0,350.0,400.0,300.0,200.0,300.0,200.0,200.0,300.0,500.0,450.0,600.0,1800.0,3500.0,4000.0,1000.0,1000.0,2200.0,1400.0,2000.0,700.0,6000.0,3500.0,2400.0,900.0,1500.0,700.0,450.0,800.0,300.0,600.0,550.0,400.0,750.0,1900.0,3000.0,500.0,200.0,400.0,250.0,400.0,350.0,150.0,300.0,400.0,400.0,700.0,500.0,500.0,400.0,400.0,500.0,400.0,450.0,250.0,600.0,600.0,850.0,700.0,500.0,750.0,500.0,800.0,500.0,600.0,750.0,650.0,600.0,500.0,400.0,700.0,500.0,500.0,600.0,500.0,500.0,800.0,400.0,350.0,300.0,150.0,250.0,200.0,150.0,200.0,550.0,250.0,450.0,300.0,500.0,350.0,150.0,450.0,350.0,450.0,500.0,400.0,200.0,250.0,400.0,350.0,1600.0,1000.0,800.0,1500.0,1800.0,1400.0,2000.0,1200.0,1500.0,1900.0,1500.0,1500.0,1200.0,1600.0,1400.0,1500.0,2500.0,1300.0,1000.0,1400.0,1700.0,1700.0,900.0,1500.0,1500.0,1200.0,1300.0,1400.0,700.0,1300.0,1600.0,1000.0,1000.0,1200.0,1100.0,1000.0,3000.0,1500.0,600.0,2000.0,800.0,1700.0,750.0,1200.0,600.0,800.0,800.0,1200.0,1600.0,800.0,200.0,1000.0,1100.0,900.0,700.0,1500.0,700.0,1100.0,1300.0,1500.0,1500.0,450.0,650.0,500.0,1000.0,1000.0,1800.0,1500.0,700.0,800.0,650.0,1100.0,1200.0,1200.0,1500.0,800.0,500.0,1400.0,1800.0,1500.0,700.0,1800.0,800.0,500.0,1200.0,1700.0,2000.0,1300.0,1600.0,800.0,500.0,450.0,300.0,1000.0,800.0,300.0,800.0,600.0,800.0,300.0,600.0,3000.0,1000.0,600.0,400.0,350.0,300.0,400.0,700.0,400.0,400.0,200.0,300.0,700.0,150.0,600.0,600.0,300.0,600.0,400.0,500.0,250.0,1800.0,1300.0,350.0,400.0,500.0,350.0,600.0,300.0,500.0,450.0,500.0,250.0,1100.0,600.0,1200.0,500.0,500.0,300.0,250.0,500.0,200.0,600.0,1500.0,1800.0,1000.0,1800.0,2400.0,3000.0,1400.0,2000.0,1900.0,1500.0,1400.0,1300.0,1400.0,1300.0,1300.0,1400.0,1000.0,1500.0,2000.0,1700.0,1600.0,1100.0,1100.0,1500.0,1500.0,1800.0,1500.0,1100.0,1400.0,1800.0,1200.0,1300.0,1600.0,1000.0,1300.0,1300.0,1000.0,1800.0,1000.0,1400.0,1800.0,900.0,1000.0,1400.0,2000.0,1200.0,1500.0,1500.0,2500.0,1300.0,1500.0,1300.0,1400.0,1700.0,800.0,1100.0,1100.0,1500.0,1500.0,1800.0,1100.0,1400.0,1500.0,1200.0,1700.0,2000.0,1300.0,1000.0,1300.0,1200.0,1600.0,800.0,1800.0,750.0,1000.0,600.0,900.0,600.0,2000.0,1200.0,1700.0,1500.0,1100.0,1000.0,1000.0,600.0,600.0,500.0,600.0,500.0,700.0,500.0,700.0,350.0,500.0,400.0,500.0,450.0,500.0,450.0,400.0,750.0,400.0,400.0,300.0,850.0,700.0,250.0,400.0,500.0,450.0,1100.0,250.0,1000.0,350.0,600.0,300.0,250.0,400.0,400.0,800.0,250.0,500.0,400.0,150.0,650.0,500.0,200.0,600.0,350.0,750.0,450.0,450.0,500.0,800.0,300.0,600.0,500.0,400.0,600.0,800.0,600.0,600.0,1400.0,700.0,2000.0,1700.0,1200.0,350.0,500.0,600.0,600.0,1100.0,600.0,450.0,400.0,300.0,800.0,600.0,400.0,1000.0,650.0,600.0,800.0,700.0,500.0,400.0,150.0,250.0,200.0,350.0,400.0,1000.0,300.0,450.0,500.0,1100.0,500.0,1500.0,300.0,1200.0,500.0,500.0,300.0,400.0,250.0,300.0,300.0,500.0,900.0,350.0,600.0,800.0,1100.0,300.0,400.0,600.0,700.0,800.0,800.0,1400.0,600.0,120.0,1000.0,400.0,250.0,400.0,400.0,150.0,100.0,800.0,900.0,500.0,150.0,1000.0,400.0,750.0,150.0,150.0,200.0,350.0,600.0,300.0,150.0,900.0,300.0,100.0,350.0,600.0,600.0,1500.0,500.0,1100.0,200.0,400.0,600.0,750.0,800.0,250.0,500.0,500.0,600.0,200.0,500.0,400.0,500.0,600.0,250.0,200.0,500.0,100.0,500.0,600.0,350.0,250.0,200.0,500.0,400.0,700.0,250.0,250.0,300.0,100.0,250.0,200.0,450.0,300.0,400.0,1650.0,1100.0,1600.0,400.0,600.0,800.0,700.0,1800.0,700.0,750.0,900.0,1100.0,450.0,800.0,900.0,800.0,1000.0,600.0,700.0,700.0,600.0,350.0,500.0,900.0,1000.0,600.0,600.0,1200.0,400.0,300.0,400.0,400.0,400.0,350.0,600.0,450.0,300.0,300.0,450.0,750.0,450.0,800.0,600.0,600.0,350.0,300.0,500.0,500.0,1200.0,800.0,750.0,750.0,600.0,500.0,800.0,250.0,400.0,400.0,500.0,600.0,200.0,400.0,2600.0,2000.0,1800.0,2000.0,1200.0,1300.0,2500.0,1700.0,1400.0,1000.0,1000.0,1500.0,1400.0,800.0,150.0,1400.0,1400.0,1200.0,1200.0,600.0,500.0,1500.0,1100.0,1500.0,1500.0,250.0,1100.0,650.0,1000.0,700.0,500.0,100.0,500.0,600.0,500.0,300.0,1100.0,850.0,2500.0,250.0,600.0,1500.0,150.0,700.0,1100.0,200.0,600.0,350.0,450.0,200.0,150.0,600.0,600.0,200.0,250.0,300.0,300.0,400.0,350.0,2000.0,200.0,250.0,400.0,600.0,1000.0,200.0,500.0,400.0,250.0,500.0,200.0,300.0,500.0,200.0,300.0,300.0,300.0,400.0,400.0,500.0,450.0,800.0,550.0,500.0,150.0,300.0,500.0,1200.0,1650.0,1000.0,2600.0,1800.0,1400.0,1400.0,1200.0,1500.0,1500.0,1100.0,1100.0,800.0,2000.0,1200.0,1650.0,1100.0,1800.0,800.0,900.0,1200.0,800.0,1400.0,1400.0,1400.0,1200.0,1500.0,1100.0,1100.0,800.0,2000.0,1200.0,1500.0,500.0,3400.0,2000.0,1900.0,1800.0,1500.0,2200.0,2100.0,3000.0,1200.0,1700.0,1400.0,2500.0,750.0,3000.0,1500.0,1000.0,1500.0,1500.0,2000.0,1200.0,800.0,1200.0,1700.0,1600.0,1300.0,1600.0,3000.0,1000.0,1200.0,1000.0,650.0,1400.0,800.0,1000.0,1000.0,500.0,1200.0,650.0,2800.0,1600.0,1300.0,1700.0,1300.0,1800.0,1600.0,1000.0,1100.0,750.0,1200.0,800.0,400.0,400.0,600.0,1100.0,900.0,1700.0,1000.0,600.0,600.0,2500.0,650.0,1400.0,700.0,900.0,450.0,700.0,800.0,750.0,650.0,500.0,500.0,1000.0,1200.0,650.0,500.0,800.0,1000.0,500.0,700.0,800.0,350.0,1300.0,750.0,1100.0,750.0,1000.0,750.0,1000.0,600.0,500.0,450.0,300.0,500.0,500.0,650.0,200.0,350.0,500.0,500.0,200.0,650.0,300.0,400.0,600.0,750.0,500.0,550.0,500.0,1200.0,150.0,250.0,600.0,600.0,800.0,750.0,400.0,450.0,300.0,400.0,800.0,650.0,900.0,500.0,600.0,1300.0,400.0,800.0,400.0,550.0,750.0,1400.0,1600.0,400.0,400.0,350.0,500.0,1500.0,300.0,1300.0,400.0,600.0,600.0,300.0,1100.0,1300.0,250.0,850.0,300.0,500.0,400.0,400.0,1700.0,1200.0,1500.0,200.0,400.0,1600.0,800.0,700.0,1200.0,300.0,300.0,500.0,250.0,450.0,700.0,600.0,400.0,700.0,700.0,600.0,400.0,500.0,450.0,550.0,500.0,1000.0,400.0,1000.0,700.0,400.0,750.0,700.0,400.0,300.0,800.0,1300.0,650.0,400.0,750.0,1500.0,350.0,800.0,1000.0,1400.0,500.0,800.0,500.0,1300.0,700.0,600.0,600.0,450.0,500.0,1500.0,800.0,180.0,2100.0,400.0,300.0,400.0,1700.0,400.0,150.0,1000.0,3000.0,200.0,1700.0,1000.0,200.0,1000.0,300.0,600.0,1300.0,2000.0,1300.0,650.0,950.0,200.0,300.0,700.0,800.0,300.0,400.0,600.0,500.0,1400.0,400.0,700.0,300.0,400.0,500.0,600.0,700.0,250.0,200.0,700.0,1500.0,750.0,800.0,900.0,700.0,2000.0,1500.0,1500.0,700.0,1000.0,500.0,350.0,1000.0,1000.0,1000.0,250.0,1000.0,700.0,1900.0,800.0,550.0,2100.0,600.0,750.0,1400.0,1000.0,1200.0,300.0,350.0,300.0,2000.0,300.0,500.0,400.0,1200.0,750.0,700.0,800.0,2000.0,1800.0,850.0,1500.0,200.0,600.0,400.0,800.0,300.0,600.0,1800.0,850.0,1800.0,800.0,500.0,1000.0,750.0,1200.0,650.0,700.0,800.0,100.0,800.0,600.0,1000.0,650.0,500.0,1300.0,700.0,400.0,200.0,1000.0,800.0,300.0,500.0,1700.0,250.0,1200.0,400.0,1200.0,1000.0,1500.0,1600.0,700.0,2100.0,800.0,900.0,1700.0,1400.0,600.0,400.0,750.0,500.0,900.0,450.0,500.0,150.0,450.0,600.0,1200.0,500.0,500.0,550.0,400.0,450.0,500.0,200.0,800.0,800.0,800.0,1000.0,500.0,1100.0,200.0,800.0,500.0,550.0,300.0,450.0,350.0,300.0,250.0,1300.0,600.0,500.0,400.0,600.0,1600.0,1300.0,550.0,800.0,2000.0,400.0,400.0,150.0,400.0,500.0,500.0,350.0,600.0,800.0,1000.0,600.0,550.0,1250.0,400.0,1400.0,300.0,700.0,450.0,300.0,500.0,1000.0,500.0,450.0,300.0,400.0,300.0,800.0,250.0,450.0,400.0,900.0,150.0,250.0,180.0,400.0,500.0,200.0,300.0,300.0,300.0,1300.0,750.0,1100.0,300.0,2000.0,700.0,350.0,400.0,300.0,300.0,400.0,2000.0,1500.0,800.0,3500.0,1700.0,800.0,2000.0,600.0,1200.0,1400.0,550.0,3000.0,500.0,400.0,3400.0,1000.0,800.0,4000.0,1000.0,2000.0,3500.0,1000.0,800.0,550.0,700.0,1000.0,2000.0,600.0,1900.0,250.0,500.0,600.0,300.0,200.0,500.0,400.0,500.0,100.0,500.0,1700.0,1800.0,1500.0,1500.0,2500.0,2000.0,3000.0,2200.0,3000.0,2800.0,700.0,1500.0,1100.0,2100.0,1500.0,1500.0,2000.0,3000.0,2500.0,1700.0,1500.0,1200.0,1200.0,1300.0,1500.0,1300.0,2100.0,1200.0,1600.0,800.0,1700.0,1600.0,1000.0,3000.0,1500.0,1500.0,700.0,1500.0,2500.0,1000.0,2100.0,1900.0,1100.0,1300.0,1700.0,2200.0,1400.0,1500.0,900.0,1700.0,1300.0,1000.0,1000.0,600.0,2500.0,1400.0,200.0,1500.0,4000.0,750.0,1500.0,3000.0,1500.0,1000.0,1100.0,650.0,1200.0,2500.0,1500.0,1500.0,2000.0,1000.0,1400.0,1500.0,1100.0,1300.0,650.0,750.0,850.0,1800.0,1000.0,1500.0,1000.0,1200.0,2000.0,1400.0,3500.0,700.0,1600.0,1500.0,1200.0,1200.0,1500.0,1200.0,4000.0,700.0,1300.0,1200.0,800.0,600.0,1100.0,1100.0,900.0,2000.0,1200.0,1700.0,1600.0,800.0,2000.0,3000.0,2000.0,1200.0,1000.0,700.0,800.0,500.0,2800.0,1800.0,650.0,3000.0,750.0,650.0,1800.0,950.0,3000.0,750.0,500.0,750.0,1500.0,1000.0,1100.0,500.0,600.0,800.0,1200.0,1000.0,700.0,300.0,1300.0,1000.0,500.0,1600.0,500.0,3000.0,1000.0,1000.0,400.0,550.0,1200.0,650.0,1200.0,1000.0,350.0,400.0,3000.0,1200.0,3000.0,400.0,500.0,1800.0,2500.0,650.0,800.0,2500.0,700.0,1400.0,800.0,500.0,800.0,600.0,850.0,700.0,500.0,800.0,1000.0,500.0,1300.0,1500.0,1000.0,700.0,500.0,3000.0,600.0,800.0,600.0,500.0,800.0,1200.0,500.0,550.0,800.0,800.0,1200.0,350.0,650.0,800.0,2000.0,700.0,600.0,2500.0,800.0,600.0,1000.0,600.0,550.0,400.0,250.0,700.0,400.0,500.0,200.0,300.0,150.0,450.0,300.0,500.0,300.0,300.0,150.0,300.0,450.0,500.0,300.0,400.0,250.0,400.0,250.0,350.0,300.0,400.0,500.0,500.0,400.0,200.0,500.0,400.0,350.0,250.0,250.0,300.0,300.0,450.0,600.0,1300.0,2800.0,2500.0,1600.0,1100.0,1300.0,600.0,600.0,1300.0,1000.0,750.0,1100.0,1800.0,3000.0,750.0,1300.0,1700.0,500.0,600.0,1200.0,1000.0,2000.0,750.0,3000.0,1300.0,750.0,800.0,2000.0,850.0,700.0,700.0,600.0,750.0,700.0,1800.0,300.0,1600.0,150.0,900.0,450.0,1000.0,400.0,450.0,300.0,150.0,2200.0,200.0,200.0,500.0,1000.0,2400.0,150.0,350.0,400.0,400.0,400.0,1000.0,600.0,450.0,1100.0,450.0,300.0,800.0,150.0,300.0,300.0,600.0,2000.0,1700.0,1500.0,1500.0,1700.0,1200.0,3000.0,1000.0,1000.0,1000.0,2000.0,2500.0,3000.0,3000.0,1500.0,1500.0,2000.0,1500.0,2500.0,1700.0,1200.0,1300.0,1300.0,1700.0,1500.0,1500.0,2500.0,1900.0,1300.0,1300.0,1000.0,1500.0,1100.0,1200.0,1000.0,1400.0,1100.0,1000.0,1600.0,1200.0,1200.0,1500.0,1100.0,1100.0,2000.0,2000.0,1200.0,2800.0,3000.0,1500.0,1100.0,600.0,1000.0,1000.0,3000.0,1200.0,2500.0,1500.0,1300.0,1300.0,1000.0,2200.0,2400.0,1500.0,2000.0,1400.0,1600.0,1300.0,1800.0,1100.0,1500.0,1500.0,500.0,700.0,1900.0,1000.0,1400.0,1500.0,1200.0,2500.0,1500.0,1500.0,1100.0,1500.0,1000.0,700.0,800.0,500.0,600.0,800.0,600.0,500.0,200.0,600.0,800.0,400.0,600.0,500.0,1000.0,500.0,400.0,650.0,500.0,450.0,200.0,450.0,400.0,300.0,400.0,500.0,200.0,500.0,500.0,400.0,400.0,400.0,600.0,300.0,600.0,250.0,400.0,650.0,450.0,600.0,400.0,950.0,650.0,500.0,200.0,400.0,200.0,600.0,350.0,600.0,1200.0,800.0,150.0,500.0,1500.0,300.0,500.0,400.0,700.0,800.0,400.0,400.0,100.0,800.0,600.0,300.0,100.0,600.0,500.0,400.0,500.0,450.0,1200.0,600.0,700.0,800.0,200.0,600.0,500.0,250.0,200.0,450.0,450.0,500.0,400.0,800.0,800.0,1400.0,600.0,300.0,500.0,200.0,400.0,250.0,900.0,300.0,200.0,500.0,750.0,600.0,400.0,500.0,300.0,350.0,400.0,350.0,450.0,200.0,700.0,400.0,800.0,900.0,750.0,400.0,600.0,700.0,650.0,1000.0,500.0,300.0,200.0,500.0,300.0,800.0,800.0,150.0,500.0,400.0,300.0,600.0,300.0,600.0,750.0,300.0,500.0,400.0,750.0,450.0,400.0,800.0,450.0,750.0,600.0,1300.0,400.0,1400.0,1200.0,800.0,1300.0,1600.0,1800.0,500.0,450.0,400.0,600.0,600.0,1500.0,700.0,600.0,800.0,1500.0,600.0,250.0,1500.0,800.0,850.0,500.0,1800.0,1000.0,1100.0,500.0,900.0,1500.0,600.0,500.0,1000.0,1500.0,500.0,700.0,250.0,500.0,1000.0,700.0,550.0,1100.0,1200.0,600.0,600.0,500.0,1500.0,1700.0,900.0,600.0,400.0,1200.0,800.0,1400.0,1400.0,800.0,300.0,400.0,1400.0,1700.0,500.0,1000.0,1500.0,1000.0,550.0,200.0,700.0,300.0,400.0,500.0,600.0,500.0,700.0,500.0,1500.0,500.0,500.0,400.0,800.0,300.0,400.0,500.0,250.0,600.0,800.0,750.0,500.0,300.0,700.0,500.0,400.0,200.0,800.0,500.0,700.0,450.0,150.0,800.0,550.0,600.0,550.0,300.0,600.0,300.0,100.0,150.0,600.0,330.0,600.0,600.0,400.0,400.0,500.0,400.0,750.0,600.0,200.0,500.0,300.0,200.0,800.0,300.0,500.0,400.0,400.0,350.0,400.0,500.0,500.0,300.0,200.0,500.0,250.0,500.0,600.0,600.0,900.0,300.0,1400.0,1500.0,1500.0,1600.0,1400.0,1500.0,1900.0,1600.0,1400.0,1300.0,1300.0,1800.0,1400.0,600.0,1100.0,1500.0,1500.0,1500.0,2000.0,600.0,700.0,700.0,800.0,800.0,500.0,500.0,850.0,800.0,1200.0,900.0,700.0,800.0,1000.0,600.0,800.0,600.0,700.0,400.0,200.0,800.0,900.0,600.0,600.0,800.0,700.0,500.0,400.0,1000.0,1200.0,1900.0,550.0,500.0,550.0,600.0,500.0,450.0,800.0,300.0,150.0,500.0,500.0,400.0,450.0,200.0,600.0,100.0,250.0,300.0,400.0,500.0,250.0,300.0,200.0,350.0,400.0,400.0,500.0,250.0,600.0,300.0,500.0,400.0,750.0,300.0,300.0,1000.0,1800.0,1700.0,1800.0,1400.0,1500.0,750.0,1200.0,800.0,2000.0,1200.0,950.0,2000.0,600.0,2500.0,400.0,700.0,600.0,750.0,1500.0,1500.0,1100.0,1200.0,600.0,900.0,400.0,500.0,650.0,500.0,1500.0,800.0,1800.0,450.0,1400.0,600.0,500.0,200.0,800.0,300.0,500.0,300.0,550.0,400.0,800.0,500.0,200.0,1000.0,400.0,250.0,500.0,300.0,400.0,600.0,2500.0,200.0,500.0,450.0,800.0,350.0,200.0,700.0,330.0,200.0,400.0,600.0,250.0,400.0,200.0,500.0,450.0,500.0,400.0,800.0,550.0,400.0,400.0,600.0,1000.0,450.0,400.0,800.0,1500.0,1400.0,1400.0,1600.0,1400.0,1500.0,1900.0,1500.0,1300.0,1500.0,1200.0,900.0,1000.0,1700.0,1500.0,1500.0,1800.0,1400.0,2500.0,1500.0,1400.0,1800.0,1400.0,1400.0,1500.0,1900.0,1300.0,1800.0,1200.0,900.0,1700.0,1800.0,1400.0,1500.0,1100.0,700.0,900.0,550.0,600.0,1400.0,500.0,900.0,1100.0,700.0,2000.0,600.0,600.0,1000.0,900.0,700.0,350.0,400.0,650.0,400.0,400.0,700.0,1000.0,800.0,500.0,300.0,400.0,750.0,600.0,250.0,400.0,700.0,600.0,400.0,400.0,400.0,200.0,300.0,400.0,250.0,500.0,500.0,700.0,500.0,400.0,300.0,600.0,800.0,450.0,800.0,350.0,450.0,750.0,550.0,200.0,800.0,600.0,750.0,450.0,400.0,300.0,500.0,400.0,800.0,650.0,1000.0,600.0,500.0,400.0,500.0,500.0,300.0,350.0,600.0,550.0,600.0,1100.0,900.0,300.0,250.0,350.0,150.0,800.0,200.0,400.0,400.0,200.0,750.0,450.0,200.0,900.0,550.0,500.0,300.0,500.0,250.0,600.0,900.0,1000.0,1700.0,1200.0,2000.0,400.0,400.0,400.0,1400.0,450.0,300.0,600.0,400.0,600.0,500.0,650.0,300.0,600.0,500.0,300.0,500.0,300.0,300.0,450.0,1000.0,850.0,2000.0,300.0,700.0,300.0,750.0,500.0,400.0,400.0,300.0,250.0,400.0,300.0,500.0,400.0,1500.0,300.0,400.0,700.0,400.0,500.0,1500.0,400.0,1400.0,400.0,500.0,500.0,1800.0,450.0,400.0,1500.0,1600.0,1500.0,1500.0,900.0,500.0,200.0,600.0,500.0,400.0,1600.0,1000.0,550.0,250.0,600.0,500.0,550.0,500.0,1400.0,800.0,300.0,600.0,1200.0,400.0,600.0,400.0,500.0,1500.0,500.0,450.0,800.0,150.0,1000.0,600.0,300.0,650.0,300.0,200.0,500.0,700.0,300.0,450.0,1500.0,400.0,150.0,300.0,800.0,700.0,700.0,900.0,200.0,350.0,900.0,1200.0,750.0,700.0,700.0,500.0,200.0,600.0,2000.0,700.0,800.0,200.0,300.0,1200.0,400.0,500.0,750.0,1000.0,800.0,1400.0,300.0,800.0,800.0,800.0,350.0,500.0,350.0,400.0,400.0,350.0,1000.0,1400.0,750.0,1100.0,800.0,600.0,350.0,1100.0,750.0,900.0,400.0,700.0,1700.0,600.0,600.0,1200.0,800.0,350.0,1000.0,300.0,500.0,700.0,500.0,650.0,700.0,300.0,300.0,500.0,600.0,400.0,400.0,400.0,450.0,450.0,1500.0,1200.0,800.0,400.0,500.0,1100.0,500.0,800.0,800.0,600.0,400.0,600.0,300.0,750.0,800.0,500.0,900.0,700.0,600.0,700.0,1000.0,500.0,1700.0,500.0,1000.0,450.0,800.0,900.0,550.0,600.0,400.0,400.0,500.0,700.0,150.0,500.0,400.0,600.0,1500.0,450.0,500.0,450.0,400.0,1000.0,200.0,300.0,300.0,150.0,800.0,250.0,500.0,1500.0,400.0,600.0,400.0,400.0,200.0,250.0,300.0,300.0,500.0,1000.0,2000.0,2500.0,2400.0,2500.0,1600.0,1600.0,1400.0,1600.0,1700.0,1700.0,1700.0,1100.0,2000.0,1000.0,1500.0,1900.0,1500.0,1600.0,1800.0,1800.0,1700.0,1200.0,1500.0,2000.0,1000.0,1500.0,900.0,550.0,1600.0,2500.0,650.0,800.0,800.0,800.0,1700.0,1400.0,1000.0,1800.0,2000.0,1400.0,800.0,750.0,1500.0,2000.0,700.0,1000.0,850.0,1200.0,900.0,1400.0,700.0,800.0,1200.0,1500.0,750.0,1700.0,2000.0,800.0,550.0,1400.0,2000.0,1500.0,900.0,1100.0,700.0,2500.0,1100.0,900.0,400.0,1000.0,3000.0,1000.0,700.0,800.0,1450.0,300.0,2000.0,800.0,1000.0,1400.0,700.0,600.0,750.0,1500.0,1500.0,1500.0,1000.0,700.0,2000.0,900.0,2500.0,800.0,600.0,900.0,2100.0,800.0,400.0,1200.0,600.0,1200.0,800.0,700.0,1000.0,1500.0,600.0,3000.0,300.0,300.0,350.0,400.0,500.0,800.0,800.0,700.0,1700.0,750.0,400.0,1200.0,500.0,2000.0,350.0,1500.0,600.0,750.0,2000.0,400.0,3000.0,650.0,500.0,800.0,1900.0,450.0,1200.0,750.0,1000.0,800.0,2000.0,700.0,1200.0,600.0,700.0,400.0,700.0,1800.0,700.0,700.0,250.0,700.0,600.0,600.0,800.0,150.0,650.0,550.0,1100.0,1600.0,900.0,500.0,350.0,450.0,500.0,600.0,700.0,600.0,500.0,200.0,600.0,350.0,400.0,300.0,350.0,600.0,400.0,500.0,300.0,350.0,400.0,300.0,400.0,450.0,250.0,500.0,300.0,400.0,500.0,400.0,200.0,200.0,400.0,400.0,300.0,300.0,600.0,400.0,350.0,400.0,400.0,350.0,400.0,400.0,400.0,600.0,450.0,300.0,300.0,400.0,200.0,300.0,550.0,350.0,500.0,600.0,550.0,400.0,450.0,500.0,300.0,400.0,400.0,450.0,500.0,500.0,600.0,300.0,500.0,400.0,400.0,450.0,400.0,400.0,350.0,700.0,500.0,500.0,300.0,400.0,1500.0,2500.0,1000.0,800.0,500.0,500.0,300.0,500.0,600.0,1800.0,400.0,300.0,1700.0,1200.0,1600.0,2400.0,2500.0,1700.0,1000.0,1900.0,1500.0,1000.0,1500.0,1600.0,1700.0,1800.0,1200.0,1500.0,1400.0,1450.0,1500.0,1500.0,2100.0,1700.0,1200.0,2000.0,1800.0,800.0,2500.0,1600.0,1900.0,1700.0,2400.0,2500.0,1700.0,1100.0,1000.0,1500.0,1800.0,1000.0,1200.0,1500.0,1600.0,1700.0,1800.0,1200.0,1200.0,1500.0,1400.0,1450.0,1500.0,1500.0,1200.0,2000.0,1200.0,800.0,2500.0],\"type\":\"box\"}],                        {\"height\":800,\"template\":{\"data\":{\"barpolar\":[{\"marker\":{\"line\":{\"color\":\"#E5ECF6\",\"width\":0.5},\"pattern\":{\"fillmode\":\"overlay\",\"size\":10,\"solidity\":0.2}},\"type\":\"barpolar\"}],\"bar\":[{\"error_x\":{\"color\":\"#2a3f5f\"},\"error_y\":{\"color\":\"#2a3f5f\"},\"marker\":{\"line\":{\"color\":\"#E5ECF6\",\"width\":0.5},\"pattern\":{\"fillmode\":\"overlay\",\"size\":10,\"solidity\":0.2}},\"type\":\"bar\"}],\"carpet\":[{\"aaxis\":{\"endlinecolor\":\"#2a3f5f\",\"gridcolor\":\"white\",\"linecolor\":\"white\",\"minorgridcolor\":\"white\",\"startlinecolor\":\"#2a3f5f\"},\"baxis\":{\"endlinecolor\":\"#2a3f5f\",\"gridcolor\":\"white\",\"linecolor\":\"white\",\"minorgridcolor\":\"white\",\"startlinecolor\":\"#2a3f5f\"},\"type\":\"carpet\"}],\"choropleth\":[{\"colorbar\":{\"outlinewidth\":0,\"ticks\":\"\"},\"type\":\"choropleth\"}],\"contourcarpet\":[{\"colorbar\":{\"outlinewidth\":0,\"ticks\":\"\"},\"type\":\"contourcarpet\"}],\"contour\":[{\"colorbar\":{\"outlinewidth\":0,\"ticks\":\"\"},\"colorscale\":[[0.0,\"#0d0887\"],[0.1111111111111111,\"#46039f\"],[0.2222222222222222,\"#7201a8\"],[0.3333333333333333,\"#9c179e\"],[0.4444444444444444,\"#bd3786\"],[0.5555555555555556,\"#d8576b\"],[0.6666666666666666,\"#ed7953\"],[0.7777777777777778,\"#fb9f3a\"],[0.8888888888888888,\"#fdca26\"],[1.0,\"#f0f921\"]],\"type\":\"contour\"}],\"heatmapgl\":[{\"colorbar\":{\"outlinewidth\":0,\"ticks\":\"\"},\"colorscale\":[[0.0,\"#0d0887\"],[0.1111111111111111,\"#46039f\"],[0.2222222222222222,\"#7201a8\"],[0.3333333333333333,\"#9c179e\"],[0.4444444444444444,\"#bd3786\"],[0.5555555555555556,\"#d8576b\"],[0.6666666666666666,\"#ed7953\"],[0.7777777777777778,\"#fb9f3a\"],[0.8888888888888888,\"#fdca26\"],[1.0,\"#f0f921\"]],\"type\":\"heatmapgl\"}],\"heatmap\":[{\"colorbar\":{\"outlinewidth\":0,\"ticks\":\"\"},\"colorscale\":[[0.0,\"#0d0887\"],[0.1111111111111111,\"#46039f\"],[0.2222222222222222,\"#7201a8\"],[0.3333333333333333,\"#9c179e\"],[0.4444444444444444,\"#bd3786\"],[0.5555555555555556,\"#d8576b\"],[0.6666666666666666,\"#ed7953\"],[0.7777777777777778,\"#fb9f3a\"],[0.8888888888888888,\"#fdca26\"],[1.0,\"#f0f921\"]],\"type\":\"heatmap\"}],\"histogram2dcontour\":[{\"colorbar\":{\"outlinewidth\":0,\"ticks\":\"\"},\"colorscale\":[[0.0,\"#0d0887\"],[0.1111111111111111,\"#46039f\"],[0.2222222222222222,\"#7201a8\"],[0.3333333333333333,\"#9c179e\"],[0.4444444444444444,\"#bd3786\"],[0.5555555555555556,\"#d8576b\"],[0.6666666666666666,\"#ed7953\"],[0.7777777777777778,\"#fb9f3a\"],[0.8888888888888888,\"#fdca26\"],[1.0,\"#f0f921\"]],\"type\":\"histogram2dcontour\"}],\"histogram2d\":[{\"colorbar\":{\"outlinewidth\":0,\"ticks\":\"\"},\"colorscale\":[[0.0,\"#0d0887\"],[0.1111111111111111,\"#46039f\"],[0.2222222222222222,\"#7201a8\"],[0.3333333333333333,\"#9c179e\"],[0.4444444444444444,\"#bd3786\"],[0.5555555555555556,\"#d8576b\"],[0.6666666666666666,\"#ed7953\"],[0.7777777777777778,\"#fb9f3a\"],[0.8888888888888888,\"#fdca26\"],[1.0,\"#f0f921\"]],\"type\":\"histogram2d\"}],\"histogram\":[{\"marker\":{\"pattern\":{\"fillmode\":\"overlay\",\"size\":10,\"solidity\":0.2}},\"type\":\"histogram\"}],\"mesh3d\":[{\"colorbar\":{\"outlinewidth\":0,\"ticks\":\"\"},\"type\":\"mesh3d\"}],\"parcoords\":[{\"line\":{\"colorbar\":{\"outlinewidth\":0,\"ticks\":\"\"}},\"type\":\"parcoords\"}],\"pie\":[{\"automargin\":true,\"type\":\"pie\"}],\"scatter3d\":[{\"line\":{\"colorbar\":{\"outlinewidth\":0,\"ticks\":\"\"}},\"marker\":{\"colorbar\":{\"outlinewidth\":0,\"ticks\":\"\"}},\"type\":\"scatter3d\"}],\"scattercarpet\":[{\"marker\":{\"colorbar\":{\"outlinewidth\":0,\"ticks\":\"\"}},\"type\":\"scattercarpet\"}],\"scattergeo\":[{\"marker\":{\"colorbar\":{\"outlinewidth\":0,\"ticks\":\"\"}},\"type\":\"scattergeo\"}],\"scattergl\":[{\"marker\":{\"colorbar\":{\"outlinewidth\":0,\"ticks\":\"\"}},\"type\":\"scattergl\"}],\"scattermapbox\":[{\"marker\":{\"colorbar\":{\"outlinewidth\":0,\"ticks\":\"\"}},\"type\":\"scattermapbox\"}],\"scatterpolargl\":[{\"marker\":{\"colorbar\":{\"outlinewidth\":0,\"ticks\":\"\"}},\"type\":\"scatterpolargl\"}],\"scatterpolar\":[{\"marker\":{\"colorbar\":{\"outlinewidth\":0,\"ticks\":\"\"}},\"type\":\"scatterpolar\"}],\"scatter\":[{\"marker\":{\"colorbar\":{\"outlinewidth\":0,\"ticks\":\"\"}},\"type\":\"scatter\"}],\"scatterternary\":[{\"marker\":{\"colorbar\":{\"outlinewidth\":0,\"ticks\":\"\"}},\"type\":\"scatterternary\"}],\"surface\":[{\"colorbar\":{\"outlinewidth\":0,\"ticks\":\"\"},\"colorscale\":[[0.0,\"#0d0887\"],[0.1111111111111111,\"#46039f\"],[0.2222222222222222,\"#7201a8\"],[0.3333333333333333,\"#9c179e\"],[0.4444444444444444,\"#bd3786\"],[0.5555555555555556,\"#d8576b\"],[0.6666666666666666,\"#ed7953\"],[0.7777777777777778,\"#fb9f3a\"],[0.8888888888888888,\"#fdca26\"],[1.0,\"#f0f921\"]],\"type\":\"surface\"}],\"table\":[{\"cells\":{\"fill\":{\"color\":\"#EBF0F8\"},\"line\":{\"color\":\"white\"}},\"header\":{\"fill\":{\"color\":\"#C8D4E3\"},\"line\":{\"color\":\"white\"}},\"type\":\"table\"}]},\"layout\":{\"annotationdefaults\":{\"arrowcolor\":\"#2a3f5f\",\"arrowhead\":0,\"arrowwidth\":1},\"autotypenumbers\":\"strict\",\"coloraxis\":{\"colorbar\":{\"outlinewidth\":0,\"ticks\":\"\"}},\"colorscale\":{\"diverging\":[[0,\"#8e0152\"],[0.1,\"#c51b7d\"],[0.2,\"#de77ae\"],[0.3,\"#f1b6da\"],[0.4,\"#fde0ef\"],[0.5,\"#f7f7f7\"],[0.6,\"#e6f5d0\"],[0.7,\"#b8e186\"],[0.8,\"#7fbc41\"],[0.9,\"#4d9221\"],[1,\"#276419\"]],\"sequential\":[[0.0,\"#0d0887\"],[0.1111111111111111,\"#46039f\"],[0.2222222222222222,\"#7201a8\"],[0.3333333333333333,\"#9c179e\"],[0.4444444444444444,\"#bd3786\"],[0.5555555555555556,\"#d8576b\"],[0.6666666666666666,\"#ed7953\"],[0.7777777777777778,\"#fb9f3a\"],[0.8888888888888888,\"#fdca26\"],[1.0,\"#f0f921\"]],\"sequentialminus\":[[0.0,\"#0d0887\"],[0.1111111111111111,\"#46039f\"],[0.2222222222222222,\"#7201a8\"],[0.3333333333333333,\"#9c179e\"],[0.4444444444444444,\"#bd3786\"],[0.5555555555555556,\"#d8576b\"],[0.6666666666666666,\"#ed7953\"],[0.7777777777777778,\"#fb9f3a\"],[0.8888888888888888,\"#fdca26\"],[1.0,\"#f0f921\"]]},\"colorway\":[\"#636efa\",\"#EF553B\",\"#00cc96\",\"#ab63fa\",\"#FFA15A\",\"#19d3f3\",\"#FF6692\",\"#B6E880\",\"#FF97FF\",\"#FECB52\"],\"font\":{\"color\":\"#2a3f5f\"},\"geo\":{\"bgcolor\":\"white\",\"lakecolor\":\"white\",\"landcolor\":\"#E5ECF6\",\"showlakes\":true,\"showland\":true,\"subunitcolor\":\"white\"},\"hoverlabel\":{\"align\":\"left\"},\"hovermode\":\"closest\",\"mapbox\":{\"style\":\"light\"},\"paper_bgcolor\":\"white\",\"plot_bgcolor\":\"#E5ECF6\",\"polar\":{\"angularaxis\":{\"gridcolor\":\"white\",\"linecolor\":\"white\",\"ticks\":\"\"},\"bgcolor\":\"#E5ECF6\",\"radialaxis\":{\"gridcolor\":\"white\",\"linecolor\":\"white\",\"ticks\":\"\"}},\"scene\":{\"xaxis\":{\"backgroundcolor\":\"#E5ECF6\",\"gridcolor\":\"white\",\"gridwidth\":2,\"linecolor\":\"white\",\"showbackground\":true,\"ticks\":\"\",\"zerolinecolor\":\"white\"},\"yaxis\":{\"backgroundcolor\":\"#E5ECF6\",\"gridcolor\":\"white\",\"gridwidth\":2,\"linecolor\":\"white\",\"showbackground\":true,\"ticks\":\"\",\"zerolinecolor\":\"white\"},\"zaxis\":{\"backgroundcolor\":\"#E5ECF6\",\"gridcolor\":\"white\",\"gridwidth\":2,\"linecolor\":\"white\",\"showbackground\":true,\"ticks\":\"\",\"zerolinecolor\":\"white\"}},\"shapedefaults\":{\"line\":{\"color\":\"#2a3f5f\"}},\"ternary\":{\"aaxis\":{\"gridcolor\":\"white\",\"linecolor\":\"white\",\"ticks\":\"\"},\"baxis\":{\"gridcolor\":\"white\",\"linecolor\":\"white\",\"ticks\":\"\"},\"bgcolor\":\"#E5ECF6\",\"caxis\":{\"gridcolor\":\"white\",\"linecolor\":\"white\",\"ticks\":\"\"}},\"title\":{\"x\":0.05},\"xaxis\":{\"automargin\":true,\"gridcolor\":\"white\",\"linecolor\":\"white\",\"ticks\":\"\",\"title\":{\"standoff\":15},\"zerolinecolor\":\"white\",\"zerolinewidth\":2},\"yaxis\":{\"automargin\":true,\"gridcolor\":\"white\",\"linecolor\":\"white\",\"ticks\":\"\",\"title\":{\"standoff\":15},\"zerolinecolor\":\"white\",\"zerolinewidth\":2}}},\"title\":{\"text\":\"Box plot of approximate cost\"},\"width\":800,\"yaxis\":{\"title\":{\"text\":\"Price\"}}},                        {\"responsive\": true}                    ).then(function(){\n",
              "                            \n",
              "var gd = document.getElementById('dfc25f8c-8f07-489a-902b-07d138e823ec');\n",
              "var x = new MutationObserver(function (mutations, observer) {{\n",
              "        var display = window.getComputedStyle(gd).display;\n",
              "        if (!display || display === 'none') {{\n",
              "            console.log([gd, 'removed!']);\n",
              "            Plotly.purge(gd);\n",
              "            observer.disconnect();\n",
              "        }}\n",
              "}});\n",
              "\n",
              "// Listen for the removal of the full notebook cells\n",
              "var notebookContainer = gd.closest('#notebook-container');\n",
              "if (notebookContainer) {{\n",
              "    x.observe(notebookContainer, {childList: true});\n",
              "}}\n",
              "\n",
              "// Listen for the clearing of the current output cell\n",
              "var outputEl = gd.closest('.output');\n",
              "if (outputEl) {{\n",
              "    x.observe(outputEl, {childList: true});\n",
              "}}\n",
              "\n",
              "                        })                };                            </script>        </div>\n",
              "</body>\n",
              "</html>"
            ]
          },
          "metadata": {}
        }
      ]
    },
    {
      "cell_type": "markdown",
      "source": [
        "**Distribution of charges**"
      ],
      "metadata": {
        "id": "COQK6TCXzCMo"
      }
    },
    {
      "cell_type": "code",
      "source": [
        "plt.figure(figsize=(8,8))\n",
        "sns.distplot(df['cost'])\n",
        "plt.show()"
      ],
      "metadata": {
        "colab": {
          "base_uri": "https://localhost:8080/",
          "height": 496
        },
        "id": "DAzHejT2y9hU",
        "outputId": "a344796f-f6ab-4c53-c7ca-cf76e7405438"
      },
      "execution_count": null,
      "outputs": [
        {
          "output_type": "display_data",
          "data": {
            "text/plain": [
              "<Figure size 576x576 with 1 Axes>"
            ],
            "image/png": "[encoded data removed]"
          },
          "metadata": {
            "needs_background": "light"
          }
        }
      ]
    },
    {
      "cell_type": "markdown",
      "source": [
        "**Most Liked Dishes**"
      ],
      "metadata": {
        "id": "giIp3m94zMRW"
      }
    },
    {
      "cell_type": "code",
      "source": [
        "#re=regular expression (use for splitting words)\n",
        "\n",
        "import re\n",
        "\n",
        "df.index=range(df.shape[0])\n",
        "likes=[]\n",
        "for i in range(df.shape[0]):\n",
        "    array_split=re.split(',',df['dish_liked'][i])\n",
        "    for item in array_split:\n",
        "        likes.append(item)"
      ],
      "metadata": {
        "id": "ESlDUk5RzJXf"
      },
      "execution_count": null,
      "outputs": []
    },
    {
      "cell_type": "code",
      "source": [
        "df.index=range(df.shape[0])"
      ],
      "metadata": {
        "id": "0cyZfwy4zQdl"
      },
      "execution_count": null,
      "outputs": []
    },
    {
      "cell_type": "code",
      "source": [
        "df.index"
      ],
      "metadata": {
        "colab": {
          "base_uri": "https://localhost:8080/"
        },
        "id": "Z6CFV2dezSu_",
        "outputId": "b58dab30-18e9-4ae8-f841-9cdd9be021b9"
      },
      "execution_count": null,
      "outputs": [
        {
          "output_type": "execute_result",
          "data": {
            "text/plain": [
              "RangeIndex(start=0, stop=23248, step=1)"
            ]
          },
          "metadata": {},
          "execution_count": 115
        }
      ]
    },
    {
      "cell_type": "code",
      "source": [
        "print(\"Count of Most liked dishes in Bangalore\")\n",
        "favourite_food = pd.Series(likes).value_counts()\n",
        "favourite_food.head(30)"
      ],
      "metadata": {
        "colab": {
          "base_uri": "https://localhost:8080/"
        },
        "id": "Z8IRkJ7qzVQy",
        "outputId": "e95b4842-0910-499e-9846-8d1a16fa93d7"
      },
      "execution_count": null,
      "outputs": [
        {
          "output_type": "stream",
          "name": "stdout",
          "text": [
            "Count of Most liked dishes in Bangalore\n"
          ]
        },
        {
          "output_type": "execute_result",
          "data": {
            "text/plain": [
              " Pasta              2692\n",
              " Pizza              1915\n",
              " Cocktails          1880\n",
              " Burgers            1736\n",
              " Mocktails          1623\n",
              " Biryani            1307\n",
              " Sandwiches         1287\n",
              "Burgers             1256\n",
              " Coffee             1184\n",
              " Nachos             1170\n",
              " Fish               1116\n",
              " Paratha            1107\n",
              " Salads             1055\n",
              " Chicken Biryani    1004\n",
              "Cocktails            891\n",
              " Fries               876\n",
              " Noodles             854\n",
              " Beer                835\n",
              " Mutton Biryani      832\n",
              " Tea                 819\n",
              "Coffee               801\n",
              " Sandwich            788\n",
              " Butter Chicken      782\n",
              " Thali               770\n",
              "Biryani              749\n",
              "Pizza                747\n",
              " Roti                729\n",
              " Brownie             726\n",
              " Salad               677\n",
              " Hot Chocolate       672\n",
              "dtype: int64"
            ]
          },
          "metadata": {},
          "execution_count": 116
        }
      ]
    },
    {
      "cell_type": "code",
      "source": [
        "ax = favourite_food.nlargest(n=20, keep='first').plot(kind='bar',figsize=(18,10),title = 'Top 30 Favourite Food counts ')\n",
        "\n",
        "for i in ax.patches:\n",
        "    ax.annotate(str(i.get_height()), (i.get_x() * 1.005, i.get_height() * 1.005))"
      ],
      "metadata": {
        "colab": {
          "base_uri": "https://localhost:8080/",
          "height": 676
        },
        "id": "Uu6CM6znzYDH",
        "outputId": "7029365b-4fcb-4263-fcc3-160ee5aa7081"
      },
      "execution_count": null,
      "outputs": [
        {
          "output_type": "display_data",
          "data": {
            "text/plain": [
              "<Figure size 1296x720 with 1 Axes>"
            ],
            "image/png": "[encoded data removed]"
          },
          "metadata": {
            "needs_background": "light"
          }
        }
      ]
    },
    {
      "cell_type": "markdown",
      "source": [
        "We can infer from the analysis that the 5 most liked dishes are **Pasta,Pizza,Cocktails,Burgers,and Mocktails**"
      ],
      "metadata": {
        "id": "rBD7GoJnzeab"
      }
    },
    {
      "cell_type": "markdown",
      "source": [
        "**Restaurant and their counts**"
      ],
      "metadata": {
        "id": "dJzlXq-dzksM"
      }
    },
    {
      "cell_type": "code",
      "source": [
        "plt.figure(figsize=(15,7))\n",
        "rest=df['rest_type'].value_counts()[:20]\n",
        "sns.barplot(rest,rest.index)\n",
        "plt.title(\"Restaurant types\")\n",
        "plt.xlabel(\"count\")"
      ],
      "metadata": {
        "colab": {
          "base_uri": "https://localhost:8080/",
          "height": 476
        },
        "id": "MjAGECpGzbQt",
        "outputId": "9d80ab6a-7d38-4864-eea9-2ab8a8b1ece8"
      },
      "execution_count": null,
      "outputs": [
        {
          "output_type": "execute_result",
          "data": {
            "text/plain": [
              "Text(0.5, 0, 'count')"
            ]
          },
          "metadata": {},
          "execution_count": 118
        },
        {
          "output_type": "display_data",
          "data": {
            "text/plain": [
              "<Figure size 1080x504 with 1 Axes>"
            ],
            "image/png": "[encoded data removed]"
          },
          "metadata": {
            "needs_background": "light"
          }
        }
      ]
    },
    {
      "cell_type": "markdown",
      "source": [
        "**Casual Dining, Quick Bites and Cafe** are the 3 most common types of Restaurants in Banglore"
      ],
      "metadata": {
        "id": "ReuDBiO-EQ5o"
      }
    },
    {
      "cell_type": "markdown",
      "source": [
        "**Most famous Restaurants**"
      ],
      "metadata": {
        "id": "FnyDbXfyEW8A"
      }
    },
    {
      "cell_type": "code",
      "source": [
        "# plt.figure(figsize=(15,7))\n",
        "# chains=df['name'].value_counts()[:20]\n",
        "# sns.barplot(x=chains,y=chains.index,palette='Set1')\n",
        "# plt.title(\"Most famous restaurant chains in Bangaluru\",size=20,pad=20)\n",
        "# plt.xlabel(\"Number of outlets\",size=15)\n",
        "     "
      ],
      "metadata": {
        "id": "HdngirCRDkAr"
      },
      "execution_count": null,
      "outputs": []
    },
    {
      "cell_type": "markdown",
      "source": [
        "**Building Our Model**"
      ],
      "metadata": {
        "id": "pos9a-WDEeLD"
      }
    },
    {
      "cell_type": "code",
      "source": [
        "df.head()"
      ],
      "metadata": {
        "colab": {
          "base_uri": "https://localhost:8080/",
          "height": 615
        },
        "id": "u6teq3_EEbJa",
        "outputId": "8597cd87-a7e9-4949-e974-2010cce1e061"
      },
      "execution_count": null,
      "outputs": [
        {
          "output_type": "execute_result",
          "data": {
            "text/plain": [
              "                                             address                   name  \\\n",
              "0  942, 21st Main Road, 2nd Stage, Banashankari, ...                  Jalsa   \n",
              "1  2nd Floor, 80 Feet Road, Near Big Bazaar, 6th ...         Spice Elephant   \n",
              "2  1112, Next to KIMS Medical College, 17th Cross...        San Churro Cafe   \n",
              "3  1st Floor, Annakuteera, 3rd Stage, Banashankar...  Addhuri Udupi Bhojana   \n",
              "4  10, 3rd Floor, Lakshmi Associates, Gandhi Baza...          Grand Village   \n",
              "\n",
              "  online_order book_table  rate  votes      location            rest_type  \\\n",
              "0          Yes        Yes   4.1    775  Banashankari        Casual Dining   \n",
              "1          Yes         No   4.1    787  Banashankari        Casual Dining   \n",
              "2          Yes         No   3.8    918  Banashankari  Cafe, Casual Dining   \n",
              "3           No         No   3.7     88  Banashankari          Quick Bites   \n",
              "4           No         No   3.8    166  Basavanagudi        Casual Dining   \n",
              "\n",
              "                                          dish_liked  \\\n",
              "0  Pasta, Lunch Buffet, Masala Papad, Paneer Laja...   \n",
              "1  Momos, Lunch Buffet, Chocolate Nirvana, Thai G...   \n",
              "2  Churros, Cannelloni, Minestrone Soup, Hot Choc...   \n",
              "3                                        Masala Dosa   \n",
              "4                                Panipuri, Gol Gappe   \n",
              "\n",
              "                         cuisines   cost  \\\n",
              "0  North Indian, Mughlai, Chinese  800.0   \n",
              "1     Chinese, North Indian, Thai  800.0   \n",
              "2          Cafe, Mexican, Italian  800.0   \n",
              "3      South Indian, North Indian  300.0   \n",
              "4        North Indian, Rajasthani  600.0   \n",
              "\n",
              "                                        reviews_list menu_item    type  \\\n",
              "0  [('Rated 4.0', 'RATED\\n  A beautiful place to ...        []  Buffet   \n",
              "1  [('Rated 4.0', 'RATED\\n  Had been here for din...        []  Buffet   \n",
              "2  [('Rated 3.0', \"RATED\\n  Ambience is not that ...        []  Buffet   \n",
              "3  [('Rated 4.0', \"RATED\\n  Great food and proper...        []  Buffet   \n",
              "4  [('Rated 4.0', 'RATED\\n  Very good restaurant ...        []  Buffet   \n",
              "\n",
              "           city  \n",
              "0  Banashankari  \n",
              "1  Banashankari  \n",
              "2  Banashankari  \n",
              "3  Banashankari  \n",
              "4  Banashankari  "
            ],
            "text/html": [
              "\n",
              "  <div id=\"df-81d95046-919b-431b-8cc0-ced95a5b45a4\">\n",
              "    <div class=\"colab-df-container\">\n",
              "      <div>\n",
              "<style scoped>\n",
              "    .dataframe tbody tr th:only-of-type {\n",
              "        vertical-align: middle;\n",
              "    }\n",
              "\n",
              "    .dataframe tbody tr th {\n",
              "        vertical-align: top;\n",
              "    }\n",
              "\n",
              "    .dataframe thead th {\n",
              "        text-align: right;\n",
              "    }\n",
              "</style>\n",
              "<table border=\"1\" class=\"dataframe\">\n",
              "  <thead>\n",
              "    <tr style=\"text-align: right;\">\n",
              "      <th></th>\n",
              "      <th>address</th>\n",
              "      <th>name</th>\n",
              "      <th>online_order</th>\n",
              "      <th>book_table</th>\n",
              "      <th>rate</th>\n",
              "      <th>votes</th>\n",
              "      <th>location</th>\n",
              "      <th>rest_type</th>\n",
              "      <th>dish_liked</th>\n",
              "      <th>cuisines</th>\n",
              "      <th>cost</th>\n",
              "      <th>reviews_list</th>\n",
              "      <th>menu_item</th>\n",
              "      <th>type</th>\n",
              "      <th>city</th>\n",
              "    </tr>\n",
              "  </thead>\n",
              "  <tbody>\n",
              "    <tr>\n",
              "      <th>0</th>\n",
              "      <td>942, 21st Main Road, 2nd Stage, Banashankari, ...</td>\n",
              "      <td>Jalsa</td>\n",
              "      <td>Yes</td>\n",
              "      <td>Yes</td>\n",
              "      <td>4.1</td>\n",
              "      <td>775</td>\n",
              "      <td>Banashankari</td>\n",
              "      <td>Casual Dining</td>\n",
              "      <td>Pasta, Lunch Buffet, Masala Papad, Paneer Laja...</td>\n",
              "      <td>North Indian, Mughlai, Chinese</td>\n",
              "      <td>800.0</td>\n",
              "      <td>[('Rated 4.0', 'RATED\\n  A beautiful place to ...</td>\n",
              "      <td>[]</td>\n",
              "      <td>Buffet</td>\n",
              "      <td>Banashankari</td>\n",
              "    </tr>\n",
              "    <tr>\n",
              "      <th>1</th>\n",
              "      <td>2nd Floor, 80 Feet Road, Near Big Bazaar, 6th ...</td>\n",
              "      <td>Spice Elephant</td>\n",
              "      <td>Yes</td>\n",
              "      <td>No</td>\n",
              "      <td>4.1</td>\n",
              "      <td>787</td>\n",
              "      <td>Banashankari</td>\n",
              "      <td>Casual Dining</td>\n",
              "      <td>Momos, Lunch Buffet, Chocolate Nirvana, Thai G...</td>\n",
              "      <td>Chinese, North Indian, Thai</td>\n",
              "      <td>800.0</td>\n",
              "      <td>[('Rated 4.0', 'RATED\\n  Had been here for din...</td>\n",
              "      <td>[]</td>\n",
              "      <td>Buffet</td>\n",
              "      <td>Banashankari</td>\n",
              "    </tr>\n",
              "    <tr>\n",
              "      <th>2</th>\n",
              "      <td>1112, Next to KIMS Medical College, 17th Cross...</td>\n",
              "      <td>San Churro Cafe</td>\n",
              "      <td>Yes</td>\n",
              "      <td>No</td>\n",
              "      <td>3.8</td>\n",
              "      <td>918</td>\n",
              "      <td>Banashankari</td>\n",
              "      <td>Cafe, Casual Dining</td>\n",
              "      <td>Churros, Cannelloni, Minestrone Soup, Hot Choc...</td>\n",
              "      <td>Cafe, Mexican, Italian</td>\n",
              "      <td>800.0</td>\n",
              "      <td>[('Rated 3.0', \"RATED\\n  Ambience is not that ...</td>\n",
              "      <td>[]</td>\n",
              "      <td>Buffet</td>\n",
              "      <td>Banashankari</td>\n",
              "    </tr>\n",
              "    <tr>\n",
              "      <th>3</th>\n",
              "      <td>1st Floor, Annakuteera, 3rd Stage, Banashankar...</td>\n",
              "      <td>Addhuri Udupi Bhojana</td>\n",
              "      <td>No</td>\n",
              "      <td>No</td>\n",
              "      <td>3.7</td>\n",
              "      <td>88</td>\n",
              "      <td>Banashankari</td>\n",
              "      <td>Quick Bites</td>\n",
              "      <td>Masala Dosa</td>\n",
              "      <td>South Indian, North Indian</td>\n",
              "      <td>300.0</td>\n",
              "      <td>[('Rated 4.0', \"RATED\\n  Great food and proper...</td>\n",
              "      <td>[]</td>\n",
              "      <td>Buffet</td>\n",
              "      <td>Banashankari</td>\n",
              "    </tr>\n",
              "    <tr>\n",
              "      <th>4</th>\n",
              "      <td>10, 3rd Floor, Lakshmi Associates, Gandhi Baza...</td>\n",
              "      <td>Grand Village</td>\n",
              "      <td>No</td>\n",
              "      <td>No</td>\n",
              "      <td>3.8</td>\n",
              "      <td>166</td>\n",
              "      <td>Basavanagudi</td>\n",
              "      <td>Casual Dining</td>\n",
              "      <td>Panipuri, Gol Gappe</td>\n",
              "      <td>North Indian, Rajasthani</td>\n",
              "      <td>600.0</td>\n",
              "      <td>[('Rated 4.0', 'RATED\\n  Very good restaurant ...</td>\n",
              "      <td>[]</td>\n",
              "      <td>Buffet</td>\n",
              "      <td>Banashankari</td>\n",
              "    </tr>\n",
              "  </tbody>\n",
              "</table>\n",
              "</div>\n",
              "      <button class=\"colab-df-convert\" onclick=\"convertToInteractive('df-81d95046-919b-431b-8cc0-ced95a5b45a4')\"\n",
              "              title=\"Convert this dataframe to an interactive table.\"\n",
              "              style=\"display:none;\">\n",
              "        \n",
              "  <svg xmlns=\"http://www.w3.org/2000/svg\" height=\"24px\"viewBox=\"0 0 24 24\"\n",
              "       width=\"24px\">\n",
              "    <path d=\"M0 0h24v24H0V0z\" fill=\"none\"/>\n",
              "    <path d=\"M18.56 5.44l.94 2.06.94-2.06 2.06-.94-2.06-.94-.94-2.06-.94 2.06-2.06.94zm-11 1L8.5 8.5l.94-2.06 2.06-.94-2.06-.94L8.5 2.5l-.94 2.06-2.06.94zm10 10l.94 2.06.94-2.06 2.06-.94-2.06-.94-.94-2.06-.94 2.06-2.06.94z\"/><path d=\"M17.41 7.96l-1.37-1.37c-.4-.4-.92-.59-1.43-.59-.52 0-1.04.2-1.43.59L10.3 9.45l-7.72 7.72c-.78.78-.78 2.05 0 2.83L4 21.41c.39.39.9.59 1.41.59.51 0 1.02-.2 1.41-.59l7.78-7.78 2.81-2.81c.8-.78.8-2.07 0-2.86zM5.41 20L4 18.59l7.72-7.72 1.47 1.35L5.41 20z\"/>\n",
              "  </svg>\n",
              "      </button>\n",
              "      \n",
              "  <style>\n",
              "    .colab-df-container {\n",
              "      display:flex;\n",
              "      flex-wrap:wrap;\n",
              "      gap: 12px;\n",
              "    }\n",
              "\n",
              "    .colab-df-convert {\n",
              "      background-color: #E8F0FE;\n",
              "      border: none;\n",
              "      border-radius: 50%;\n",
              "      cursor: pointer;\n",
              "      display: none;\n",
              "      fill: #1967D2;\n",
              "      height: 32px;\n",
              "      padding: 0 0 0 0;\n",
              "      width: 32px;\n",
              "    }\n",
              "\n",
              "    .colab-df-convert:hover {\n",
              "      background-color: #E2EBFA;\n",
              "      box-shadow: 0px 1px 2px rgba(60, 64, 67, 0.3), 0px 1px 3px 1px rgba(60, 64, 67, 0.15);\n",
              "      fill: #174EA6;\n",
              "    }\n",
              "\n",
              "    [theme=dark] .colab-df-convert {\n",
              "      background-color: #3B4455;\n",
              "      fill: #D2E3FC;\n",
              "    }\n",
              "\n",
              "    [theme=dark] .colab-df-convert:hover {\n",
              "      background-color: #434B5C;\n",
              "      box-shadow: 0px 1px 3px 1px rgba(0, 0, 0, 0.15);\n",
              "      filter: drop-shadow(0px 1px 2px rgba(0, 0, 0, 0.3));\n",
              "      fill: #FFFFFF;\n",
              "    }\n",
              "  </style>\n",
              "\n",
              "      <script>\n",
              "        const buttonEl =\n",
              "          document.querySelector('#df-81d95046-919b-431b-8cc0-ced95a5b45a4 button.colab-df-convert');\n",
              "        buttonEl.style.display =\n",
              "          google.colab.kernel.accessAllowed ? 'block' : 'none';\n",
              "\n",
              "        async function convertToInteractive(key) {\n",
              "          const element = document.querySelector('#df-81d95046-919b-431b-8cc0-ced95a5b45a4');\n",
              "          const dataTable =\n",
              "            await google.colab.kernel.invokeFunction('convertToInteractive',\n",
              "                                                     [key], {});\n",
              "          if (!dataTable) return;\n",
              "\n",
              "          const docLinkHtml = 'Like what you see? Visit the ' +\n",
              "            '<a target=\"_blank\" href=https://colab.research.google.com/notebooks/data_table.ipynb>data table notebook</a>'\n",
              "            + ' to learn more about interactive tables.';\n",
              "          element.innerHTML = '';\n",
              "          dataTable['output_type'] = 'display_data';\n",
              "          await google.colab.output.renderOutput(dataTable, element);\n",
              "          const docLink = document.createElement('div');\n",
              "          docLink.innerHTML = docLinkHtml;\n",
              "          element.appendChild(docLink);\n",
              "        }\n",
              "      </script>\n",
              "    </div>\n",
              "  </div>\n",
              "  "
            ]
          },
          "metadata": {},
          "execution_count": 120
        }
      ]
    },
    {
      "cell_type": "markdown",
      "source": [
        "**Convert the online categorical variables into a numeric format**"
      ],
      "metadata": {
        "id": "EQ89PjFLElQt"
      }
    },
    {
      "cell_type": "code",
      "source": [
        "df.online_order[df.online_order == 'Yes'] = 1 \n",
        "df.online_order[df.online_order == 'No'] = 0\n",
        "     "
      ],
      "metadata": {
        "id": "C-zomNuIEiIp"
      },
      "execution_count": null,
      "outputs": []
    },
    {
      "cell_type": "code",
      "source": [
        "df.online_order.value_counts()"
      ],
      "metadata": {
        "colab": {
          "base_uri": "https://localhost:8080/"
        },
        "id": "gIsY4YPHErMW",
        "outputId": "e7cea4af-2139-4745-db97-2144d1a630ad"
      },
      "execution_count": null,
      "outputs": [
        {
          "output_type": "execute_result",
          "data": {
            "text/plain": [
              "1    16378\n",
              "0     6870\n",
              "Name: online_order, dtype: int64"
            ]
          },
          "metadata": {},
          "execution_count": 122
        }
      ]
    },
    {
      "cell_type": "code",
      "source": [
        "df.online_order = pd.to_numeric(df.online_order)"
      ],
      "metadata": {
        "id": "afDakQNMEtjI"
      },
      "execution_count": null,
      "outputs": []
    },
    {
      "cell_type": "markdown",
      "source": [
        "**change the string categorical into to a categorical int**"
      ],
      "metadata": {
        "id": "IexYd9uLEyuv"
      }
    },
    {
      "cell_type": "code",
      "source": [
        "df.book_table[df.book_table == 'Yes'] = 1 \n",
        "df.book_table[df.book_table == 'No'] = 0"
      ],
      "metadata": {
        "id": "B4S48BBdEwQv"
      },
      "execution_count": null,
      "outputs": []
    },
    {
      "cell_type": "code",
      "source": [
        "df.book_table = pd.to_numeric(df.book_table)"
      ],
      "metadata": {
        "id": "HR_yViORE3XL"
      },
      "execution_count": null,
      "outputs": []
    },
    {
      "cell_type": "code",
      "source": [
        "df.book_table.value_counts()"
      ],
      "metadata": {
        "colab": {
          "base_uri": "https://localhost:8080/"
        },
        "id": "C0L5_J_ZE55U",
        "outputId": "c3302e2c-4911-4e9f-df5d-f9fed98d9c6b"
      },
      "execution_count": null,
      "outputs": [
        {
          "output_type": "execute_result",
          "data": {
            "text/plain": [
              "0    17191\n",
              "1     6057\n",
              "Name: book_table, dtype: int64"
            ]
          },
          "metadata": {},
          "execution_count": 126
        }
      ]
    },
    {
      "cell_type": "markdown",
      "source": [
        "Label encode the categorical variables to make it easier to build algorithm"
      ],
      "metadata": {
        "id": "NBc71KnTE_d4"
      }
    },
    {
      "cell_type": "code",
      "source": [
        "from sklearn.preprocessing import LabelEncoder\n",
        "le = LabelEncoder()"
      ],
      "metadata": {
        "id": "o6cZ3hgtE8Ew"
      },
      "execution_count": null,
      "outputs": []
    },
    {
      "cell_type": "code",
      "source": [
        "df.location = le.fit_transform(df.location)\n",
        "df.rest_type = le.fit_transform(df.rest_type)\n",
        "df.cuisines = le.fit_transform(df.cuisines)\n",
        "df.menu_item = le.fit_transform(df.menu_item)"
      ],
      "metadata": {
        "id": "dIP6Ca7bFCvh"
      },
      "execution_count": null,
      "outputs": []
    },
    {
      "cell_type": "code",
      "source": [
        "df.head()"
      ],
      "metadata": {
        "colab": {
          "base_uri": "https://localhost:8080/",
          "height": 563
        },
        "id": "4XAzEe3XFFBS",
        "outputId": "b04e16f5-dad9-42aa-8210-67e33bb33c49"
      },
      "execution_count": null,
      "outputs": [
        {
          "output_type": "execute_result",
          "data": {
            "text/plain": [
              "                                             address                   name  \\\n",
              "0  942, 21st Main Road, 2nd Stage, Banashankari, ...                  Jalsa   \n",
              "1  2nd Floor, 80 Feet Road, Near Big Bazaar, 6th ...         Spice Elephant   \n",
              "2  1112, Next to KIMS Medical College, 17th Cross...        San Churro Cafe   \n",
              "3  1st Floor, Annakuteera, 3rd Stage, Banashankar...  Addhuri Udupi Bhojana   \n",
              "4  10, 3rd Floor, Lakshmi Associates, Gandhi Baza...          Grand Village   \n",
              "\n",
              "   online_order  book_table  rate  votes  location  rest_type  \\\n",
              "0             1           1   4.1    775         1         20   \n",
              "1             1           0   4.1    787         1         20   \n",
              "2             1           0   3.8    918         1         16   \n",
              "3             0           0   3.7     88         1         62   \n",
              "4             0           0   3.8    166         4         20   \n",
              "\n",
              "                                          dish_liked  cuisines   cost  \\\n",
              "0  Pasta, Lunch Buffet, Masala Papad, Paneer Laja...      1386  800.0   \n",
              "1  Momos, Lunch Buffet, Chocolate Nirvana, Thai G...       594  800.0   \n",
              "2  Churros, Cannelloni, Minestrone Soup, Hot Choc...       484  800.0   \n",
              "3                                        Masala Dosa      1587  300.0   \n",
              "4                                Panipuri, Gol Gappe      1406  600.0   \n",
              "\n",
              "                                        reviews_list  menu_item    type  \\\n",
              "0  [('Rated 4.0', 'RATED\\n  A beautiful place to ...       5047  Buffet   \n",
              "1  [('Rated 4.0', 'RATED\\n  Had been here for din...       5047  Buffet   \n",
              "2  [('Rated 3.0', \"RATED\\n  Ambience is not that ...       5047  Buffet   \n",
              "3  [('Rated 4.0', \"RATED\\n  Great food and proper...       5047  Buffet   \n",
              "4  [('Rated 4.0', 'RATED\\n  Very good restaurant ...       5047  Buffet   \n",
              "\n",
              "           city  \n",
              "0  Banashankari  \n",
              "1  Banashankari  \n",
              "2  Banashankari  \n",
              "3  Banashankari  \n",
              "4  Banashankari  "
            ],
            "text/html": [
              "\n",
              "  <div id=\"df-517345f9-b299-4232-8623-b41b62fd01d2\">\n",
              "    <div class=\"colab-df-container\">\n",
              "      <div>\n",
              "<style scoped>\n",
              "    .dataframe tbody tr th:only-of-type {\n",
              "        vertical-align: middle;\n",
              "    }\n",
              "\n",
              "    .dataframe tbody tr th {\n",
              "        vertical-align: top;\n",
              "    }\n",
              "\n",
              "    .dataframe thead th {\n",
              "        text-align: right;\n",
              "    }\n",
              "</style>\n",
              "<table border=\"1\" class=\"dataframe\">\n",
              "  <thead>\n",
              "    <tr style=\"text-align: right;\">\n",
              "      <th></th>\n",
              "      <th>address</th>\n",
              "      <th>name</th>\n",
              "      <th>online_order</th>\n",
              "      <th>book_table</th>\n",
              "      <th>rate</th>\n",
              "      <th>votes</th>\n",
              "      <th>location</th>\n",
              "      <th>rest_type</th>\n",
              "      <th>dish_liked</th>\n",
              "      <th>cuisines</th>\n",
              "      <th>cost</th>\n",
              "      <th>reviews_list</th>\n",
              "      <th>menu_item</th>\n",
              "      <th>type</th>\n",
              "      <th>city</th>\n",
              "    </tr>\n",
              "  </thead>\n",
              "  <tbody>\n",
              "    <tr>\n",
              "      <th>0</th>\n",
              "      <td>942, 21st Main Road, 2nd Stage, Banashankari, ...</td>\n",
              "      <td>Jalsa</td>\n",
              "      <td>1</td>\n",
              "      <td>1</td>\n",
              "      <td>4.1</td>\n",
              "      <td>775</td>\n",
              "      <td>1</td>\n",
              "      <td>20</td>\n",
              "      <td>Pasta, Lunch Buffet, Masala Papad, Paneer Laja...</td>\n",
              "      <td>1386</td>\n",
              "      <td>800.0</td>\n",
              "      <td>[('Rated 4.0', 'RATED\\n  A beautiful place to ...</td>\n",
              "      <td>5047</td>\n",
              "      <td>Buffet</td>\n",
              "      <td>Banashankari</td>\n",
              "    </tr>\n",
              "    <tr>\n",
              "      <th>1</th>\n",
              "      <td>2nd Floor, 80 Feet Road, Near Big Bazaar, 6th ...</td>\n",
              "      <td>Spice Elephant</td>\n",
              "      <td>1</td>\n",
              "      <td>0</td>\n",
              "      <td>4.1</td>\n",
              "      <td>787</td>\n",
              "      <td>1</td>\n",
              "      <td>20</td>\n",
              "      <td>Momos, Lunch Buffet, Chocolate Nirvana, Thai G...</td>\n",
              "      <td>594</td>\n",
              "      <td>800.0</td>\n",
              "      <td>[('Rated 4.0', 'RATED\\n  Had been here for din...</td>\n",
              "      <td>5047</td>\n",
              "      <td>Buffet</td>\n",
              "      <td>Banashankari</td>\n",
              "    </tr>\n",
              "    <tr>\n",
              "      <th>2</th>\n",
              "      <td>1112, Next to KIMS Medical College, 17th Cross...</td>\n",
              "      <td>San Churro Cafe</td>\n",
              "      <td>1</td>\n",
              "      <td>0</td>\n",
              "      <td>3.8</td>\n",
              "      <td>918</td>\n",
              "      <td>1</td>\n",
              "      <td>16</td>\n",
              "      <td>Churros, Cannelloni, Minestrone Soup, Hot Choc...</td>\n",
              "      <td>484</td>\n",
              "      <td>800.0</td>\n",
              "      <td>[('Rated 3.0', \"RATED\\n  Ambience is not that ...</td>\n",
              "      <td>5047</td>\n",
              "      <td>Buffet</td>\n",
              "      <td>Banashankari</td>\n",
              "    </tr>\n",
              "    <tr>\n",
              "      <th>3</th>\n",
              "      <td>1st Floor, Annakuteera, 3rd Stage, Banashankar...</td>\n",
              "      <td>Addhuri Udupi Bhojana</td>\n",
              "      <td>0</td>\n",
              "      <td>0</td>\n",
              "      <td>3.7</td>\n",
              "      <td>88</td>\n",
              "      <td>1</td>\n",
              "      <td>62</td>\n",
              "      <td>Masala Dosa</td>\n",
              "      <td>1587</td>\n",
              "      <td>300.0</td>\n",
              "      <td>[('Rated 4.0', \"RATED\\n  Great food and proper...</td>\n",
              "      <td>5047</td>\n",
              "      <td>Buffet</td>\n",
              "      <td>Banashankari</td>\n",
              "    </tr>\n",
              "    <tr>\n",
              "      <th>4</th>\n",
              "      <td>10, 3rd Floor, Lakshmi Associates, Gandhi Baza...</td>\n",
              "      <td>Grand Village</td>\n",
              "      <td>0</td>\n",
              "      <td>0</td>\n",
              "      <td>3.8</td>\n",
              "      <td>166</td>\n",
              "      <td>4</td>\n",
              "      <td>20</td>\n",
              "      <td>Panipuri, Gol Gappe</td>\n",
              "      <td>1406</td>\n",
              "      <td>600.0</td>\n",
              "      <td>[('Rated 4.0', 'RATED\\n  Very good restaurant ...</td>\n",
              "      <td>5047</td>\n",
              "      <td>Buffet</td>\n",
              "      <td>Banashankari</td>\n",
              "    </tr>\n",
              "  </tbody>\n",
              "</table>\n",
              "</div>\n",
              "      <button class=\"colab-df-convert\" onclick=\"convertToInteractive('df-517345f9-b299-4232-8623-b41b62fd01d2')\"\n",
              "              title=\"Convert this dataframe to an interactive table.\"\n",
              "              style=\"display:none;\">\n",
              "        \n",
              "  <svg xmlns=\"http://www.w3.org/2000/svg\" height=\"24px\"viewBox=\"0 0 24 24\"\n",
              "       width=\"24px\">\n",
              "    <path d=\"M0 0h24v24H0V0z\" fill=\"none\"/>\n",
              "    <path d=\"M18.56 5.44l.94 2.06.94-2.06 2.06-.94-2.06-.94-.94-2.06-.94 2.06-2.06.94zm-11 1L8.5 8.5l.94-2.06 2.06-.94-2.06-.94L8.5 2.5l-.94 2.06-2.06.94zm10 10l.94 2.06.94-2.06 2.06-.94-2.06-.94-.94-2.06-.94 2.06-2.06.94z\"/><path d=\"M17.41 7.96l-1.37-1.37c-.4-.4-.92-.59-1.43-.59-.52 0-1.04.2-1.43.59L10.3 9.45l-7.72 7.72c-.78.78-.78 2.05 0 2.83L4 21.41c.39.39.9.59 1.41.59.51 0 1.02-.2 1.41-.59l7.78-7.78 2.81-2.81c.8-.78.8-2.07 0-2.86zM5.41 20L4 18.59l7.72-7.72 1.47 1.35L5.41 20z\"/>\n",
              "  </svg>\n",
              "      </button>\n",
              "      \n",
              "  <style>\n",
              "    .colab-df-container {\n",
              "      display:flex;\n",
              "      flex-wrap:wrap;\n",
              "      gap: 12px;\n",
              "    }\n",
              "\n",
              "    .colab-df-convert {\n",
              "      background-color: #E8F0FE;\n",
              "      border: none;\n",
              "      border-radius: 50%;\n",
              "      cursor: pointer;\n",
              "      display: none;\n",
              "      fill: #1967D2;\n",
              "      height: 32px;\n",
              "      padding: 0 0 0 0;\n",
              "      width: 32px;\n",
              "    }\n",
              "\n",
              "    .colab-df-convert:hover {\n",
              "      background-color: #E2EBFA;\n",
              "      box-shadow: 0px 1px 2px rgba(60, 64, 67, 0.3), 0px 1px 3px 1px rgba(60, 64, 67, 0.15);\n",
              "      fill: #174EA6;\n",
              "    }\n",
              "\n",
              "    [theme=dark] .colab-df-convert {\n",
              "      background-color: #3B4455;\n",
              "      fill: #D2E3FC;\n",
              "    }\n",
              "\n",
              "    [theme=dark] .colab-df-convert:hover {\n",
              "      background-color: #434B5C;\n",
              "      box-shadow: 0px 1px 3px 1px rgba(0, 0, 0, 0.15);\n",
              "      filter: drop-shadow(0px 1px 2px rgba(0, 0, 0, 0.3));\n",
              "      fill: #FFFFFF;\n",
              "    }\n",
              "  </style>\n",
              "\n",
              "      <script>\n",
              "        const buttonEl =\n",
              "          document.querySelector('#df-517345f9-b299-4232-8623-b41b62fd01d2 button.colab-df-convert');\n",
              "        buttonEl.style.display =\n",
              "          google.colab.kernel.accessAllowed ? 'block' : 'none';\n",
              "\n",
              "        async function convertToInteractive(key) {\n",
              "          const element = document.querySelector('#df-517345f9-b299-4232-8623-b41b62fd01d2');\n",
              "          const dataTable =\n",
              "            await google.colab.kernel.invokeFunction('convertToInteractive',\n",
              "                                                     [key], {});\n",
              "          if (!dataTable) return;\n",
              "\n",
              "          const docLinkHtml = 'Like what you see? Visit the ' +\n",
              "            '<a target=\"_blank\" href=https://colab.research.google.com/notebooks/data_table.ipynb>data table notebook</a>'\n",
              "            + ' to learn more about interactive tables.';\n",
              "          element.innerHTML = '';\n",
              "          dataTable['output_type'] = 'display_data';\n",
              "          await google.colab.output.renderOutput(dataTable, element);\n",
              "          const docLink = document.createElement('div');\n",
              "          docLink.innerHTML = docLinkHtml;\n",
              "          element.appendChild(docLink);\n",
              "        }\n",
              "      </script>\n",
              "    </div>\n",
              "  </div>\n",
              "  "
            ]
          },
          "metadata": {},
          "execution_count": 129
        }
      ]
    },
    {
      "cell_type": "code",
      "source": [
        "my_data=df.iloc[:,[2,3,4,5,6,7,9,10,12]]\n",
        "my_data.to_csv('Zomato_df.csv')"
      ],
      "metadata": {
        "id": "J_1Utz4tFHL_"
      },
      "execution_count": null,
      "outputs": []
    },
    {
      "cell_type": "code",
      "source": [
        "x = df.iloc[:,[2,3,5,6,7,9,10,12]]\n",
        "x.head()"
      ],
      "metadata": {
        "colab": {
          "base_uri": "https://localhost:8080/",
          "height": 206
        },
        "id": "ZJZ7cNKfFJ__",
        "outputId": "7753526e-e7a5-49fb-ef86-f46ef3b30794"
      },
      "execution_count": null,
      "outputs": [
        {
          "output_type": "execute_result",
          "data": {
            "text/plain": [
              "   online_order  book_table  votes  location  rest_type  cuisines   cost  \\\n",
              "0             1           1    775         1         20      1386  800.0   \n",
              "1             1           0    787         1         20       594  800.0   \n",
              "2             1           0    918         1         16       484  800.0   \n",
              "3             0           0     88         1         62      1587  300.0   \n",
              "4             0           0    166         4         20      1406  600.0   \n",
              "\n",
              "   menu_item  \n",
              "0       5047  \n",
              "1       5047  \n",
              "2       5047  \n",
              "3       5047  \n",
              "4       5047  "
            ],
            "text/html": [
              "\n",
              "  <div id=\"df-54750a8c-c823-4b73-a329-af1ae334f7fb\">\n",
              "    <div class=\"colab-df-container\">\n",
              "      <div>\n",
              "<style scoped>\n",
              "    .dataframe tbody tr th:only-of-type {\n",
              "        vertical-align: middle;\n",
              "    }\n",
              "\n",
              "    .dataframe tbody tr th {\n",
              "        vertical-align: top;\n",
              "    }\n",
              "\n",
              "    .dataframe thead th {\n",
              "        text-align: right;\n",
              "    }\n",
              "</style>\n",
              "<table border=\"1\" class=\"dataframe\">\n",
              "  <thead>\n",
              "    <tr style=\"text-align: right;\">\n",
              "      <th></th>\n",
              "      <th>online_order</th>\n",
              "      <th>book_table</th>\n",
              "      <th>votes</th>\n",
              "      <th>location</th>\n",
              "      <th>rest_type</th>\n",
              "      <th>cuisines</th>\n",
              "      <th>cost</th>\n",
              "      <th>menu_item</th>\n",
              "    </tr>\n",
              "  </thead>\n",
              "  <tbody>\n",
              "    <tr>\n",
              "      <th>0</th>\n",
              "      <td>1</td>\n",
              "      <td>1</td>\n",
              "      <td>775</td>\n",
              "      <td>1</td>\n",
              "      <td>20</td>\n",
              "      <td>1386</td>\n",
              "      <td>800.0</td>\n",
              "      <td>5047</td>\n",
              "    </tr>\n",
              "    <tr>\n",
              "      <th>1</th>\n",
              "      <td>1</td>\n",
              "      <td>0</td>\n",
              "      <td>787</td>\n",
              "      <td>1</td>\n",
              "      <td>20</td>\n",
              "      <td>594</td>\n",
              "      <td>800.0</td>\n",
              "      <td>5047</td>\n",
              "    </tr>\n",
              "    <tr>\n",
              "      <th>2</th>\n",
              "      <td>1</td>\n",
              "      <td>0</td>\n",
              "      <td>918</td>\n",
              "      <td>1</td>\n",
              "      <td>16</td>\n",
              "      <td>484</td>\n",
              "      <td>800.0</td>\n",
              "      <td>5047</td>\n",
              "    </tr>\n",
              "    <tr>\n",
              "      <th>3</th>\n",
              "      <td>0</td>\n",
              "      <td>0</td>\n",
              "      <td>88</td>\n",
              "      <td>1</td>\n",
              "      <td>62</td>\n",
              "      <td>1587</td>\n",
              "      <td>300.0</td>\n",
              "      <td>5047</td>\n",
              "    </tr>\n",
              "    <tr>\n",
              "      <th>4</th>\n",
              "      <td>0</td>\n",
              "      <td>0</td>\n",
              "      <td>166</td>\n",
              "      <td>4</td>\n",
              "      <td>20</td>\n",
              "      <td>1406</td>\n",
              "      <td>600.0</td>\n",
              "      <td>5047</td>\n",
              "    </tr>\n",
              "  </tbody>\n",
              "</table>\n",
              "</div>\n",
              "      <button class=\"colab-df-convert\" onclick=\"convertToInteractive('df-54750a8c-c823-4b73-a329-af1ae334f7fb')\"\n",
              "              title=\"Convert this dataframe to an interactive table.\"\n",
              "              style=\"display:none;\">\n",
              "        \n",
              "  <svg xmlns=\"http://www.w3.org/2000/svg\" height=\"24px\"viewBox=\"0 0 24 24\"\n",
              "       width=\"24px\">\n",
              "    <path d=\"M0 0h24v24H0V0z\" fill=\"none\"/>\n",
              "    <path d=\"M18.56 5.44l.94 2.06.94-2.06 2.06-.94-2.06-.94-.94-2.06-.94 2.06-2.06.94zm-11 1L8.5 8.5l.94-2.06 2.06-.94-2.06-.94L8.5 2.5l-.94 2.06-2.06.94zm10 10l.94 2.06.94-2.06 2.06-.94-2.06-.94-.94-2.06-.94 2.06-2.06.94z\"/><path d=\"M17.41 7.96l-1.37-1.37c-.4-.4-.92-.59-1.43-.59-.52 0-1.04.2-1.43.59L10.3 9.45l-7.72 7.72c-.78.78-.78 2.05 0 2.83L4 21.41c.39.39.9.59 1.41.59.51 0 1.02-.2 1.41-.59l7.78-7.78 2.81-2.81c.8-.78.8-2.07 0-2.86zM5.41 20L4 18.59l7.72-7.72 1.47 1.35L5.41 20z\"/>\n",
              "  </svg>\n",
              "      </button>\n",
              "      \n",
              "  <style>\n",
              "    .colab-df-container {\n",
              "      display:flex;\n",
              "      flex-wrap:wrap;\n",
              "      gap: 12px;\n",
              "    }\n",
              "\n",
              "    .colab-df-convert {\n",
              "      background-color: #E8F0FE;\n",
              "      border: none;\n",
              "      border-radius: 50%;\n",
              "      cursor: pointer;\n",
              "      display: none;\n",
              "      fill: #1967D2;\n",
              "      height: 32px;\n",
              "      padding: 0 0 0 0;\n",
              "      width: 32px;\n",
              "    }\n",
              "\n",
              "    .colab-df-convert:hover {\n",
              "      background-color: #E2EBFA;\n",
              "      box-shadow: 0px 1px 2px rgba(60, 64, 67, 0.3), 0px 1px 3px 1px rgba(60, 64, 67, 0.15);\n",
              "      fill: #174EA6;\n",
              "    }\n",
              "\n",
              "    [theme=dark] .colab-df-convert {\n",
              "      background-color: #3B4455;\n",
              "      fill: #D2E3FC;\n",
              "    }\n",
              "\n",
              "    [theme=dark] .colab-df-convert:hover {\n",
              "      background-color: #434B5C;\n",
              "      box-shadow: 0px 1px 3px 1px rgba(0, 0, 0, 0.15);\n",
              "      filter: drop-shadow(0px 1px 2px rgba(0, 0, 0, 0.3));\n",
              "      fill: #FFFFFF;\n",
              "    }\n",
              "  </style>\n",
              "\n",
              "      <script>\n",
              "        const buttonEl =\n",
              "          document.querySelector('#df-54750a8c-c823-4b73-a329-af1ae334f7fb button.colab-df-convert');\n",
              "        buttonEl.style.display =\n",
              "          google.colab.kernel.accessAllowed ? 'block' : 'none';\n",
              "\n",
              "        async function convertToInteractive(key) {\n",
              "          const element = document.querySelector('#df-54750a8c-c823-4b73-a329-af1ae334f7fb');\n",
              "          const dataTable =\n",
              "            await google.colab.kernel.invokeFunction('convertToInteractive',\n",
              "                                                     [key], {});\n",
              "          if (!dataTable) return;\n",
              "\n",
              "          const docLinkHtml = 'Like what you see? Visit the ' +\n",
              "            '<a target=\"_blank\" href=https://colab.research.google.com/notebooks/data_table.ipynb>data table notebook</a>'\n",
              "            + ' to learn more about interactive tables.';\n",
              "          element.innerHTML = '';\n",
              "          dataTable['output_type'] = 'display_data';\n",
              "          await google.colab.output.renderOutput(dataTable, element);\n",
              "          const docLink = document.createElement('div');\n",
              "          docLink.innerHTML = docLinkHtml;\n",
              "          element.appendChild(docLink);\n",
              "        }\n",
              "      </script>\n",
              "    </div>\n",
              "  </div>\n",
              "  "
            ]
          },
          "metadata": {},
          "execution_count": 131
        }
      ]
    },
    {
      "cell_type": "code",
      "source": [
        "y = df['rate']\n",
        "y"
      ],
      "metadata": {
        "colab": {
          "base_uri": "https://localhost:8080/"
        },
        "id": "k2WqUszAFMZz",
        "outputId": "97629e25-376c-4825-8a25-2d7413f366e3"
      },
      "execution_count": null,
      "outputs": [
        {
          "output_type": "execute_result",
          "data": {
            "text/plain": [
              "0        4.1\n",
              "1        4.1\n",
              "2        3.8\n",
              "3        3.7\n",
              "4        3.8\n",
              "        ... \n",
              "23243    3.8\n",
              "23244    3.9\n",
              "23245    2.8\n",
              "23246    2.5\n",
              "23247    4.3\n",
              "Name: rate, Length: 23248, dtype: float64"
            ]
          },
          "metadata": {},
          "execution_count": 132
        }
      ]
    },
    {
      "cell_type": "code",
      "source": [
        "x_train,x_test,y_train,y_test=train_test_split(x,y,test_size=.3,random_state=10)"
      ],
      "metadata": {
        "id": "AMqBIZlBFPTi"
      },
      "execution_count": null,
      "outputs": []
    },
    {
      "cell_type": "markdown",
      "source": [
        "**Linear Regression**"
      ],
      "metadata": {
        "id": "z6hA-541FUVE"
      }
    },
    {
      "cell_type": "code",
      "source": [
        "lr_model=LinearRegression()\n",
        "lr_model.fit(x_train,y_train)"
      ],
      "metadata": {
        "colab": {
          "base_uri": "https://localhost:8080/"
        },
        "id": "xGZVjJGCFSGb",
        "outputId": "1eeb07ee-a78d-4aa2-d3cd-3bb4b37fdb61"
      },
      "execution_count": null,
      "outputs": [
        {
          "output_type": "execute_result",
          "data": {
            "text/plain": [
              "LinearRegression()"
            ]
          },
          "metadata": {},
          "execution_count": 134
        }
      ]
    },
    {
      "cell_type": "code",
      "source": [
        "from sklearn.metrics import r2_score\n",
        "y_pred=lr_model.predict(x_test)\n",
        "r2_score(y_test,y_pred)"
      ],
      "metadata": {
        "colab": {
          "base_uri": "https://localhost:8080/"
        },
        "id": "hcD0XT_aFY0u",
        "outputId": "39e6d289-4233-4447-cd91-fda869b7ad0a"
      },
      "execution_count": null,
      "outputs": [
        {
          "output_type": "execute_result",
          "data": {
            "text/plain": [
              "0.2281882852296705"
            ]
          },
          "metadata": {},
          "execution_count": 135
        }
      ]
    },
    {
      "cell_type": "markdown",
      "source": [
        "**Random Forest**"
      ],
      "metadata": {
        "id": "wgGs_d2VFfcx"
      }
    },
    {
      "cell_type": "code",
      "source": [
        "#from sklearn.tree import DecisionTreeRegressor\n",
        "     "
      ],
      "metadata": {
        "id": "-etudvSMFb6M"
      },
      "execution_count": null,
      "outputs": []
    },
    {
      "cell_type": "code",
      "source": [
        "from sklearn.ensemble import RandomForestRegressor\n",
        "RF_Model=RandomForestRegressor(n_estimators=650,random_state=245,min_samples_leaf=.0001)\n",
        "RF_Model.fit(x_train,y_train)\n",
        "y_predict=RF_Model.predict(x_test)\n",
        "r2_score(y_test,y_predict)\n",
        "     "
      ],
      "metadata": {
        "colab": {
          "base_uri": "https://localhost:8080/"
        },
        "id": "2cRZB20JFkq_",
        "outputId": "c6a2eb6d-6960-4c8f-c435-236df94c1138"
      },
      "execution_count": null,
      "outputs": [
        {
          "output_type": "execute_result",
          "data": {
            "text/plain": [
              "0.8809706960047533"
            ]
          },
          "metadata": {},
          "execution_count": 137
        }
      ]
    },
    {
      "cell_type": "markdown",
      "source": [
        "**ExtraTree Regressor**"
      ],
      "metadata": {
        "id": "YrzWw3eIFqd2"
      }
    },
    {
      "cell_type": "code",
      "source": [
        "#Preparing Extra Tree Regression\n",
        "from sklearn.ensemble import  ExtraTreesRegressor\n",
        "ET_Model=ExtraTreesRegressor(n_estimators = 120)\n",
        "ET_Model.fit(x_train,y_train)\n",
        "y_predict=ET_Model.predict(x_test)\n",
        "\n",
        "\n",
        "from sklearn.metrics import r2_score\n",
        "r2_score(y_test,y_predict)\n",
        "     "
      ],
      "metadata": {
        "colab": {
          "base_uri": "https://localhost:8080/"
        },
        "id": "lwhxW8r2Fm9F",
        "outputId": "d64bff37-ce0d-4cad-c0c0-5a64672f18e6"
      },
      "execution_count": null,
      "outputs": [
        {
          "output_type": "execute_result",
          "data": {
            "text/plain": [
              "0.9323710740742749"
            ]
          },
          "metadata": {},
          "execution_count": 138
        }
      ]
    }
  ]
}